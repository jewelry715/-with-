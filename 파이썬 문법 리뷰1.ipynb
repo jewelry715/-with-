{
 "cells": [
  {
   "cell_type": "code",
   "execution_count": 1,
   "metadata": {},
   "outputs": [
    {
     "name": "stdout",
     "output_type": "stream",
     "text": [
      "Hello world!\n"
     ]
    }
   ],
   "source": [
    "print('Hello world!')"
   ]
  },
  {
   "cell_type": "markdown",
   "metadata": {},
   "source": [
    "### 주석처리"
   ]
  },
  {
   "cell_type": "code",
   "execution_count": 2,
   "metadata": {},
   "outputs": [
    {
     "data": {
      "text/plain": [
       "'\\nprint(\"여기서부터\")\\nprint(\\'여기까지 전부\\')\\nprint(\\'주석처리됩니다.\\')\\n'"
      ]
     },
     "execution_count": 2,
     "metadata": {},
     "output_type": "execute_result"
    }
   ],
   "source": [
    "'''\n",
    "print(\"여기서부터\")\n",
    "print('여기까지 전부')\n",
    "print('주석처리됩니다.')\n",
    "'''"
   ]
  },
  {
   "cell_type": "code",
   "execution_count": 3,
   "metadata": {},
   "outputs": [
    {
     "data": {
      "text/plain": [
       "'\\nprint(\"여기서부터\")\\nprint(\\'여기까지 전부\\')\\nprint(\\'주석처리됩니다.\\')\\n'"
      ]
     },
     "execution_count": 3,
     "metadata": {},
     "output_type": "execute_result"
    }
   ],
   "source": [
    "\"\"\"\n",
    "print(\"여기서부터\")\n",
    "print('여기까지 전부')\n",
    "print('주석처리됩니다.')\n",
    "\"\"\""
   ]
  },
  {
   "cell_type": "markdown",
   "metadata": {},
   "source": [
    "## print"
   ]
  },
  {
   "cell_type": "code",
   "execution_count": 4,
   "metadata": {},
   "outputs": [
    {
     "name": "stdout",
     "output_type": "stream",
     "text": [
      "토끼야 안녕!\n"
     ]
    }
   ],
   "source": [
    "print('토끼야 안녕!')"
   ]
  },
  {
   "cell_type": "code",
   "execution_count": 5,
   "metadata": {},
   "outputs": [
    {
     "name": "stdout",
     "output_type": "stream",
     "text": [
      "정수출력: 123\n"
     ]
    }
   ],
   "source": [
    "x=123\n",
    "print('정수출력: %d' % x)"
   ]
  },
  {
   "cell_type": "code",
   "execution_count": 6,
   "metadata": {},
   "outputs": [
    {
     "name": "stdout",
     "output_type": "stream",
     "text": [
      "실수출력: 123.456000,123,123.5\n"
     ]
    }
   ],
   "source": [
    "x=123.456;\n",
    "print('실수출력: %f,%.0f,%.1f'%(x,x,x))"
   ]
  },
  {
   "cell_type": "code",
   "execution_count": 8,
   "metadata": {},
   "outputs": [
    {
     "name": "stdout",
     "output_type": "stream",
     "text": [
      "문자열출력:[Hello python.],[Hello python.Good morning.]\n"
     ]
    }
   ],
   "source": [
    "x='Hello python.'\n",
    "y='Good morning.'\n",
    "print('문자열출력:[%s],[%s]'%(x,x+y))"
   ]
  },
  {
   "cell_type": "code",
   "execution_count": 9,
   "metadata": {},
   "outputs": [
    {
     "name": "stdout",
     "output_type": "stream",
     "text": [
      "1\n",
      "-2\n",
      "3.14\n"
     ]
    }
   ],
   "source": [
    "print(1)\n",
    "print(-2)\n",
    "print(3.14)"
   ]
  },
  {
   "cell_type": "code",
   "execution_count": 10,
   "metadata": {},
   "outputs": [
    {
     "name": "stdout",
     "output_type": "stream",
     "text": [
      "3\n",
      "1\n",
      "8\n",
      "2.0\n"
     ]
    }
   ],
   "source": [
    "print(1+2)\n",
    "print(3-2)\n",
    "print(2*4)\n",
    "print(6/3)"
   ]
  },
  {
   "cell_type": "code",
   "execution_count": 11,
   "metadata": {},
   "outputs": [
    {
     "name": "stdout",
     "output_type": "stream",
     "text": [
      "25\n",
      "2\n",
      "1\n"
     ]
    }
   ],
   "source": [
    "print(5**2)\n",
    "print(5//2)\n",
    "print(5%2)"
   ]
  },
  {
   "cell_type": "code",
   "execution_count": 12,
   "metadata": {},
   "outputs": [
    {
     "name": "stdout",
     "output_type": "stream",
     "text": [
      "10\n",
      "18\n",
      "16\n",
      "4\n"
     ]
    }
   ],
   "source": [
    "print(3+7)\n",
    "print(6*3)\n",
    "print(4**2)\n",
    "print(9%5) #나머지값 출력에 이용. 몫은 //을 사용"
   ]
  },
  {
   "cell_type": "code",
   "execution_count": 13,
   "metadata": {},
   "outputs": [
    {
     "name": "stdout",
     "output_type": "stream",
     "text": [
      "for 연습: 0\n",
      "for 연습: 1\n",
      "for 연습: 2\n",
      "H\n",
      "e\n",
      "l\n",
      "l\n",
      "o\n",
      "[rm]\n",
      "[jin]\n",
      "[suga]\n",
      "[j-hope]\n",
      "[v]\n",
      "[jimin]\n",
      "[jungkook]\n",
      "[0][rm]\n",
      "[1][jin]\n",
      "[2][suga]\n",
      "[3][j-hope]\n",
      "[4][v]\n",
      "[5][jimin]\n",
      "[6][jungkook]\n"
     ]
    }
   ],
   "source": [
    "for x in range(0,3):\n",
    "    print('for 연습: %d' % x)\n",
    "\n",
    "string='Hello'\n",
    "for x in string:\n",
    "    print(x)\n",
    "    \n",
    "bts=['rm','jin','suga','j-hope','v','jimin','jungkook']\n",
    "for x in bts:\n",
    "    print('[%s]'%x)\n",
    "    \n",
    "#인덱스값과 함께:\n",
    "for i,x in enumerate(bts):\n",
    "    print('[%d][%s]'%(i,x))"
   ]
  },
  {
   "cell_type": "markdown",
   "metadata": {},
   "source": [
    "## 조건문"
   ]
  },
  {
   "cell_type": "code",
   "execution_count": 16,
   "metadata": {},
   "outputs": [
    {
     "name": "stdout",
     "output_type": "stream",
     "text": [
      "값은 10입니다\n"
     ]
    }
   ],
   "source": [
    "a=10\n",
    "if a>10:\n",
    "    print('값은 10보다 큽니다')\n",
    "elif a==10:\n",
    "    print('값은 10입니다')\n",
    "else:\n",
    "    print('값은 10보다 작습니다.')"
   ]
  },
  {
   "cell_type": "code",
   "execution_count": 23,
   "metadata": {},
   "outputs": [
    {
     "name": "stdout",
     "output_type": "stream",
     "text": [
      "rm은 귀엽네요.\n",
      "jin은 귀엽지만 좀 크네요.\n",
      "suga는 본 적이 없어요.\n",
      "j-hope은 귀엽지만 좀 크네요.\n",
      "v는 본 적이 없어요.\n",
      "jimin은 귀엽네요.\n",
      "jungkook은 귀엽지만 좀 크네요.\n"
     ]
    }
   ],
   "source": [
    "for x in bts:\n",
    "    if x in ['rm','jimin']:\n",
    "        print('%s은 귀엽네요.'%x)\n",
    "    elif x in ['jungkook','j-hope','jin']:\n",
    "        print('%s은 귀엽지만 좀 크네요.'%x)\n",
    "    else:\n",
    "        print('%s는 본 적이 없어요.'%x)"
   ]
  },
  {
   "cell_type": "code",
   "execution_count": 24,
   "metadata": {},
   "outputs": [
    {
     "name": "stdout",
     "output_type": "stream",
     "text": [
      "3x1 = 3\n",
      "3x2 = 6\n",
      "3x3 = 9\n",
      "3x4 = 12\n",
      "3x5 = 15\n",
      "3x6 = 18\n",
      "3x7 = 21\n",
      "3x8 = 24\n",
      "3x9 = 27\n"
     ]
    }
   ],
   "source": [
    "count=1\n",
    "while count <10:\n",
    "    print('3x%d = %d'%(count,3*count))\n",
    "    count=count+1"
   ]
  },
  {
   "cell_type": "code",
   "execution_count": 30,
   "metadata": {},
   "outputs": [
    {
     "name": "stdout",
     "output_type": "stream",
     "text": [
      "c: 100 + 200 = 300\n",
      "d: 100 + 200 = -100\n",
      "e: 100 + 200 = -100\n",
      "f :  (300, -100)\n"
     ]
    }
   ],
   "source": [
    "def sum_diff(a,b):\n",
    "    return a+b,a-b\n",
    "\n",
    "a=100\n",
    "b=200\n",
    "c,d=sum_diff(a,b)\n",
    "print('c: %d + %d = %d'%(a,b,c))\n",
    "print('d: %d + %d = %d'%(a,b,d))\n",
    "\n",
    "_,e=sum_diff(a,b)\n",
    "print('e: %d + %d = %d'%(a,b,e))\n",
    "f=sum_diff(a,b)\n",
    "print('f : ',f)"
   ]
  },
  {
   "cell_type": "code",
   "execution_count": 34,
   "metadata": {},
   "outputs": [
    {
     "name": "stdout",
     "output_type": "stream",
     "text": [
      "sum : 10+20=30\n"
     ]
    }
   ],
   "source": [
    "a=10\n",
    "b=20\n",
    "print ('sum : %d+%d=%d'%(a,b,a+b))"
   ]
  },
  {
   "cell_type": "code",
   "execution_count": 35,
   "metadata": {},
   "outputs": [
    {
     "name": "stdout",
     "output_type": "stream",
     "text": [
      "[1, 2, 3]\n"
     ]
    }
   ],
   "source": [
    "a=[1,2,3]\n",
    "b=[4,5,6]\n",
    "print(a)"
   ]
  },
  {
   "cell_type": "code",
   "execution_count": 36,
   "metadata": {},
   "outputs": [
    {
     "name": "stdout",
     "output_type": "stream",
     "text": [
      "[1, 2, 3, 4, 5, 6]\n",
      "['rm', 'jin', 'suga', 'j-hope', 'v', 'jimin', 'jungkook']\n",
      "멤버 수 :  7\n",
      "'rm'의 수 =  1\n",
      "잘라내기[0:2] =  ['rm', 'jin']\n",
      "잘라내기[:] =  ['rm', 'jin', 'suga', 'j-hope', 'v', 'jimin', 'jungkook']\n",
      "잘라내기[:-1] =  ['rm', 'jin', 'suga', 'j-hope', 'v', 'jimin']\n"
     ]
    }
   ],
   "source": [
    "print(a+b)\n",
    "print(bts)\n",
    "print(\"멤버 수 : \",len(bts))\n",
    "print(\"'rm'의 수 = \",bts.count('rm'))\n",
    "\n",
    "print('잘라내기[0:2] = ',bts[0:2])\n",
    "print('잘라내기[:] = ',bts[:])\n",
    "print('잘라내기[:-1] = ',bts[:-1])"
   ]
  },
  {
   "cell_type": "code",
   "execution_count": 37,
   "metadata": {},
   "outputs": [
    {
     "name": "stdout",
     "output_type": "stream",
     "text": [
      "dict['이름']= 김소정\n"
     ]
    }
   ],
   "source": [
    "dict={'이름':'김소정','견종':'먼지','나이:':26}\n",
    "print(\"dict['이름']=\",dict['이름'])"
   ]
  },
  {
   "cell_type": "code",
   "execution_count": 38,
   "metadata": {},
   "outputs": [
    {
     "name": "stdout",
     "output_type": "stream",
     "text": [
      "w1 :  69\n"
     ]
    }
   ],
   "source": [
    "import random\n",
    "weights={\n",
    "    'w1':random.randint(1,101),\n",
    "    'w2':random.randint(1,101),\n",
    "    'w3':300\n",
    "}\n",
    "print('w1 : ',weights['w1'])"
   ]
  },
  {
   "cell_type": "code",
   "execution_count": 40,
   "metadata": {},
   "outputs": [
    {
     "name": "stdout",
     "output_type": "stream",
     "text": [
      "무기 공격 방어\n"
     ]
    }
   ],
   "source": [
    "class Weapon:\n",
    "    def __init__(self):\n",
    "        self.name='무기'\n",
    "    def attach(self):\n",
    "        return '공격'\n",
    "    def defense(self):\n",
    "        return '방어'\n",
    "    \n",
    "w=Weapon()\n",
    "print(w.name,w.attach(),w.defense())"
   ]
  },
  {
   "cell_type": "code",
   "execution_count": 41,
   "metadata": {},
   "outputs": [
    {
     "name": "stdout",
     "output_type": "stream",
     "text": [
      "총 빵빵 방어\n",
      "총 빵야빵야 방어\n"
     ]
    }
   ],
   "source": [
    "class Gun(Weapon): #상속\n",
    "    def __init__(self):\n",
    "        self.name='총'\n",
    "    def attach(self,sound='빵빵'):\n",
    "        return sound\n",
    "    \n",
    "g=Gun()\n",
    "print(g.name,g.attach(),g.defense())\n",
    "print(g.name,g.attach(sound='빵야빵야'),g.defense())"
   ]
  },
  {
   "cell_type": "code",
   "execution_count": 42,
   "metadata": {},
   "outputs": [
    {
     "name": "stdout",
     "output_type": "stream",
     "text": [
      "good\n",
      "morning\n"
     ]
    }
   ],
   "source": [
    "a=10\n",
    "if a==10:\n",
    "    print('good')\n",
    "if a>=2:\n",
    "    print('morning')"
   ]
  },
  {
   "cell_type": "code",
   "execution_count": 43,
   "metadata": {},
   "outputs": [
    {
     "name": "stdout",
     "output_type": "stream",
     "text": [
      "안녕\n"
     ]
    }
   ],
   "source": [
    "if a>5:\n",
    "    print('안녕')"
   ]
  },
  {
   "cell_type": "code",
   "execution_count": 44,
   "metadata": {},
   "outputs": [
    {
     "name": "stdout",
     "output_type": "stream",
     "text": [
      "[1 2 3 4]\n",
      "['1' '2' '3' '4']\n",
      "[1. 2. 3. 4.]\n"
     ]
    }
   ],
   "source": [
    "import numpy as np\n",
    "lst=[1,2,3,4]\n",
    "arr1=np.array(lst,np.int)\n",
    "print(arr1)\n",
    "arr2=np.array(lst,np.str)\n",
    "print(arr2)\n",
    "arr3=np.array(lst,np.float)\n",
    "print(arr3)"
   ]
  },
  {
   "cell_type": "code",
   "execution_count": 45,
   "metadata": {},
   "outputs": [
    {
     "name": "stdout",
     "output_type": "stream",
     "text": [
      "5\n",
      "0\n"
     ]
    }
   ],
   "source": [
    "arr=np.array(5)\n",
    "print(arr)\n",
    "print(arr.ndim)"
   ]
  },
  {
   "cell_type": "code",
   "execution_count": 46,
   "metadata": {},
   "outputs": [
    {
     "name": "stdout",
     "output_type": "stream",
     "text": [
      "[1 2 3 4]\n",
      "1\n"
     ]
    }
   ],
   "source": [
    "arr=np.array(lst)\n",
    "print(arr)\n",
    "print(arr.ndim)"
   ]
  },
  {
   "cell_type": "code",
   "execution_count": 47,
   "metadata": {},
   "outputs": [
    {
     "name": "stdout",
     "output_type": "stream",
     "text": [
      "[[1 2]\n",
      " [3 4]]\n",
      "2\n"
     ]
    }
   ],
   "source": [
    "lst=[[1,2],[3,4]]\n",
    "arr=np.array(lst)\n",
    "print(arr)\n",
    "print(arr.ndim)"
   ]
  },
  {
   "cell_type": "code",
   "execution_count": 48,
   "metadata": {},
   "outputs": [
    {
     "name": "stdout",
     "output_type": "stream",
     "text": [
      "shape :  (3, 5, 2)\n",
      "size :  30\n",
      "dtype :  int32\n"
     ]
    }
   ],
   "source": [
    "arr=np.zeros((3,5,2),dtype=np.int)\n",
    "print('shape : ',arr.shape)\n",
    "print('size : ',arr.size)\n",
    "print('dtype : ',arr.dtype)"
   ]
  },
  {
   "cell_type": "code",
   "execution_count": 49,
   "metadata": {},
   "outputs": [
    {
     "name": "stdout",
     "output_type": "stream",
     "text": [
      "origin :  [1 2 3 4]\n",
      "after :  [[1 2]\n",
      " [3 4]]\n"
     ]
    }
   ],
   "source": [
    "arr=np.array([1,2,3,4])\n",
    "print('origin : ',arr)\n",
    "arr=arr.reshape(2,2)\n",
    "print('after : ',arr)"
   ]
  },
  {
   "cell_type": "code",
   "execution_count": 50,
   "metadata": {},
   "outputs": [
    {
     "name": "stdout",
     "output_type": "stream",
     "text": [
      "rank 0. Scalar =  483\n",
      "rank 1. shape =  (3,)\n",
      "rank 1. Items = \n",
      " [1.1 2.2 3.3]\n",
      "rank 2. shape =  (2, 3)\n",
      "rank 2. Items = \n",
      " [[1 2 3]\n",
      " [4 5 6]]\n",
      "rank 3. shape =  (4, 3, 1)\n",
      "rank 3. Items = \n",
      " [[[ 2]\n",
      "  [ 4]\n",
      "  [ 6]]\n",
      "\n",
      " [[ 8]\n",
      "  [10]\n",
      "  [12]]\n",
      "\n",
      " [[14]\n",
      "  [16]\n",
      "  [18]]\n",
      "\n",
      " [[20]\n",
      "  [22]\n",
      "  [24]]]\n",
      "rank 3.(2nd) shape =  (4, 3, 2)\n",
      "rank 3.(2nd) Items = \n",
      " [[[ 2  1]\n",
      "  [ 4  1]\n",
      "  [ 6  1]]\n",
      "\n",
      " [[ 8  1]\n",
      "  [10  1]\n",
      "  [12  1]]\n",
      "\n",
      " [[14  1]\n",
      "  [16  1]\n",
      "  [18  1]]\n",
      "\n",
      " [[20  1]\n",
      "  [22  1]\n",
      "  [24  1]]]\n"
     ]
    }
   ],
   "source": [
    "s=483\n",
    "print('rank 0. Scalar = ',s)\n",
    "v=np.array([1.1,2.2,3.3])\n",
    "print('rank 1. shape = ',v.shape)\n",
    "print('rank 1. Items = \\n',v)\n",
    "\n",
    "m=np.array([[1,2,3],[4,5,6]])\n",
    "print('rank 2. shape = ',m.shape)\n",
    "print('rank 2. Items = \\n',m)\n",
    "\n",
    "t=np.array([[[2],[4],[6]],[[8],[10],[12]],[[14],[16],[18]],[[20],[22],[24]]])\n",
    "print('rank 3. shape = ',t.shape)\n",
    "print('rank 3. Items = \\n',t)\n",
    "\n",
    "t=np.array([[[2,1],[4,1],[6,1]],[[8,1],[10,1],[12,1]],\n",
    "            [[14,1],[16,1],[18,1]],[[20,1],[22,1],[24,1]]])\n",
    "print('rank 3.(2nd) shape = ',t.shape)\n",
    "print('rank 3.(2nd) Items = \\n',t)"
   ]
  },
  {
   "cell_type": "code",
   "execution_count": 51,
   "metadata": {},
   "outputs": [
    {
     "name": "stdout",
     "output_type": "stream",
     "text": [
      "[[0. 0.]\n",
      " [0. 0.]\n",
      " [0. 0.]]\n",
      "[[1. 1.]\n",
      " [1. 1.]\n",
      " [1. 1.]\n",
      " [1. 1.]]\n",
      "[[7 7 7]\n",
      " [7 7 7]]\n",
      "[[1. 0. 0. 0. 0.]\n",
      " [0. 1. 0. 0. 0.]\n",
      " [0. 0. 1. 0. 0.]\n",
      " [0. 0. 0. 1. 0.]\n",
      " [0. 0. 0. 0. 1.]]\n",
      "[[0.45330205 0.59105582]\n",
      " [0.86147701 0.64209285]]\n"
     ]
    }
   ],
   "source": [
    "a=np.zeros((3,2))\n",
    "print(a)\n",
    "b=np.ones((4,2))\n",
    "print(b)\n",
    "c=np.full((2,3),7)\n",
    "print(c)\n",
    "d=np.eye(5)\n",
    "print(d)\n",
    "e=np.random.random((2,2))\n",
    "print(e)"
   ]
  },
  {
   "cell_type": "code",
   "execution_count": 52,
   "metadata": {},
   "outputs": [
    {
     "name": "stdout",
     "output_type": "stream",
     "text": [
      "[[ 6  8]\n",
      " [10 12]]\n",
      "[[4 4]\n",
      " [4 4]]\n",
      "[[ 5 12]\n",
      " [21 32]]\n",
      "[[0.2        0.33333333]\n",
      " [0.42857143 0.5       ]]\n",
      "[[19 22]\n",
      " [43 50]]\n"
     ]
    }
   ],
   "source": [
    "a=np.array([[1,2],[3,4]])\n",
    "b=np.array([[5,6],[7,8]])\n",
    "print(a+b)\n",
    "print(b-a)\n",
    "print(a*b)\n",
    "print(a/b)\n",
    "print(a@b) #행렬곱셈"
   ]
  },
  {
   "cell_type": "code",
   "execution_count": 53,
   "metadata": {},
   "outputs": [
    {
     "name": "stdout",
     "output_type": "stream",
     "text": [
      "True\n"
     ]
    }
   ],
   "source": [
    "x=float('nan')\n",
    "print(np.isnan(x))"
   ]
  },
  {
   "cell_type": "code",
   "execution_count": 54,
   "metadata": {},
   "outputs": [
    {
     "data": {
      "image/png": "[encoded data removed]",
      "text/plain": [
       "<Figure size 432x288 with 1 Axes>"
      ]
     },
     "metadata": {
      "needs_background": "light"
     },
     "output_type": "display_data"
    }
   ],
   "source": [
    "import matplotlib.pyplot as plt\n",
    "plt.plot([1,2,3,4])\n",
    "plt.ylabel('some numbers')\n",
    "plt.show()"
   ]
  },
  {
   "cell_type": "code",
   "execution_count": 55,
   "metadata": {},
   "outputs": [
    {
     "data": {
      "image/png": "[encoded data removed]",
      "text/plain": [
       "<Figure size 432x288 with 1 Axes>"
      ]
     },
     "metadata": {
      "needs_background": "light"
     },
     "output_type": "display_data"
    }
   ],
   "source": [
    "plt.plot([1,2,3,4],[1,4,9,16],'ro')\n",
    "plt.axis([0,6,0,20])\n",
    "plt.show()"
   ]
  },
  {
   "cell_type": "code",
   "execution_count": 56,
   "metadata": {},
   "outputs": [
    {
     "data": {
      "image/png": "[encoded data removed]",
      "text/plain": [
       "<Figure size 432x288 with 1 Axes>"
      ]
     },
     "metadata": {
      "needs_background": "light"
     },
     "output_type": "display_data"
    }
   ],
   "source": [
    "plt.plot([1,2,3,4],[1,4,9,16],'mx')\n",
    "plt.axis([0,6,0,20])\n",
    "plt.show()"
   ]
  },
  {
   "cell_type": "code",
   "execution_count": 57,
   "metadata": {},
   "outputs": [
    {
     "data": {
      "image/png": "[encoded data removed]",
      "text/plain": [
       "<Figure size 432x288 with 1 Axes>"
      ]
     },
     "metadata": {
      "needs_background": "light"
     },
     "output_type": "display_data"
    }
   ],
   "source": [
    "plt.plot([1,2,3,4],[1,4,9,16],'c--')\n",
    "plt.axis([0,6,0,20])\n",
    "plt.show()"
   ]
  },
  {
   "cell_type": "code",
   "execution_count": 58,
   "metadata": {},
   "outputs": [
    {
     "data": {
      "image/png": "[encoded data removed]",
      "text/plain": [
       "<Figure size 432x288 with 1 Axes>"
      ]
     },
     "metadata": {
      "needs_background": "light"
     },
     "output_type": "display_data"
    }
   ],
   "source": [
    "plt.plot([1,2,3,4],[1,4,9,16],'k*')\n",
    "plt.axis([0,6,0,20])\n",
    "plt.show()"
   ]
  },
  {
   "cell_type": "code",
   "execution_count": 1,
   "metadata": {},
   "outputs": [
    {
     "name": "stdout",
     "output_type": "stream",
     "text": [
      "c =  Tensor(\"mul:0\", shape=(), dtype=float32)\n",
      "sess.run(c) =  30.0\n"
     ]
    }
   ],
   "source": [
    "import tensorflow as tf\n",
    "a=tf.constant(5.0)\n",
    "b=tf.constant(6.0)\n",
    "c=a*b\n",
    "print('c = ',c)\n",
    "\n",
    "sess=tf.Session()\n",
    "print('sess.run(c) = ',sess.run(c))"
   ]
  },
  {
   "cell_type": "code",
   "execution_count": 2,
   "metadata": {},
   "outputs": [],
   "source": [
    "x_train=[1,2,3,4]\n",
    "y_train=[6,5,7,10]\n",
    "\n",
    "W=tf.Variable(tf.random_normal([1]),name='weight')\n",
    "b=tf.Variable(tf.random_normal([1]),name='bias')\n",
    "\n",
    "hypothesis=x_train*W+b"
   ]
  },
  {
   "cell_type": "code",
   "execution_count": 3,
   "metadata": {},
   "outputs": [],
   "source": [
    "cost=tf.reduce_mean(tf.square(hypothesis-y_train))\n",
    "optimizer=tf.train.GradientDescentOptimizer(learning_rate=0.01)\n",
    "train=optimizer.minimize(cost)"
   ]
  },
  {
   "cell_type": "code",
   "execution_count": 4,
   "metadata": {},
   "outputs": [
    {
     "name": "stdout",
     "output_type": "stream",
     "text": [
      "0 30.555882 [0.3070819] [0.939584]\n",
      "1 21.71642 [0.5990404] [1.0454383]\n",
      "2 15.581751 [0.8419124] [1.1345775]\n",
      "3 11.323889 [1.0438967] [1.2097903]\n",
      "4 8.368309 [1.2118226] [1.2733997]\n",
      "5 6.316359 [1.3513793] [1.3273406]\n",
      "6 4.8914313 [1.4673053] [1.3732249]\n",
      "7 3.9015841 [1.5635482] [1.4123951]\n",
      "8 3.213637 [1.6433963] [1.4459698]\n",
      "9 2.7351792 [1.7095883] [1.4748806]\n",
      "10 2.402088 [1.764406] [1.4999036]\n",
      "11 2.1698704 [1.8097498] [1.5216852]\n",
      "12 2.0076532 [1.8472031] [1.5407641]\n",
      "13 1.8940141 [1.8780844] [1.5575887]\n",
      "14 1.814089 [1.9034923] [1.5725327]\n",
      "15 1.7575643 [1.9243418] [1.5859073]\n",
      "16 1.7172822 [1.9413952] [1.5979722]\n",
      "17 1.6882765 [1.9552873] [1.608943]\n",
      "18 1.6671033 [1.9665471] [1.6189997]\n",
      "19 1.6513696 [1.975615] [1.6282923]\n",
      "20 1.6394165 [1.9828582] [1.6369457]\n",
      "21 1.6300938 [1.9885821] [1.6450639]\n",
      "22 1.6226019 [1.9930416] [1.6527334]\n",
      "23 1.6163864 [1.9964488] [1.6600267]\n",
      "24 1.6110629 [1.9989802] [1.6670038]\n",
      "25 1.6063638 [2.000783] [1.6737146]\n",
      "26 1.6021047 [2.0019798] [1.6802012]\n",
      "27 1.5981565 [2.0026727] [1.6864982]\n",
      "28 1.5944301 [2.0029469] [1.6926346]\n",
      "29 1.5908632 [2.0028732] [1.6986345]\n",
      "30 1.5874134 [2.0025105] [1.7045182]\n",
      "31 1.58405 [2.001908] [1.7103024]\n",
      "32 1.5807532 [2.0011067] [1.7160009]\n",
      "33 1.5775079 [2.0001407] [1.7216256]\n",
      "34 1.5743037 [1.9990383] [1.7271861]\n",
      "35 1.5711341 [1.9978232] [1.7326905]\n",
      "36 1.5679942 [1.9965153] [1.7381455]\n",
      "37 1.5648804 [1.9951307] [1.7435567]\n",
      "38 1.5617903 [1.9936832] [1.748929]\n",
      "39 1.5587226 [1.9921843] [1.7542663]\n",
      "40 1.5556753 [1.9906433] [1.7595717]\n",
      "41 1.5526483 [1.9890682] [1.7648481]\n",
      "42 1.5496404 [1.9874655] [1.7700977]\n",
      "43 1.546651 [1.9858408] [1.7753226]\n",
      "44 1.5436803 [1.9841986] [1.780524]\n",
      "45 1.5407277 [1.9825425] [1.7857037]\n",
      "46 1.5377933 [1.980876] [1.7908624]\n",
      "47 1.5348763 [1.9792014] [1.7960014]\n",
      "48 1.5319772 [1.9775212] [1.8011214]\n",
      "49 1.5290952 [1.9758369] [1.8062229]\n",
      "50 1.5262305 [1.9741502] [1.8113066]\n",
      "51 1.5233833 [1.9724623] [1.816373]\n",
      "52 1.5205529 [1.9707743] [1.8214225]\n",
      "53 1.5177392 [1.969087] [1.8264552]\n",
      "54 1.5149429 [1.9674011] [1.8314718]\n",
      "55 1.5121628 [1.9657174] [1.8364723]\n",
      "56 1.5093998 [1.9640362] [1.841457]\n",
      "57 1.5066528 [1.9623579] [1.846426]\n",
      "58 1.503923 [1.9606829] [1.8513796]\n",
      "59 1.5012087 [1.9590114] [1.8563179]\n",
      "60 1.4985108 [1.9573438] [1.861241]\n",
      "61 1.4958293 [1.9556803] [1.866149]\n",
      "62 1.493164 [1.9540207] [1.871042]\n",
      "63 1.4905144 [1.9523655] [1.8759202]\n",
      "64 1.4878807 [1.9507147] [1.8807834]\n",
      "65 1.4852626 [1.9490683] [1.885632]\n",
      "66 1.4826604 [1.9474264] [1.890466]\n",
      "67 1.480073 [1.9457892] [1.8952854]\n",
      "68 1.4775017 [1.9441565] [1.9000902]\n",
      "69 1.474946 [1.9425285] [1.9048806]\n",
      "70 1.4724056 [1.9409052] [1.9096566]\n",
      "71 1.4698796 [1.9392866] [1.9144182]\n",
      "72 1.4673696 [1.9376727] [1.9191655]\n",
      "73 1.4648739 [1.9360635] [1.9238986]\n",
      "74 1.4623934 [1.9344591] [1.9286175]\n",
      "75 1.459928 [1.9328593] [1.9333222]\n",
      "76 1.4574766 [1.9312643] [1.9380128]\n",
      "77 1.4550405 [1.929674] [1.9426894]\n",
      "78 1.4526192 [1.9280884] [1.9473519]\n",
      "79 1.450212 [1.9265076] [1.9520005]\n",
      "80 1.4478189 [1.9249314] [1.9566351]\n",
      "81 1.4454405 [1.92336] [1.9612558]\n",
      "82 1.4430765 [1.9217932] [1.9658626]\n",
      "83 1.4407263 [1.9202311] [1.9704558]\n",
      "84 1.4383903 [1.9186736] [1.9750351]\n",
      "85 1.4360675 [1.9171208] [1.9796007]\n",
      "86 1.4337596 [1.9155726] [1.9841526]\n",
      "87 1.4314651 [1.9140291] [1.9886909]\n",
      "88 1.4291844 [1.9124902] [1.9932156]\n",
      "89 1.4269177 [1.9109559] [1.9977267]\n",
      "90 1.424664 [1.9094262] [2.0022244]\n",
      "91 1.4224238 [1.907901] [2.0067086]\n",
      "92 1.4201971 [1.9063804] [2.0111794]\n",
      "93 1.417984 [1.9048644] [2.015637]\n",
      "94 1.4157838 [1.903353] [2.020081]\n",
      "95 1.4135966 [1.9018459] [2.0245118]\n",
      "96 1.4114228 [1.9003434] [2.0289292]\n",
      "97 1.4092618 [1.8988454] [2.0333335]\n",
      "98 1.4071139 [1.897352] [2.0377245]\n",
      "99 1.4049786 [1.8958629] [2.0421023]\n",
      "100 1.4028565 [1.8943784] [2.046467]\n",
      "101 1.4007467 [1.8928983] [2.050819]\n",
      "102 1.3986497 [1.8914226] [2.0551577]\n",
      "103 1.3965652 [1.8899513] [2.0594833]\n",
      "104 1.3944932 [1.8884845] [2.063796]\n",
      "105 1.3924338 [1.887022] [2.068096]\n",
      "106 1.3903865 [1.885564] [2.072383]\n",
      "107 1.3883511 [1.8841102] [2.076657]\n",
      "108 1.3863282 [1.8826609] [2.0809183]\n",
      "109 1.3843172 [1.8812158] [2.085167]\n",
      "110 1.3823185 [1.879775] [2.089403]\n",
      "111 1.3803314 [1.8783387] [2.093626]\n",
      "112 1.3783567 [1.8769066] [2.0978365]\n",
      "113 1.3763933 [1.8754789] [2.1020343]\n",
      "114 1.3744419 [1.8740553] [2.1062198]\n",
      "115 1.3725023 [1.872636] [2.1103926]\n",
      "116 1.3705739 [1.871221] [2.114553]\n",
      "117 1.3686574 [1.8698101] [2.118701]\n",
      "118 1.366752 [1.8684036] [2.1228364]\n",
      "119 1.3648582 [1.8670012] [2.1269596]\n",
      "120 1.3629757 [1.865603] [2.1310704]\n",
      "121 1.3611046 [1.864209] [2.1351688]\n",
      "122 1.3592445 [1.8628192] [2.139255]\n",
      "123 1.3573955 [1.8614335] [2.143329]\n",
      "124 1.3555576 [1.860052] [2.1473906]\n",
      "125 1.353731 [1.8586746] [2.1514401]\n",
      "126 1.3519148 [1.8573015] [2.1554775]\n",
      "127 1.3501098 [1.8559324] [2.159503]\n",
      "128 1.3483155 [1.8545674] [2.1635163]\n",
      "129 1.3465319 [1.8532065] [2.1675177]\n",
      "130 1.344759 [1.8518497] [2.171507]\n",
      "131 1.3429967 [1.8504969] [2.1754842]\n",
      "132 1.3412449 [1.8491482] [2.1794496]\n",
      "133 1.3395036 [1.8478035] [2.1834033]\n",
      "134 1.3377728 [1.8464628] [2.187345]\n",
      "135 1.3360522 [1.8451262] [2.191275]\n",
      "136 1.334342 [1.8437935] [2.195193]\n",
      "137 1.332642 [1.8424648] [2.1990995]\n",
      "138 1.3309522 [1.8411402] [2.2029943]\n",
      "139 1.3292723 [1.8398194] [2.2068775]\n",
      "140 1.3276024 [1.8385026] [2.210749]\n",
      "141 1.3259428 [1.8371898] [2.214609]\n",
      "142 1.324293 [1.8358809] [2.2184572]\n",
      "143 1.322653 [1.8345759] [2.222294]\n",
      "144 1.3210227 [1.8332748] [2.2261195]\n",
      "145 1.3194023 [1.8319776] [2.2299335]\n",
      "146 1.3177916 [1.8306843] [2.233736]\n",
      "147 1.3161905 [1.8293948] [2.2375271]\n",
      "148 1.314599 [1.8281093] [2.2413068]\n",
      "149 1.313017 [1.8268275] [2.2450752]\n",
      "150 1.3114445 [1.8255496] [2.2488322]\n",
      "151 1.3098813 [1.8242755] [2.252578]\n",
      "152 1.3083277 [1.8230053] [2.2563126]\n",
      "153 1.3067833 [1.8217388] [2.260036]\n",
      "154 1.3052479 [1.8204762] [2.2637484]\n",
      "155 1.3037218 [1.8192173] [2.2674496]\n",
      "156 1.302205 [1.8179623] [2.2711399]\n",
      "157 1.300697 [1.816711] [2.274819]\n",
      "158 1.2991983 [1.8154633] [2.278487]\n",
      "159 1.2977082 [1.8142195] [2.282144]\n",
      "160 1.2962272 [1.8129793] [2.2857902]\n",
      "161 1.294755 [1.8117429] [2.2894254]\n",
      "162 1.2932917 [1.8105102] [2.2930498]\n",
      "163 1.291837 [1.8092811] [2.2966633]\n",
      "164 1.2903911 [1.8080558] [2.300266]\n",
      "165 1.2889539 [1.8068341] [2.3038578]\n",
      "166 1.287525 [1.8056161] [2.3074389]\n",
      "167 1.286105 [1.8044018] [2.3110092]\n",
      "168 1.2846934 [1.8031911] [2.314569]\n",
      "169 1.2832905 [1.801984] [2.318118]\n",
      "170 1.2818955 [1.8007804] [2.3216565]\n",
      "171 1.280509 [1.7995806] [2.3251843]\n",
      "172 1.2791309 [1.7983843] [2.3287017]\n",
      "173 1.277761 [1.7971916] [2.3322084]\n",
      "174 1.2763994 [1.7960025] [2.3357046]\n",
      "175 1.2750456 [1.7948169] [2.3391902]\n",
      "176 1.2737001 [1.7936348] [2.3426657]\n",
      "177 1.2723627 [1.7924563] [2.3461306]\n",
      "178 1.2710332 [1.7912813] [2.3495853]\n",
      "179 1.2697116 [1.7901099] [2.3530295]\n",
      "180 1.268398 [1.788942] [2.3564634]\n",
      "181 1.2670922 [1.7877775] [2.3598871]\n",
      "182 1.2657943 [1.7866166] [2.3633006]\n",
      "183 1.2645041 [1.785459] [2.3667037]\n",
      "184 1.2632215 [1.784305] [2.3700967]\n",
      "185 1.2619467 [1.7831544] [2.3734796]\n",
      "186 1.2606795 [1.7820072] [2.3768523]\n",
      "187 1.2594198 [1.7808635] [2.380215]\n",
      "188 1.2581679 [1.7797233] [2.3835676]\n",
      "189 1.2569231 [1.7785864] [2.38691]\n",
      "190 1.255686 [1.777453] [2.3902423]\n",
      "191 1.2544563 [1.7763228] [2.393565]\n",
      "192 1.2532338 [1.7751962] [2.3968775]\n",
      "193 1.2520188 [1.7740729] [2.40018]\n",
      "194 1.2508109 [1.7729529] [2.403473]\n",
      "195 1.2496103 [1.7718363] [2.4067557]\n",
      "196 1.2484168 [1.7707231] [2.4100287]\n",
      "197 1.2472306 [1.7696133] [2.413292]\n",
      "198 1.2460514 [1.7685066] [2.4165454]\n",
      "199 1.2448792 [1.7674034] [2.419789]\n",
      "200 1.243714 [1.7663034] [2.4230232]\n",
      "201 1.2425559 [1.7652067] [2.4262476]\n",
      "202 1.2414047 [1.7641133] [2.4294622]\n",
      "203 1.2402602 [1.7630231] [2.4326673]\n",
      "204 1.2391226 [1.7619363] [2.4358628]\n",
      "205 1.2379919 [1.7608527] [2.4390488]\n",
      "206 1.2368679 [1.7597723] [2.4422252]\n",
      "207 1.2357507 [1.7586952] [2.4453921]\n",
      "208 1.2346402 [1.7576214] [2.4485495]\n",
      "209 1.2335361 [1.7565507] [2.4516973]\n",
      "210 1.2324389 [1.7554832] [2.454836]\n",
      "211 1.231348 [1.7544188] [2.457965]\n",
      "212 1.2302638 [1.7533578] [2.4610846]\n",
      "213 1.2291862 [1.7522999] [2.464195]\n",
      "214 1.2281148 [1.7512451] [2.4672961]\n",
      "215 1.22705 [1.7501936] [2.470388]\n",
      "216 1.2259914 [1.7491452] [2.4734704]\n",
      "217 1.2249391 [1.7480998] [2.4765437]\n",
      "218 1.223893 [1.7470577] [2.4796078]\n",
      "219 1.2228537 [1.7460186] [2.4826627]\n",
      "220 1.2218201 [1.7449827] [2.4857085]\n",
      "221 1.2207928 [1.7439499] [2.4887452]\n",
      "222 1.2197717 [1.7429202] [2.491773]\n",
      "223 1.2187564 [1.7418935] [2.4947915]\n",
      "224 1.2177476 [1.7408699] [2.497801]\n",
      "225 1.2167447 [1.7398493] [2.5008016]\n",
      "226 1.2157477 [1.7388319] [2.503793]\n",
      "227 1.2147567 [1.7378174] [2.5067756]\n",
      "228 1.2137718 [1.736806] [2.5097492]\n",
      "229 1.2127925 [1.7357976] [2.512714]\n",
      "230 1.2118192 [1.7347924] [2.5156698]\n",
      "231 1.2108517 [1.73379] [2.518617]\n",
      "232 1.2098898 [1.7327907] [2.5215552]\n",
      "233 1.208934 [1.7317944] [2.5244846]\n",
      "234 1.2079836 [1.730801] [2.5274053]\n",
      "235 1.2070392 [1.7298106] [2.530317]\n",
      "236 1.2061002 [1.7288232] [2.5332203]\n",
      "237 1.205167 [1.7278386] [2.5361147]\n",
      "238 1.2042391 [1.7268571] [2.5390005]\n",
      "239 1.2033169 [1.7258785] [2.5418777]\n",
      "240 1.2024003 [1.7249029] [2.5447462]\n",
      "241 1.2014892 [1.7239301] [2.547606]\n"
     ]
    },
    {
     "name": "stdout",
     "output_type": "stream",
     "text": [
      "242 1.2005835 [1.7229604] [2.5504575]\n",
      "243 1.1996832 [1.7219934] [2.5533004]\n",
      "244 1.1987882 [1.7210294] [2.5561347]\n",
      "245 1.1978987 [1.7200682] [2.5589604]\n",
      "246 1.1970145 [1.71911] [2.5617778]\n",
      "247 1.1961353 [1.7181547] [2.5645869]\n",
      "248 1.1952617 [1.7172022] [2.5673873]\n",
      "249 1.1943933 [1.7162524] [2.5701795]\n",
      "250 1.19353 [1.7153056] [2.5729632]\n",
      "251 1.1926717 [1.7143615] [2.5757387]\n",
      "252 1.1918187 [1.7134204] [2.5785058]\n",
      "253 1.1909709 [1.7124821] [2.5812647]\n",
      "254 1.190128 [1.7115465] [2.5840154]\n",
      "255 1.1892903 [1.7106138] [2.5867577]\n",
      "256 1.1884574 [1.7096839] [2.5894918]\n",
      "257 1.1876297 [1.7087567] [2.592218]\n",
      "258 1.1868067 [1.7078323] [2.5949357]\n",
      "259 1.1859889 [1.7069107] [2.5976453]\n",
      "260 1.1851758 [1.7059919] [2.6003468]\n",
      "261 1.1843675 [1.7050757] [2.6030402]\n",
      "262 1.1835642 [1.7041624] [2.6057255]\n",
      "263 1.1827656 [1.7032517] [2.608403]\n",
      "264 1.1819719 [1.7023438] [2.6110723]\n",
      "265 1.1811827 [1.7014387] [2.6137338]\n",
      "266 1.1803985 [1.7005361] [2.6163871]\n",
      "267 1.1796188 [1.6996363] [2.6190326]\n",
      "268 1.178844 [1.6987393] [2.6216702]\n",
      "269 1.1780735 [1.6978449] [2.6242998]\n",
      "270 1.1773078 [1.6969532] [2.6269214]\n",
      "271 1.1765468 [1.6960641] [2.6295354]\n",
      "272 1.1757901 [1.6951777] [2.6321416]\n",
      "273 1.175038 [1.694294] [2.6347399]\n",
      "274 1.1742903 [1.6934129] [2.6373303]\n",
      "275 1.1735473 [1.6925344] [2.639913]\n",
      "276 1.1728086 [1.6916586] [2.642488]\n",
      "277 1.1720743 [1.6907854] [2.6450553]\n",
      "278 1.1713445 [1.6899148] [2.647615]\n",
      "279 1.170619 [1.6890469] [2.650167]\n",
      "280 1.1698979 [1.6881815] [2.6527114]\n",
      "281 1.1691809 [1.6873187] [2.6552482]\n",
      "282 1.1684684 [1.6864585] [2.6577773]\n",
      "283 1.16776 [1.6856009] [2.6602988]\n",
      "284 1.167056 [1.6847458] [2.6628127]\n",
      "285 1.1663562 [1.6838933] [2.6653192]\n",
      "286 1.1656604 [1.6830434] [2.667818]\n",
      "287 1.1649691 [1.6821959] [2.6703095]\n",
      "288 1.1642815 [1.6813511] [2.6727936]\n",
      "289 1.1635983 [1.6805087] [2.6752703]\n",
      "290 1.162919 [1.6796689] [2.6777394]\n",
      "291 1.162244 [1.6788316] [2.680201]\n",
      "292 1.161573 [1.6779968] [2.6826553]\n",
      "293 1.1609057 [1.6771644] [2.6851025]\n",
      "294 1.1602428 [1.6763346] [2.6875422]\n",
      "295 1.1595834 [1.6755073] [2.6899745]\n",
      "296 1.1589284 [1.6746825] [2.6923997]\n",
      "297 1.1582772 [1.6738601] [2.6948175]\n",
      "298 1.1576297 [1.6730402] [2.6972282]\n",
      "299 1.1569864 [1.6722227] [2.6996317]\n",
      "300 1.1563467 [1.6714077] [2.702028]\n",
      "301 1.1557107 [1.6705952] [2.704417]\n",
      "302 1.1550789 [1.669785] [2.7067988]\n",
      "303 1.1544507 [1.6689774] [2.7091737]\n",
      "304 1.1538261 [1.6681721] [2.7115414]\n",
      "305 1.1532052 [1.6673692] [2.713902]\n",
      "306 1.1525882 [1.6665688] [2.7162554]\n",
      "307 1.1519749 [1.6657706] [2.718602]\n",
      "308 1.1513652 [1.6649749] [2.7209413]\n",
      "309 1.1507591 [1.6641816] [2.7232738]\n",
      "310 1.1501566 [1.6633906] [2.7255993]\n",
      "311 1.1495578 [1.6626021] [2.7279177]\n",
      "312 1.1489627 [1.6618159] [2.7302291]\n",
      "313 1.148371 [1.6610321] [2.7325337]\n",
      "314 1.1477828 [1.6602505] [2.7348313]\n",
      "315 1.1471982 [1.6594714] [2.7371223]\n",
      "316 1.146617 [1.6586945] [2.7394063]\n",
      "317 1.1460395 [1.65792] [2.7416835]\n",
      "318 1.1454654 [1.6571479] [2.7439537]\n",
      "319 1.1448945 [1.656378] [2.7462173]\n",
      "320 1.1443269 [1.6556104] [2.7484741]\n",
      "321 1.1437631 [1.6548451] [2.750724]\n",
      "322 1.1432025 [1.6540822] [2.7529674]\n",
      "323 1.1426454 [1.6533215] [2.755204]\n",
      "324 1.1420914 [1.6525631] [2.757434]\n",
      "325 1.1415408 [1.651807] [2.7596571]\n",
      "326 1.1409935 [1.6510531] [2.7618737]\n",
      "327 1.1404494 [1.6503015] [2.7640836]\n",
      "328 1.1399086 [1.6495521] [2.7662868]\n",
      "329 1.1393712 [1.6488049] [2.7684834]\n",
      "330 1.1388367 [1.64806] [2.7706735]\n",
      "331 1.1383054 [1.6473173] [2.772857]\n",
      "332 1.1377776 [1.6465769] [2.775034]\n",
      "333 1.1372528 [1.6458386] [2.7772045]\n",
      "334 1.1367311 [1.6451026] [2.7793684]\n",
      "335 1.1362126 [1.6443688] [2.7815259]\n",
      "336 1.1356972 [1.6436372] [2.7836769]\n",
      "337 1.1351849 [1.6429077] [2.7858214]\n",
      "338 1.1346756 [1.6421806] [2.7879596]\n",
      "339 1.1341692 [1.6414555] [2.7900913]\n",
      "340 1.1336659 [1.6407326] [2.7922168]\n",
      "341 1.1331658 [1.6400119] [2.7943358]\n",
      "342 1.1326686 [1.6392933] [2.7964485]\n",
      "343 1.1321743 [1.6385769] [2.798555]\n",
      "344 1.1316829 [1.6378626] [2.800655]\n",
      "345 1.1311946 [1.6371504] [2.8027487]\n",
      "346 1.1307092 [1.6364404] [2.8048363]\n",
      "347 1.1302266 [1.6357325] [2.8069174]\n",
      "348 1.1297469 [1.6350268] [2.8089924]\n",
      "349 1.1292702 [1.6343231] [2.8110611]\n",
      "350 1.1287963 [1.6336216] [2.8131237]\n",
      "351 1.1283252 [1.6329222] [2.81518]\n",
      "352 1.1278567 [1.6322248] [2.8172305]\n",
      "353 1.1273913 [1.6315296] [2.8192747]\n",
      "354 1.1269284 [1.6308364] [2.8213127]\n",
      "355 1.1264688 [1.6301453] [2.8233447]\n",
      "356 1.1260114 [1.6294563] [2.8253706]\n",
      "357 1.125557 [1.6287693] [2.8273904]\n",
      "358 1.1251054 [1.6280843] [2.829404]\n",
      "359 1.1246562 [1.6274015] [2.8314118]\n",
      "360 1.1242099 [1.6267207] [2.8334136]\n",
      "361 1.1237662 [1.6260419] [2.8354094]\n",
      "362 1.123325 [1.6253651] [2.837399]\n",
      "363 1.1228867 [1.6246904] [2.839383]\n",
      "364 1.1224508 [1.6240177] [2.8413608]\n",
      "365 1.1220176 [1.623347] [2.8433328]\n",
      "366 1.121587 [1.6226784] [2.8452988]\n",
      "367 1.1211591 [1.6220117] [2.8472588]\n",
      "368 1.1207337 [1.621347] [2.8492131]\n",
      "369 1.1203108 [1.6206843] [2.8511615]\n",
      "370 1.1198902 [1.6200236] [2.853104]\n",
      "371 1.1194725 [1.6193649] [2.8550408]\n",
      "372 1.1190572 [1.6187081] [2.8569717]\n",
      "373 1.1186442 [1.6180533] [2.858897]\n",
      "374 1.1182339 [1.6174004] [2.8608165]\n",
      "375 1.1178257 [1.6167495] [2.86273]\n",
      "376 1.1174204 [1.6161005] [2.8646379]\n",
      "377 1.1170173 [1.6154536] [2.86654]\n",
      "378 1.1166166 [1.6148086] [2.8684366]\n",
      "379 1.1162183 [1.6141654] [2.8703275]\n",
      "380 1.1158223 [1.6135242] [2.8722126]\n",
      "381 1.1154288 [1.612885] [2.874092]\n",
      "382 1.1150377 [1.6122476] [2.875966]\n",
      "383 1.1146488 [1.6116122] [2.8778343]\n",
      "384 1.1142623 [1.6109786] [2.879697]\n",
      "385 1.1138781 [1.6103469] [2.8815541]\n",
      "386 1.1134961 [1.6097171] [2.8834057]\n",
      "387 1.1131165 [1.6090893] [2.8852518]\n",
      "388 1.1127392 [1.6084633] [2.8870924]\n",
      "389 1.112364 [1.6078392] [2.8889272]\n",
      "390 1.1119913 [1.607217] [2.8907566]\n",
      "391 1.1116205 [1.6065966] [2.8925805]\n",
      "392 1.1112522 [1.6059781] [2.8943992]\n",
      "393 1.110886 [1.6053615] [2.8962123]\n",
      "394 1.1105218 [1.6047466] [2.89802]\n",
      "395 1.1101601 [1.6041336] [2.8998222]\n",
      "396 1.1098003 [1.6035224] [2.9016192]\n",
      "397 1.109443 [1.6029131] [2.9034107]\n",
      "398 1.1090875 [1.6023057] [2.905197]\n",
      "399 1.1087341 [1.6017] [2.9069777]\n",
      "400 1.1083829 [1.601096] [2.9087532]\n",
      "401 1.1080339 [1.6004939] [2.9105232]\n",
      "402 1.107687 [1.5998937] [2.912288]\n",
      "403 1.107342 [1.5992953] [2.9140475]\n",
      "404 1.1069993 [1.5986986] [2.9158018]\n",
      "405 1.1066585 [1.5981038] [2.9175508]\n",
      "406 1.1063197 [1.5975107] [2.9192946]\n",
      "407 1.1059829 [1.5969194] [2.9210331]\n",
      "408 1.1056483 [1.5963298] [2.9227664]\n",
      "409 1.1053154 [1.595742] [2.9244947]\n",
      "410 1.1049849 [1.595156] [2.9262178]\n",
      "411 1.104656 [1.5945717] [2.9279356]\n",
      "412 1.1043291 [1.5939891] [2.9296484]\n",
      "413 1.1040044 [1.5934083] [2.931356]\n",
      "414 1.1036816 [1.5928293] [2.9330585]\n",
      "415 1.1033607 [1.592252] [2.9347558]\n",
      "416 1.1030415 [1.5916765] [2.936448]\n",
      "417 1.1027244 [1.5911026] [2.9381354]\n",
      "418 1.1024091 [1.5905304] [2.9398177]\n",
      "419 1.1020957 [1.58996] [2.9414947]\n",
      "420 1.1017843 [1.5893912] [2.9431667]\n",
      "421 1.1014748 [1.5888242] [2.9448338]\n",
      "422 1.1011672 [1.5882589] [2.9464958]\n",
      "423 1.1008612 [1.5876952] [2.948153]\n",
      "424 1.100557 [1.5871333] [2.9498053]\n",
      "425 1.1002547 [1.586573] [2.9514525]\n",
      "426 1.0999542 [1.5860144] [2.9530947]\n",
      "427 1.0996556 [1.5854574] [2.9547322]\n",
      "428 1.0993587 [1.5849022] [2.9563646]\n",
      "429 1.0990636 [1.5843486] [2.9579923]\n",
      "430 1.0987703 [1.5837966] [2.959615]\n",
      "431 1.0984787 [1.5832464] [2.961233]\n",
      "432 1.0981888 [1.5826977] [2.962846]\n",
      "433 1.0979006 [1.5821508] [2.9644542]\n",
      "434 1.0976143 [1.5816054] [2.9660575]\n",
      "435 1.0973296 [1.5810617] [2.9676561]\n",
      "436 1.0970466 [1.5805197] [2.96925]\n",
      "437 1.0967654 [1.5799792] [2.970839]\n",
      "438 1.0964859 [1.5794404] [2.9724233]\n",
      "439 1.0962077 [1.5789031] [2.9740028]\n",
      "440 1.0959316 [1.5783675] [2.9755776]\n",
      "441 1.0956569 [1.5778335] [2.9771476]\n",
      "442 1.095384 [1.5773011] [2.978713]\n",
      "443 1.0951126 [1.5767703] [2.9802737]\n",
      "444 1.0948429 [1.576241] [2.9818296]\n",
      "445 1.0945748 [1.5757134] [2.983381]\n",
      "446 1.0943083 [1.5751873] [2.9849277]\n",
      "447 1.0940434 [1.5746628] [2.9864697]\n",
      "448 1.0937799 [1.57414] [2.9880073]\n",
      "449 1.0935184 [1.5736185] [2.98954]\n",
      "450 1.0932581 [1.5730988] [2.9910684]\n",
      "451 1.0929995 [1.5725806] [2.992592]\n",
      "452 1.0927424 [1.5720639] [2.9941113]\n",
      "453 1.0924867 [1.5715488] [2.995626]\n",
      "454 1.0922327 [1.5710351] [2.997136]\n",
      "455 1.0919801 [1.570523] [2.9986417]\n",
      "456 1.0917292 [1.5700125] [3.0001428]\n",
      "457 1.0914798 [1.5695034] [3.0016394]\n",
      "458 1.0912317 [1.568996] [3.0031314]\n",
      "459 1.0909853 [1.56849] [3.004619]\n",
      "460 1.0907401 [1.5679855] [3.006102]\n",
      "461 1.0904965 [1.5674826] [3.0075808]\n",
      "462 1.0902543 [1.5669812] [3.009055]\n",
      "463 1.0900139 [1.5664812] [3.0105247]\n",
      "464 1.0897745 [1.5659828] [3.0119903]\n",
      "465 1.0895367 [1.5654858] [3.0134513]\n",
      "466 1.0893004 [1.5649904] [3.014908]\n",
      "467 1.0890653 [1.5644964] [3.0163603]\n"
     ]
    },
    {
     "name": "stdout",
     "output_type": "stream",
     "text": [
      "468 1.0888319 [1.564004] [3.0178082]\n",
      "469 1.0885997 [1.5635129] [3.0192518]\n",
      "470 1.088369 [1.5630234] [3.0206912]\n",
      "471 1.0881395 [1.5625354] [3.0221262]\n",
      "472 1.0879115 [1.5620488] [3.023557]\n",
      "473 1.0876848 [1.5615636] [3.0249834]\n",
      "474 1.0874596 [1.5610799] [3.0264056]\n",
      "475 1.0872356 [1.5605977] [3.0278234]\n",
      "476 1.087013 [1.5601169] [3.029237]\n",
      "477 1.0867916 [1.5596375] [3.0306466]\n",
      "478 1.0865715 [1.5591596] [3.0320518]\n",
      "479 1.0863528 [1.5586832] [3.0334527]\n",
      "480 1.0861356 [1.558208] [3.0348496]\n",
      "481 1.0859194 [1.5577343] [3.0362422]\n",
      "482 1.0857047 [1.557262] [3.0376308]\n",
      "483 1.0854912 [1.5567911] [3.039015]\n",
      "484 1.0852791 [1.5563216] [3.0403953]\n",
      "485 1.0850682 [1.5558536] [3.0417712]\n",
      "486 1.0848584 [1.555387] [3.043143]\n",
      "487 1.08465 [1.5549219] [3.0445108]\n",
      "488 1.0844429 [1.554458] [3.0458746]\n",
      "489 1.0842369 [1.5539956] [3.0472343]\n",
      "490 1.0840324 [1.5535345] [3.04859]\n",
      "491 1.0838288 [1.5530748] [3.0499415]\n",
      "492 1.0836265 [1.5526165] [3.051289]\n",
      "493 1.0834256 [1.5521595] [3.0526326]\n",
      "494 1.0832255 [1.5517039] [3.053972]\n",
      "495 1.083027 [1.5512497] [3.0553074]\n",
      "496 1.0828295 [1.5507969] [3.0566387]\n",
      "497 1.0826331 [1.5503454] [3.057966]\n",
      "498 1.082438 [1.5498953] [3.0592895]\n",
      "499 1.082244 [1.5494465] [3.0606089]\n",
      "500 1.0820514 [1.5489991] [3.0619245]\n",
      "501 1.0818596 [1.548553] [3.063236]\n",
      "502 1.0816693 [1.5481082] [3.0645437]\n",
      "503 1.0814799 [1.5476648] [3.0658474]\n",
      "504 1.0812917 [1.5472227] [3.0671473]\n",
      "505 1.0811045 [1.546782] [3.068443]\n",
      "506 1.0809186 [1.5463426] [3.069735]\n",
      "507 1.0807338 [1.5459045] [3.0710232]\n",
      "508 1.08055 [1.5454677] [3.0723076]\n",
      "509 1.0803673 [1.5450321] [3.0735881]\n",
      "510 1.0801859 [1.5445979] [3.0748649]\n",
      "511 1.0800054 [1.5441649] [3.0761378]\n",
      "512 1.0798259 [1.5437332] [3.077407]\n",
      "513 1.0796474 [1.5433029] [3.0786722]\n",
      "514 1.0794703 [1.5428739] [3.0799336]\n",
      "515 1.0792942 [1.5424461] [3.0811913]\n",
      "516 1.0791188 [1.5420196] [3.0824451]\n",
      "517 1.0789447 [1.5415944] [3.0836952]\n",
      "518 1.0787717 [1.5411705] [3.0849416]\n",
      "519 1.0785997 [1.5407479] [3.0861843]\n",
      "520 1.0784286 [1.5403265] [3.087423]\n",
      "521 1.0782589 [1.5399064] [3.0886583]\n",
      "522 1.0780901 [1.5394875] [3.0898898]\n",
      "523 1.0779217 [1.5390699] [3.0911176]\n",
      "524 1.0777552 [1.5386535] [3.0923417]\n",
      "525 1.077589 [1.5382384] [3.0935621]\n",
      "526 1.077424 [1.5378245] [3.094779]\n",
      "527 1.0772603 [1.5374119] [3.0959923]\n",
      "528 1.077097 [1.5370005] [3.0972018]\n",
      "529 1.076935 [1.5365903] [3.0984077]\n",
      "530 1.076774 [1.5361814] [3.09961]\n",
      "531 1.0766139 [1.5357738] [3.1008089]\n",
      "532 1.0764549 [1.5353673] [3.102004]\n",
      "533 1.0762968 [1.5349619] [3.1031957]\n",
      "534 1.0761396 [1.5345578] [3.1043837]\n",
      "535 1.0759833 [1.534155] [3.1055682]\n",
      "536 1.0758278 [1.5337534] [3.106749]\n",
      "537 1.0756735 [1.533353] [3.1079264]\n",
      "538 1.0755198 [1.5329537] [3.1091]\n",
      "539 1.0753675 [1.5325557] [3.1102705]\n",
      "540 1.0752157 [1.5321589] [3.1114373]\n",
      "541 1.0750651 [1.5317632] [3.1126006]\n",
      "542 1.0749152 [1.5313687] [3.1137605]\n",
      "543 1.074766 [1.5309753] [3.1149168]\n",
      "544 1.074618 [1.5305831] [3.1160698]\n",
      "545 1.0744709 [1.5301921] [3.1172192]\n",
      "546 1.0743245 [1.5298023] [3.1183653]\n",
      "547 1.0741792 [1.5294137] [3.1195078]\n",
      "548 1.0740347 [1.5290263] [3.120647]\n",
      "549 1.0738909 [1.52864] [3.1217828]\n",
      "550 1.0737478 [1.5282549] [3.122915]\n",
      "551 1.0736059 [1.5278709] [3.124044]\n",
      "552 1.0734648 [1.5274881] [3.1251695]\n",
      "553 1.0733247 [1.5271064] [3.1262918]\n",
      "554 1.0731851 [1.5267259] [3.1274107]\n",
      "555 1.0730466 [1.5263464] [3.1285262]\n",
      "556 1.0729086 [1.5259682] [3.1296384]\n",
      "557 1.0727718 [1.525591] [3.1307473]\n",
      "558 1.0726354 [1.525215] [3.1318529]\n",
      "559 1.0725001 [1.5248401] [3.132955]\n",
      "560 1.0723655 [1.5244664] [3.134054]\n",
      "561 1.072232 [1.5240937] [3.1351495]\n",
      "562 1.0720991 [1.5237222] [3.136242]\n",
      "563 1.071967 [1.5233518] [3.137331]\n",
      "564 1.0718355 [1.5229825] [3.1384168]\n",
      "565 1.0717049 [1.5226142] [3.1394994]\n",
      "566 1.0715752 [1.5222471] [3.1405787]\n",
      "567 1.0714463 [1.5218811] [3.1416547]\n",
      "568 1.0713179 [1.5215162] [3.1427276]\n",
      "569 1.0711906 [1.5211524] [3.1437972]\n",
      "570 1.071064 [1.5207896] [3.1448636]\n",
      "571 1.070938 [1.520428] [3.145927]\n",
      "572 1.0708128 [1.5200675] [3.146987]\n",
      "573 1.0706884 [1.519708] [3.1480439]\n",
      "574 1.0705647 [1.5193497] [3.1490977]\n",
      "575 1.0704416 [1.5189923] [3.1501482]\n",
      "576 1.0703195 [1.518636] [3.1511955]\n",
      "577 1.0701979 [1.5182809] [3.1522398]\n",
      "578 1.0700772 [1.5179267] [3.153281]\n",
      "579 1.0699574 [1.5175736] [3.154319]\n",
      "580 1.0698379 [1.5172216] [3.155354]\n",
      "581 1.0697193 [1.5168706] [3.156386]\n",
      "582 1.0696015 [1.5165207] [3.1574147]\n",
      "583 1.0694841 [1.5161719] [3.1584404]\n",
      "584 1.0693676 [1.5158241] [3.159463]\n",
      "585 1.069252 [1.5154773] [3.1604824]\n",
      "586 1.0691367 [1.5151316] [3.1614988]\n",
      "587 1.0690224 [1.514787] [3.1625123]\n",
      "588 1.0689086 [1.5144433] [3.1635227]\n",
      "589 1.0687957 [1.5141007] [3.16453]\n",
      "590 1.0686831 [1.513759] [3.1655345]\n",
      "591 1.0685716 [1.5134184] [3.1665359]\n",
      "592 1.0684606 [1.5130789] [3.167534]\n",
      "593 1.0683501 [1.5127404] [3.1685295]\n",
      "594 1.0682404 [1.5124029] [3.1695218]\n",
      "595 1.0681313 [1.5120664] [3.1705112]\n",
      "596 1.0680228 [1.5117308] [3.1714978]\n",
      "597 1.067915 [1.5113963] [3.1724813]\n",
      "598 1.067808 [1.5110627] [3.173462]\n",
      "599 1.0677016 [1.5107303] [3.1744394]\n",
      "600 1.0675957 [1.5103987] [3.175414]\n",
      "601 1.0674906 [1.5100682] [3.1763859]\n",
      "602 1.0673859 [1.5097387] [3.1773548]\n",
      "603 1.0672821 [1.5094101] [3.178321]\n",
      "604 1.0671786 [1.5090826] [3.1792839]\n",
      "605 1.0670761 [1.5087559] [3.180244]\n",
      "606 1.0669739 [1.5084304] [3.1812012]\n",
      "607 1.0668725 [1.5081058] [3.1821556]\n",
      "608 1.0667715 [1.5077821] [3.1831071]\n",
      "609 1.0666711 [1.5074594] [3.1840558]\n",
      "610 1.0665716 [1.5071377] [3.1850016]\n",
      "611 1.0664726 [1.506817] [3.1859448]\n",
      "612 1.0663741 [1.5064971] [3.186885]\n",
      "613 1.0662762 [1.5061784] [3.1878226]\n",
      "614 1.0661789 [1.5058604] [3.1887572]\n",
      "615 1.0660821 [1.5055435] [3.189689]\n",
      "616 1.0659859 [1.5052276] [3.190618]\n",
      "617 1.0658903 [1.5049125] [3.1915443]\n",
      "618 1.0657954 [1.5045984] [3.1924677]\n",
      "619 1.0657009 [1.5042852] [3.1933885]\n",
      "620 1.0656071 [1.503973] [3.1943064]\n",
      "621 1.0655136 [1.5036618] [3.1952217]\n",
      "622 1.0654211 [1.5033514] [3.196134]\n",
      "623 1.0653287 [1.503042] [3.197044]\n",
      "624 1.0652372 [1.5027335] [3.1979508]\n",
      "625 1.065146 [1.5024259] [3.1988552]\n",
      "626 1.0650556 [1.5021193] [3.1997569]\n",
      "627 1.0649654 [1.5018135] [3.2006557]\n",
      "628 1.064876 [1.5015087] [3.201552]\n",
      "629 1.0647869 [1.5012048] [3.2024455]\n",
      "630 1.0646987 [1.5009018] [3.2033362]\n",
      "631 1.0646106 [1.5005997] [3.2042243]\n",
      "632 1.0645235 [1.5002985] [3.2051098]\n",
      "633 1.0644367 [1.4999982] [3.2059927]\n",
      "634 1.0643504 [1.4996989] [3.206873]\n",
      "635 1.0642647 [1.4994004] [3.2077506]\n",
      "636 1.0641792 [1.4991028] [3.2086256]\n",
      "637 1.0640944 [1.4988061] [3.209498]\n",
      "638 1.0640101 [1.4985104] [3.2103677]\n",
      "639 1.0639262 [1.4982154] [3.2112348]\n",
      "640 1.0638431 [1.4979213] [3.2120993]\n",
      "641 1.0637604 [1.4976282] [3.2129612]\n",
      "642 1.0636781 [1.4973359] [3.2138205]\n",
      "643 1.0635962 [1.4970444] [3.2146773]\n",
      "644 1.0635152 [1.4967539] [3.2155316]\n",
      "645 1.0634344 [1.4964643] [3.2163832]\n",
      "646 1.0633539 [1.4961754] [3.2172322]\n",
      "647 1.0632741 [1.4958875] [3.2180789]\n",
      "648 1.0631948 [1.4956005] [3.2189229]\n",
      "649 1.0631157 [1.4953142] [3.2197645]\n",
      "650 1.0630374 [1.4950289] [3.2206035]\n",
      "651 1.0629594 [1.4947443] [3.2214398]\n",
      "652 1.0628821 [1.4944607] [3.2222738]\n",
      "653 1.0628049 [1.4941779] [3.2231054]\n",
      "654 1.0627285 [1.493896] [3.2239344]\n",
      "655 1.0626522 [1.4936149] [3.224761]\n",
      "656 1.0625765 [1.4933347] [3.225585]\n",
      "657 1.0625014 [1.4930552] [3.2264066]\n",
      "658 1.0624266 [1.4927766] [3.2272258]\n",
      "659 1.0623523 [1.4924989] [3.2280424]\n",
      "660 1.0622785 [1.492222] [3.2288566]\n",
      "661 1.0622051 [1.4919459] [3.2296684]\n",
      "662 1.0621321 [1.4916706] [3.2304778]\n",
      "663 1.0620596 [1.4913961] [3.2312846]\n",
      "664 1.0619876 [1.4911225] [3.232089]\n",
      "665 1.0619159 [1.4908496] [3.232891]\n",
      "666 1.0618446 [1.4905776] [3.2336907]\n",
      "667 1.0617738 [1.4903064] [3.234488]\n",
      "668 1.0617034 [1.490036] [3.235283]\n",
      "669 1.0616333 [1.4897665] [3.2360754]\n",
      "670 1.061564 [1.4894978] [3.2368655]\n",
      "671 1.0614948 [1.4892298] [3.2376533]\n",
      "672 1.061426 [1.4889627] [3.2384386]\n",
      "673 1.0613579 [1.4886963] [3.2392218]\n",
      "674 1.0612898 [1.4884307] [3.2400026]\n",
      "675 1.0612224 [1.488166] [3.240781]\n",
      "676 1.0611552 [1.487902] [3.2415571]\n",
      "677 1.0610886 [1.4876388] [3.2423308]\n",
      "678 1.0610224 [1.4873765] [3.2431023]\n",
      "679 1.0609562 [1.4871149] [3.2438715]\n",
      "680 1.0608907 [1.4868541] [3.2446382]\n",
      "681 1.0608257 [1.4865941] [3.2454028]\n",
      "682 1.0607609 [1.4863348] [3.246165]\n",
      "683 1.0606966 [1.4860764] [3.2469249]\n",
      "684 1.0606326 [1.4858186] [3.2476826]\n",
      "685 1.060569 [1.4855617] [3.248438]\n",
      "686 1.0605057 [1.4853055] [3.249191]\n",
      "687 1.0604432 [1.4850502] [3.249942]\n",
      "688 1.0603808 [1.4847956] [3.2506907]\n",
      "689 1.0603185 [1.4845417] [3.2514372]\n",
      "690 1.060257 [1.4842886] [3.2521813]\n",
      "691 1.0601957 [1.4840362] [3.2529233]\n",
      "692 1.0601346 [1.4837847] [3.253663]\n",
      "693 1.0600741 [1.4835339] [3.2544005]\n",
      "694 1.0600138 [1.4832838] [3.2551358]\n",
      "695 1.059954 [1.4830344] [3.255869]\n",
      "696 1.0598944 [1.4827858] [3.2566]\n",
      "697 1.0598352 [1.482538] [3.2573285]\n",
      "698 1.0597765 [1.4822909] [3.258055]\n",
      "699 1.059718 [1.4820445] [3.2587793]\n",
      "700 1.05966 [1.4817988] [3.2595015]\n",
      "701 1.0596021 [1.4815539] [3.2602215]\n",
      "702 1.0595446 [1.4813098] [3.2609394]\n",
      "703 1.0594878 [1.4810663] [3.261655]\n",
      "704 1.0594311 [1.4808236] [3.2623687]\n",
      "705 1.0593746 [1.4805816] [3.2630801]\n",
      "706 1.0593185 [1.4803404] [3.2637894]\n",
      "707 1.0592628 [1.4800998] [3.2644966]\n",
      "708 1.0592074 [1.47986] [3.2652016]\n",
      "709 1.0591524 [1.4796209] [3.2659044]\n",
      "710 1.0590976 [1.4793825] [3.2666054]\n",
      "711 1.059043 [1.4791448] [3.2673042]\n",
      "712 1.0589894 [1.4789078] [3.2680008]\n",
      "713 1.0589354 [1.4786716] [3.2686954]\n",
      "714 1.058882 [1.478436] [3.269388]\n",
      "715 1.0588288 [1.4782012] [3.2700784]\n",
      "716 1.058776 [1.477967] [3.2707667]\n",
      "717 1.0587238 [1.4777336] [3.2714531]\n",
      "718 1.0586714 [1.4775009] [3.2721374]\n",
      "719 1.0586196 [1.4772689] [3.2728195]\n",
      "720 1.0585682 [1.4770377] [3.2734997]\n",
      "721 1.058517 [1.476807] [3.2741778]\n",
      "722 1.0584662 [1.476577] [3.274854]\n",
      "723 1.0584153 [1.4763478] [3.275528]\n",
      "724 1.0583651 [1.4761193] [3.2762]\n",
      "725 1.0583153 [1.4758914] [3.27687]\n",
      "726 1.0582652 [1.4756641] [3.277538]\n",
      "727 1.058216 [1.4754376] [3.2782042]\n",
      "728 1.0581667 [1.4752117] [3.2788682]\n",
      "729 1.0581179 [1.4749866] [3.2795303]\n",
      "730 1.0580695 [1.4747621] [3.2801905]\n",
      "731 1.0580211 [1.4745382] [3.2808485]\n",
      "732 1.0579731 [1.474315] [3.2815046]\n",
      "733 1.0579256 [1.4740926] [3.2821589]\n",
      "734 1.057878 [1.4738708] [3.282811]\n",
      "735 1.0578312 [1.4736496] [3.283461]\n",
      "736 1.0577843 [1.4734291] [3.2841094]\n",
      "737 1.0577377 [1.4732093] [3.2847557]\n",
      "738 1.0576913 [1.47299] [3.2854002]\n",
      "739 1.0576453 [1.4727715] [3.2860427]\n",
      "740 1.0575998 [1.4725536] [3.2866833]\n",
      "741 1.0575544 [1.4723364] [3.287322]\n",
      "742 1.057509 [1.4721198] [3.2879589]\n",
      "743 1.0574642 [1.4719039] [3.2885938]\n",
      "744 1.0574197 [1.4716886] [3.2892268]\n",
      "745 1.0573752 [1.471474] [3.2898579]\n",
      "746 1.0573311 [1.4712601] [3.290487]\n",
      "747 1.0572875 [1.4710467] [3.2911143]\n",
      "748 1.057244 [1.470834] [3.2917397]\n",
      "749 1.0572003 [1.470622] [3.2923632]\n",
      "750 1.0571573 [1.4704105] [3.2929847]\n",
      "751 1.0571145 [1.4701997] [3.2936046]\n",
      "752 1.0570719 [1.4699895] [3.2942226]\n",
      "753 1.0570297 [1.46978] [3.2948387]\n",
      "754 1.0569876 [1.469571] [3.2954528]\n",
      "755 1.0569459 [1.4693627] [3.2960653]\n",
      "756 1.0569044 [1.4691551] [3.296676]\n",
      "757 1.0568631 [1.468948] [3.2972846]\n",
      "758 1.0568221 [1.4687415] [3.2978916]\n"
     ]
    },
    {
     "name": "stdout",
     "output_type": "stream",
     "text": [
      "759 1.0567813 [1.4685358] [3.2984967]\n",
      "760 1.0567409 [1.4683306] [3.2991]\n",
      "761 1.0567002 [1.468126] [3.2997015]\n",
      "762 1.0566603 [1.4679221] [3.300301]\n",
      "763 1.0566206 [1.4677187] [3.300899]\n",
      "764 1.056581 [1.467516] [3.301495]\n",
      "765 1.0565416 [1.4673138] [3.3020895]\n",
      "766 1.0565026 [1.4671122] [3.302682]\n",
      "767 1.0564637 [1.4669113] [3.3032727]\n",
      "768 1.056425 [1.4667109] [3.3038616]\n",
      "769 1.0563865 [1.4665112] [3.3044488]\n",
      "770 1.0563482 [1.4663122] [3.3050344]\n",
      "771 1.0563104 [1.4661136] [3.305618]\n",
      "772 1.0562727 [1.4659157] [3.3062]\n",
      "773 1.0562352 [1.4657183] [3.3067803]\n",
      "774 1.056198 [1.4655215] [3.3073587]\n",
      "775 1.0561608 [1.4653254] [3.3079355]\n",
      "776 1.0561239 [1.4651297] [3.3085105]\n",
      "777 1.0560874 [1.4649347] [3.309084]\n",
      "778 1.0560511 [1.4647403] [3.3096554]\n",
      "779 1.0560149 [1.4645464] [3.3102252]\n",
      "780 1.0559789 [1.4643532] [3.3107934]\n",
      "781 1.0559431 [1.4641606] [3.31136]\n",
      "782 1.0559076 [1.4639685] [3.3119247]\n",
      "783 1.0558723 [1.463777] [3.3124878]\n",
      "784 1.0558373 [1.463586] [3.3130493]\n",
      "785 1.0558022 [1.4633956] [3.3136091]\n",
      "786 1.0557677 [1.4632058] [3.3141673]\n",
      "787 1.0557331 [1.4630166] [3.3147237]\n",
      "788 1.0556989 [1.4628279] [3.3152785]\n",
      "789 1.0556648 [1.4626398] [3.3158317]\n",
      "790 1.0556307 [1.4624523] [3.3163831]\n",
      "791 1.0555974 [1.4622653] [3.316933]\n",
      "792 1.0555637 [1.4620788] [3.317481]\n",
      "793 1.0555303 [1.461893] [3.3180275]\n",
      "794 1.0554975 [1.4617076] [3.3185723]\n",
      "795 1.0554643 [1.4615228] [3.3191154]\n",
      "796 1.0554318 [1.4613386] [3.3196568]\n",
      "797 1.0553994 [1.461155] [3.3201969]\n",
      "798 1.0553672 [1.460972] [3.3207352]\n",
      "799 1.055335 [1.4607894] [3.321272]\n",
      "800 1.0553031 [1.4606074] [3.321807]\n",
      "801 1.0552714 [1.460426] [3.3223405]\n",
      "802 1.0552399 [1.460245] [3.3228724]\n",
      "803 1.0552086 [1.4600646] [3.3234026]\n",
      "804 1.0551775 [1.4598849] [3.3239315]\n",
      "805 1.0551466 [1.4597056] [3.3244586]\n",
      "806 1.0551156 [1.4595268] [3.324984]\n",
      "807 1.0550851 [1.4593486] [3.325508]\n",
      "808 1.0550547 [1.4591708] [3.3260305]\n",
      "809 1.0550244 [1.4589937] [3.3265514]\n",
      "810 1.0549943 [1.458817] [3.3270707]\n",
      "811 1.0549645 [1.4586409] [3.3275886]\n",
      "812 1.0549346 [1.4584653] [3.3281047]\n",
      "813 1.0549054 [1.4582903] [3.3286195]\n",
      "814 1.0548761 [1.4581158] [3.3291326]\n",
      "815 1.0548468 [1.4579418] [3.3296442]\n",
      "816 1.0548178 [1.4577683] [3.3301542]\n",
      "817 1.0547891 [1.4575953] [3.3306627]\n",
      "818 1.0547605 [1.4574229] [3.3311696]\n",
      "819 1.054732 [1.457251] [3.331675]\n",
      "820 1.0547037 [1.4570795] [3.332179]\n",
      "821 1.0546755 [1.4569087] [3.3326814]\n",
      "822 1.0546476 [1.4567384] [3.3331823]\n",
      "823 1.0546197 [1.4565685] [3.3336818]\n",
      "824 1.0545923 [1.4563991] [3.3341799]\n",
      "825 1.0545648 [1.4562303] [3.3346763]\n",
      "826 1.0545375 [1.456062] [3.3351712]\n",
      "827 1.0545105 [1.4558941] [3.3356647]\n",
      "828 1.0544834 [1.4557267] [3.3361568]\n",
      "829 1.0544567 [1.4555598] [3.3366473]\n",
      "830 1.0544299 [1.4553936] [3.3371363]\n",
      "831 1.0544035 [1.4552277] [3.3376238]\n",
      "832 1.0543771 [1.4550624] [3.33811]\n",
      "833 1.0543511 [1.4548975] [3.3385947]\n",
      "834 1.054325 [1.4547331] [3.339078]\n",
      "835 1.0542991 [1.4545692] [3.3395598]\n",
      "836 1.0542734 [1.4544059] [3.3400402]\n",
      "837 1.0542479 [1.4542431] [3.3405192]\n",
      "838 1.0542225 [1.4540807] [3.3409967]\n",
      "839 1.0541973 [1.4539188] [3.3414729]\n",
      "840 1.0541722 [1.4537574] [3.3419476]\n",
      "841 1.0541471 [1.4535965] [3.3424208]\n",
      "842 1.0541223 [1.453436] [3.3428926]\n",
      "843 1.0540977 [1.453276] [3.343363]\n",
      "844 1.0540732 [1.4531165] [3.343832]\n",
      "845 1.0540488 [1.4529575] [3.3442996]\n",
      "846 1.0540247 [1.452799] [3.3447657]\n",
      "847 1.0540005 [1.4526409] [3.3452303]\n",
      "848 1.0539767 [1.4524833] [3.3456936]\n",
      "849 1.0539528 [1.4523262] [3.3461556]\n",
      "850 1.0539292 [1.4521694] [3.3466163]\n",
      "851 1.0539057 [1.4520131] [3.3470755]\n",
      "852 1.0538824 [1.4518574] [3.3475332]\n",
      "853 1.0538591 [1.4517021] [3.3479898]\n",
      "854 1.0538361 [1.4515473] [3.348445]\n",
      "855 1.053813 [1.4513929] [3.3488986]\n",
      "856 1.0537903 [1.451239] [3.349351]\n",
      "857 1.0537677 [1.4510856] [3.349802]\n",
      "858 1.0537453 [1.4509326] [3.3502517]\n",
      "859 1.0537229 [1.4507802] [3.3507]\n",
      "860 1.0537006 [1.4506282] [3.351147]\n",
      "861 1.0536783 [1.4504766] [3.3515925]\n",
      "862 1.0536565 [1.4503255] [3.352037]\n",
      "863 1.0536345 [1.4501748] [3.35248]\n",
      "864 1.0536128 [1.4500246] [3.3529215]\n",
      "865 1.0535911 [1.4498749] [3.3533618]\n",
      "866 1.0535697 [1.4497255] [3.3538008]\n",
      "867 1.0535486 [1.4495766] [3.3542385]\n",
      "868 1.0535272 [1.4494282] [3.3546748]\n",
      "869 1.053506 [1.4492803] [3.35511]\n",
      "870 1.0534852 [1.4491327] [3.3555436]\n",
      "871 1.0534643 [1.4489856] [3.355976]\n",
      "872 1.0534437 [1.448839] [3.3564074]\n",
      "873 1.053423 [1.4486928] [3.3568373]\n",
      "874 1.0534027 [1.448547] [3.357266]\n",
      "875 1.0533823 [1.4484017] [3.3576932]\n",
      "876 1.0533621 [1.4482567] [3.3581192]\n",
      "877 1.0533416 [1.4481122] [3.358544]\n",
      "878 1.0533217 [1.4479682] [3.3589675]\n",
      "879 1.053302 [1.4478246] [3.3593898]\n",
      "880 1.0532823 [1.4476814] [3.3598108]\n",
      "881 1.0532627 [1.4475386] [3.3602304]\n",
      "882 1.053243 [1.4473963] [3.3606489]\n",
      "883 1.053224 [1.4472544] [3.361066]\n",
      "884 1.0532044 [1.4471129] [3.3614821]\n",
      "885 1.0531855 [1.4469719] [3.3618968]\n",
      "886 1.0531662 [1.4468312] [3.3623102]\n",
      "887 1.0531473 [1.446691] [3.3627224]\n",
      "888 1.0531285 [1.4465512] [3.3631334]\n",
      "889 1.0531096 [1.4464118] [3.3635433]\n",
      "890 1.0530913 [1.4462729] [3.363952]\n",
      "891 1.0530727 [1.4461343] [3.3643591]\n",
      "892 1.0530543 [1.4459963] [3.3647652]\n",
      "893 1.0530362 [1.4458586] [3.36517]\n",
      "894 1.0530179 [1.4457213] [3.3655736]\n",
      "895 1.0529999 [1.4455844] [3.365976]\n",
      "896 1.052982 [1.4454479] [3.3663774]\n",
      "897 1.0529642 [1.4453119] [3.3667774]\n",
      "898 1.0529466 [1.4451762] [3.3671763]\n",
      "899 1.052929 [1.445041] [3.367574]\n",
      "900 1.0529113 [1.4449061] [3.3679705]\n",
      "901 1.0528939 [1.4447716] [3.3683658]\n",
      "902 1.0528765 [1.4446377] [3.3687599]\n",
      "903 1.0528594 [1.444504] [3.3691528]\n",
      "904 1.0528424 [1.4443707] [3.3695445]\n",
      "905 1.0528255 [1.444238] [3.369935]\n",
      "906 1.0528085 [1.4441055] [3.3703244]\n",
      "907 1.0527917 [1.4439734] [3.3707125]\n",
      "908 1.052775 [1.4438418] [3.3710997]\n",
      "909 1.0527585 [1.4437106] [3.3714857]\n",
      "910 1.0527419 [1.4435797] [3.3718705]\n",
      "911 1.0527254 [1.4434491] [3.3722541]\n",
      "912 1.052709 [1.4433191] [3.3726366]\n",
      "913 1.0526929 [1.4431894] [3.3730178]\n",
      "914 1.052677 [1.44306] [3.373398]\n",
      "915 1.0526607 [1.4429312] [3.3737772]\n",
      "916 1.052645 [1.4428027] [3.374155]\n",
      "917 1.052629 [1.4426745] [3.3745317]\n",
      "918 1.0526134 [1.4425467] [3.3749075]\n",
      "919 1.0525978 [1.4424193] [3.375282]\n",
      "920 1.0525825 [1.4422923] [3.3756554]\n",
      "921 1.0525668 [1.4421657] [3.3760276]\n",
      "922 1.0525514 [1.4420395] [3.3763988]\n",
      "923 1.0525361 [1.4419136] [3.3767688]\n",
      "924 1.0525211 [1.4417881] [3.3771377]\n",
      "925 1.0525062 [1.441663] [3.3775055]\n",
      "926 1.052491 [1.4415383] [3.3778722]\n",
      "927 1.0524763 [1.441414] [3.378238]\n",
      "928 1.0524614 [1.44129] [3.3786025]\n",
      "929 1.0524466 [1.4411664] [3.3789659]\n",
      "930 1.0524321 [1.4410431] [3.3793283]\n",
      "931 1.0524175 [1.4409202] [3.3796895]\n",
      "932 1.052403 [1.4407977] [3.3800497]\n",
      "933 1.0523885 [1.4406755] [3.3804088]\n",
      "934 1.0523744 [1.4405538] [3.3807669]\n",
      "935 1.0523602 [1.4404324] [3.3811238]\n",
      "936 1.0523461 [1.4403114] [3.3814797]\n",
      "937 1.0523319 [1.4401907] [3.3818345]\n",
      "938 1.0523181 [1.4400704] [3.3821883]\n",
      "939 1.0523044 [1.4399505] [3.382541]\n",
      "940 1.0522904 [1.4398309] [3.3828926]\n",
      "941 1.0522766 [1.4397117] [3.3832433]\n",
      "942 1.0522631 [1.4395927] [3.3835928]\n",
      "943 1.0522496 [1.4394742] [3.3839414]\n",
      "944 1.0522362 [1.439356] [3.3842888]\n",
      "945 1.0522228 [1.4392382] [3.3846352]\n",
      "946 1.0522094 [1.4391207] [3.3849807]\n",
      "947 1.0521963 [1.4390035] [3.385325]\n",
      "948 1.0521832 [1.4388866] [3.3856683]\n",
      "949 1.05217 [1.4387702] [3.3860106]\n",
      "950 1.0521572 [1.4386541] [3.3863518]\n",
      "951 1.052144 [1.4385383] [3.386692]\n",
      "952 1.0521312 [1.4384229] [3.3870313]\n",
      "953 1.0521188 [1.4383079] [3.3873696]\n",
      "954 1.0521059 [1.4381932] [3.3877068]\n",
      "955 1.0520934 [1.4380789] [3.388043]\n",
      "956 1.0520809 [1.4379649] [3.3883781]\n",
      "957 1.0520684 [1.4378513] [3.3887124]\n",
      "958 1.052056 [1.437738] [3.3890455]\n",
      "959 1.0520438 [1.4376249] [3.3893776]\n",
      "960 1.0520316 [1.4375123] [3.3897088]\n",
      "961 1.0520195 [1.4374] [3.390039]\n",
      "962 1.0520072 [1.437288] [3.3903682]\n",
      "963 1.0519953 [1.4371765] [3.3906965]\n",
      "964 1.0519835 [1.4370651] [3.3910239]\n",
      "965 1.0519717 [1.4369541] [3.39135]\n",
      "966 1.05196 [1.4368435] [3.3916752]\n",
      "967 1.0519482 [1.4367332] [3.3919995]\n",
      "968 1.0519364 [1.4366233] [3.3923228]\n",
      "969 1.0519248 [1.4365137] [3.3926451]\n",
      "970 1.0519135 [1.4364043] [3.3929665]\n",
      "971 1.0519019 [1.4362954] [3.393287]\n",
      "972 1.0518906 [1.4361868] [3.3936064]\n",
      "973 1.0518793 [1.4360784] [3.393925]\n",
      "974 1.0518681 [1.4359704] [3.3942425]\n",
      "975 1.051857 [1.4358628] [3.3945591]\n",
      "976 1.0518458 [1.4357554] [3.3948748]\n",
      "977 1.0518347 [1.4356483] [3.3951895]\n",
      "978 1.0518239 [1.4355416] [3.3955033]\n",
      "979 1.0518128 [1.4354352] [3.395816]\n"
     ]
    },
    {
     "name": "stdout",
     "output_type": "stream",
     "text": [
      "980 1.0518022 [1.4353291] [3.396128]\n",
      "981 1.0517912 [1.4352233] [3.3964388]\n",
      "982 1.0517807 [1.435118] [3.3967488]\n",
      "983 1.0517699 [1.4350128] [3.397058]\n",
      "984 1.0517592 [1.434908] [3.3973663]\n",
      "985 1.0517488 [1.4348035] [3.3976736]\n",
      "986 1.0517384 [1.4346993] [3.39798]\n",
      "987 1.051728 [1.4345953] [3.3982854]\n",
      "988 1.0517175 [1.4344918] [3.3985898]\n",
      "989 1.0517073 [1.4343885] [3.3988934]\n",
      "990 1.051697 [1.4342855] [3.3991961]\n",
      "991 1.0516868 [1.4341829] [3.399498]\n",
      "992 1.0516769 [1.4340806] [3.3997989]\n",
      "993 1.0516669 [1.4339786] [3.4000988]\n",
      "994 1.0516568 [1.4338769] [3.4003978]\n",
      "995 1.0516471 [1.4337754] [3.400696]\n",
      "996 1.0516372 [1.4336743] [3.4009933]\n",
      "997 1.0516272 [1.4335735] [3.4012897]\n",
      "998 1.0516174 [1.433473] [3.4015853]\n",
      "999 1.051608 [1.4333727] [3.40188]\n",
      "1000 1.0515982 [1.4332728] [3.4021738]\n",
      "1001 1.0515887 [1.4331732] [3.4024665]\n",
      "1002 1.0515792 [1.4330739] [3.4027586]\n",
      "1003 1.0515699 [1.4329748] [3.4030497]\n",
      "1004 1.0515604 [1.4328761] [3.4033399]\n",
      "1005 1.0515512 [1.4327776] [3.4036293]\n",
      "1006 1.0515418 [1.4326795] [3.4039178]\n",
      "1007 1.0515325 [1.4325817] [3.4042056]\n",
      "1008 1.0515234 [1.4324841] [3.4044924]\n",
      "1009 1.0515143 [1.4323869] [3.4047782]\n",
      "1010 1.0515051 [1.43229] [3.4050634]\n",
      "1011 1.0514961 [1.4321933] [3.4053476]\n",
      "1012 1.0514873 [1.432097] [3.405631]\n",
      "1013 1.0514784 [1.4320009] [3.4059136]\n",
      "1014 1.0514697 [1.431905] [3.4061952]\n",
      "1015 1.0514607 [1.4318095] [3.406476]\n",
      "1016 1.0514522 [1.4317143] [3.406756]\n",
      "1017 1.0514433 [1.4316194] [3.407035]\n",
      "1018 1.0514348 [1.4315248] [3.4073133]\n",
      "1019 1.0514262 [1.4314303] [3.4075909]\n",
      "1020 1.0514177 [1.4313363] [3.4078674]\n",
      "1021 1.0514092 [1.4312425] [3.4081433]\n",
      "1022 1.0514008 [1.4311489] [3.4084182]\n",
      "1023 1.0513924 [1.4310557] [3.4086924]\n",
      "1024 1.051384 [1.4309627] [3.4089658]\n",
      "1025 1.0513757 [1.4308699] [3.4092383]\n",
      "1026 1.0513675 [1.4307775] [3.4095101]\n",
      "1027 1.0513593 [1.4306854] [3.409781]\n",
      "1028 1.0513512 [1.4305935] [3.410051]\n",
      "1029 1.0513433 [1.4305019] [3.4103205]\n",
      "1030 1.0513351 [1.4304106] [3.410589]\n",
      "1031 1.051327 [1.4303195] [3.4108567]\n",
      "1032 1.0513194 [1.4302288] [3.4111235]\n",
      "1033 1.0513114 [1.4301383] [3.4113896]\n",
      "1034 1.0513036 [1.4300481] [3.411655]\n",
      "1035 1.0512956 [1.4299581] [3.4119194]\n",
      "1036 1.051288 [1.4298685] [3.412183]\n",
      "1037 1.0512803 [1.429779] [3.412446]\n",
      "1038 1.0512725 [1.4296899] [3.412708]\n",
      "1039 1.051265 [1.429601] [3.4129694]\n",
      "1040 1.0512574 [1.4295124] [3.41323]\n",
      "1041 1.0512499 [1.429424] [3.4134898]\n",
      "1042 1.0512425 [1.429336] [3.4137487]\n",
      "1043 1.051235 [1.4292481] [3.414007]\n",
      "1044 1.0512275 [1.4291605] [3.4142644]\n",
      "1045 1.0512203 [1.4290732] [3.4145212]\n",
      "1046 1.0512131 [1.4289862] [3.414777]\n",
      "1047 1.0512058 [1.4288994] [3.4150321]\n",
      "1048 1.0511985 [1.4288129] [3.4152865]\n",
      "1049 1.0511913 [1.4287266] [3.4155402]\n",
      "1050 1.0511842 [1.4286406] [3.4157932]\n",
      "1051 1.0511771 [1.4285549] [3.4160452]\n",
      "1052 1.0511701 [1.4284694] [3.4162965]\n",
      "1053 1.0511632 [1.4283842] [3.416547]\n",
      "1054 1.0511563 [1.4282992] [3.416797]\n",
      "1055 1.0511491 [1.4282144] [3.417046]\n",
      "1056 1.0511423 [1.4281299] [3.4172945]\n",
      "1057 1.0511354 [1.4280457] [3.4175422]\n",
      "1058 1.0511287 [1.4279618] [3.417789]\n",
      "1059 1.051122 [1.4278781] [3.418035]\n",
      "1060 1.0511154 [1.4277947] [3.4182804]\n",
      "1061 1.0511088 [1.4277115] [3.418525]\n",
      "1062 1.0511019 [1.4276285] [3.418769]\n",
      "1063 1.0510955 [1.4275458] [3.419012]\n",
      "1064 1.0510889 [1.4274633] [3.4192545]\n",
      "1065 1.0510823 [1.427381] [3.4194963]\n",
      "1066 1.0510759 [1.427299] [3.4197373]\n",
      "1067 1.0510694 [1.4272172] [3.4199777]\n",
      "1068 1.051063 [1.4271358] [3.4202173]\n",
      "1069 1.0510569 [1.4270546] [3.4204562]\n",
      "1070 1.0510504 [1.4269736] [3.4206944]\n",
      "1071 1.0510442 [1.4268929] [3.4209318]\n",
      "1072 1.051038 [1.4268124] [3.4211686]\n",
      "1073 1.0510316 [1.4267321] [3.4214046]\n",
      "1074 1.0510255 [1.4266521] [3.42164]\n",
      "1075 1.0510194 [1.4265723] [3.4218745]\n",
      "1076 1.0510131 [1.4264927] [3.4221084]\n",
      "1077 1.0510073 [1.4264134] [3.4223416]\n",
      "1078 1.0510012 [1.4263344] [3.422574]\n",
      "1079 1.0509953 [1.4262555] [3.4228058]\n",
      "1080 1.0509894 [1.4261769] [3.4230368]\n",
      "1081 1.0509832 [1.4260986] [3.4232671]\n",
      "1082 1.0509772 [1.4260204] [3.423497]\n",
      "1083 1.0509716 [1.4259424] [3.423726]\n",
      "1084 1.0509658 [1.4258647] [3.4239545]\n",
      "1085 1.0509602 [1.4257872] [3.4241822]\n",
      "1086 1.0509546 [1.42571] [3.4244092]\n",
      "1087 1.0509486 [1.425633] [3.4246354]\n",
      "1088 1.0509429 [1.4255562] [3.424861]\n",
      "1089 1.0509372 [1.4254797] [3.425086]\n",
      "1090 1.0509317 [1.4254034] [3.4253104]\n",
      "1091 1.050926 [1.4253273] [3.425534]\n",
      "1092 1.0509205 [1.4252515] [3.425757]\n",
      "1093 1.0509151 [1.4251759] [3.4259791]\n",
      "1094 1.0509096 [1.4251006] [3.4262009]\n",
      "1095 1.050904 [1.4250255] [3.4264219]\n",
      "1096 1.0508987 [1.4249506] [3.4266422]\n",
      "1097 1.0508934 [1.4248759] [3.4268618]\n",
      "1098 1.0508881 [1.4248013] [3.4270806]\n",
      "1099 1.0508828 [1.4247271] [3.427299]\n",
      "1100 1.0508773 [1.424653] [3.4275167]\n",
      "1101 1.0508724 [1.4245793] [3.4277337]\n",
      "1102 1.050867 [1.4245057] [3.42795]\n",
      "1103 1.050862 [1.4244324] [3.4281657]\n",
      "1104 1.0508565 [1.4243592] [3.4283807]\n",
      "1105 1.0508515 [1.4242862] [3.428595]\n",
      "1106 1.0508465 [1.4242135] [3.428809]\n",
      "1107 1.0508416 [1.424141] [3.429022]\n",
      "1108 1.0508363 [1.4240688] [3.4292345]\n",
      "1109 1.0508314 [1.4239968] [3.4294465]\n",
      "1110 1.0508262 [1.4239249] [3.4296577]\n",
      "1111 1.0508214 [1.4238533] [3.4298682]\n",
      "1112 1.0508164 [1.4237819] [3.4300783]\n",
      "1113 1.0508118 [1.4237107] [3.4302876]\n",
      "1114 1.0508069 [1.4236398] [3.4304962]\n",
      "1115 1.0508022 [1.423569] [3.4307044]\n",
      "1116 1.0507972 [1.4234984] [3.4309118]\n",
      "1117 1.0507923 [1.423428] [3.4311187]\n",
      "1118 1.0507877 [1.423358] [3.431325]\n",
      "1119 1.050783 [1.423288] [3.4315305]\n",
      "1120 1.0507784 [1.4232183] [3.4317355]\n",
      "1121 1.0507736 [1.4231488] [3.4319398]\n",
      "1122 1.050769 [1.4230795] [3.4321437]\n",
      "1123 1.0507644 [1.4230103] [3.4323468]\n",
      "1124 1.0507598 [1.4229414] [3.4325495]\n",
      "1125 1.0507553 [1.4228728] [3.4327514]\n",
      "1126 1.0507506 [1.4228042] [3.4329526]\n",
      "1127 1.0507463 [1.4227359] [3.4331534]\n",
      "1128 1.0507418 [1.4226679] [3.4333534]\n",
      "1129 1.0507376 [1.4226] [3.433553]\n",
      "1130 1.050733 [1.4225323] [3.4337518]\n",
      "1131 1.0507286 [1.4224648] [3.4339502]\n",
      "1132 1.0507243 [1.4223976] [3.4341478]\n",
      "1133 1.0507197 [1.4223306] [3.434345]\n",
      "1134 1.0507156 [1.4222637] [3.4345415]\n",
      "1135 1.0507114 [1.4221971] [3.4347374]\n",
      "1136 1.0507072 [1.4221307] [3.434933]\n",
      "1137 1.0507029 [1.4220644] [3.4351277]\n",
      "1138 1.0506988 [1.4219984] [3.435322]\n",
      "1139 1.0506946 [1.4219326] [3.4355156]\n",
      "1140 1.0506902 [1.4218669] [3.4357088]\n",
      "1141 1.0506861 [1.4218014] [3.4359012]\n",
      "1142 1.050682 [1.4217361] [3.436093]\n",
      "1143 1.0506781 [1.421671] [3.4362845]\n",
      "1144 1.050674 [1.4216062] [3.4364753]\n",
      "1145 1.05067 [1.4215415] [3.4366655]\n",
      "1146 1.0506659 [1.421477] [3.436855]\n",
      "1147 1.050662 [1.4214127] [3.4370441]\n",
      "1148 1.0506579 [1.4213486] [3.4372327]\n",
      "1149 1.0506539 [1.4212847] [3.4374206]\n",
      "1150 1.0506504 [1.4212209] [3.437608]\n",
      "1151 1.0506462 [1.4211574] [3.4377947]\n",
      "1152 1.0506425 [1.4210941] [3.437981]\n",
      "1153 1.0506384 [1.4210309] [3.4381666]\n",
      "1154 1.0506347 [1.4209679] [3.4383516]\n",
      "1155 1.0506309 [1.4209051] [3.4385362]\n",
      "1156 1.0506271 [1.4208425] [3.4387202]\n",
      "1157 1.0506234 [1.4207802] [3.4389038]\n",
      "1158 1.0506195 [1.420718] [3.4390867]\n",
      "1159 1.0506159 [1.420656] [3.439269]\n",
      "1160 1.0506121 [1.4205941] [3.439451]\n",
      "1161 1.0506086 [1.4205325] [3.4396322]\n",
      "1162 1.050605 [1.420471] [3.439813]\n",
      "1163 1.0506015 [1.4204097] [3.4399931]\n",
      "1164 1.0505977 [1.4203485] [3.440173]\n",
      "1165 1.0505942 [1.4202876] [3.440352]\n",
      "1166 1.0505905 [1.4202268] [3.4405305]\n",
      "1167 1.0505872 [1.4201663] [3.4407086]\n",
      "1168 1.0505836 [1.4201059] [3.4408863]\n",
      "1169 1.0505801 [1.4200457] [3.4410632]\n",
      "1170 1.0505768 [1.4199858] [3.4412396]\n",
      "1171 1.0505732 [1.4199259] [3.4414155]\n",
      "1172 1.0505697 [1.4198662] [3.441591]\n",
      "1173 1.0505664 [1.4198067] [3.4417658]\n",
      "1174 1.0505629 [1.4197475] [3.44194]\n",
      "1175 1.0505596 [1.4196883] [3.4421139]\n",
      "1176 1.0505562 [1.4196295] [3.4422872]\n",
      "1177 1.0505528 [1.4195707] [3.44246]\n",
      "1178 1.0505496 [1.419512] [3.4426324]\n",
      "1179 1.0505463 [1.4194536] [3.442804]\n",
      "1180 1.0505432 [1.4193953] [3.4429753]\n",
      "1181 1.05054 [1.4193373] [3.443146]\n",
      "1182 1.0505366 [1.4192793] [3.4433162]\n",
      "1183 1.0505332 [1.4192216] [3.443486]\n",
      "1184 1.0505303 [1.4191641] [3.4436553]\n",
      "1185 1.0505272 [1.4191067] [3.443824]\n",
      "1186 1.050524 [1.4190495] [3.4439921]\n",
      "1187 1.0505209 [1.4189925] [3.4441597]\n",
      "1188 1.0505177 [1.4189357] [3.4443269]\n",
      "1189 1.0505147 [1.4188789] [3.4444935]\n",
      "1190 1.0505116 [1.4188224] [3.4446597]\n",
      "1191 1.0505085 [1.418766] [3.4448254]\n",
      "1192 1.0505054 [1.4187099] [3.4449906]\n",
      "1193 1.0505024 [1.4186538] [3.4451554]\n",
      "1194 1.0504993 [1.418598] [3.4453197]\n",
      "1195 1.0504966 [1.4185424] [3.4454834]\n",
      "1196 1.0504935 [1.4184868] [3.4456468]\n",
      "1197 1.0504906 [1.4184315] [3.4458096]\n",
      "1198 1.0504876 [1.4183763] [3.4459717]\n",
      "1199 1.0504845 [1.4183213] [3.4461334]\n",
      "1200 1.0504817 [1.4182664] [3.4462945]\n",
      "1201 1.0504788 [1.4182117] [3.4464552]\n",
      "1202 1.0504761 [1.4181572] [3.4466155]\n",
      "1203 1.0504731 [1.4181029] [3.4467752]\n",
      "1204 1.0504701 [1.4180486] [3.4469345]\n",
      "1205 1.0504676 [1.4179946] [3.4470932]\n",
      "1206 1.0504649 [1.4179407] [3.4472516]\n",
      "1207 1.0504618 [1.4178871] [3.4474094]\n",
      "1208 1.0504591 [1.4178336] [3.4475667]\n",
      "1209 1.0504566 [1.4177802] [3.4477236]\n"
     ]
    },
    {
     "name": "stdout",
     "output_type": "stream",
     "text": [
      "1210 1.0504538 [1.417727] [3.44788]\n",
      "1211 1.0504509 [1.417674] [3.4480362]\n",
      "1212 1.0504483 [1.417621] [3.448192]\n",
      "1213 1.0504457 [1.4175683] [3.448347]\n",
      "1214 1.050443 [1.4175158] [3.4485018]\n",
      "1215 1.0504403 [1.4174633] [3.448656]\n",
      "1216 1.0504378 [1.417411] [3.4488099]\n",
      "1217 1.0504351 [1.4173589] [3.4489632]\n",
      "1218 1.0504326 [1.4173069] [3.449116]\n",
      "1219 1.0504298 [1.417255] [3.4492683]\n",
      "1220 1.0504274 [1.4172034] [3.4494202]\n",
      "1221 1.0504247 [1.4171519] [3.4495716]\n",
      "1222 1.0504223 [1.4171005] [3.4497225]\n",
      "1223 1.0504196 [1.4170493] [3.449873]\n",
      "1224 1.0504172 [1.4169983] [3.450023]\n",
      "1225 1.0504148 [1.4169474] [3.4501727]\n",
      "1226 1.0504119 [1.4168966] [3.450322]\n",
      "1227 1.0504096 [1.416846] [3.4504707]\n",
      "1228 1.0504073 [1.4167956] [3.450619]\n",
      "1229 1.050405 [1.4167453] [3.4507668]\n",
      "1230 1.0504023 [1.4166951] [3.4509141]\n",
      "1231 1.0503999 [1.4166452] [3.451061]\n",
      "1232 1.0503975 [1.4165953] [3.4512076]\n",
      "1233 1.050395 [1.4165456] [3.4513538]\n",
      "1234 1.0503927 [1.416496] [3.4514995]\n",
      "1235 1.0503905 [1.4164467] [3.4516447]\n",
      "1236 1.0503881 [1.4163975] [3.4517894]\n",
      "1237 1.0503857 [1.4163483] [3.4519336]\n",
      "1238 1.0503834 [1.4162993] [3.4520776]\n",
      "1239 1.0503813 [1.4162506] [3.4522212]\n",
      "1240 1.050379 [1.416202] [3.4523642]\n",
      "1241 1.0503767 [1.4161534] [3.4525068]\n",
      "1242 1.0503743 [1.416105] [3.4526489]\n",
      "1243 1.0503722 [1.4160569] [3.4527907]\n",
      "1244 1.0503699 [1.4160088] [3.4529321]\n",
      "1245 1.0503678 [1.4159609] [3.453073]\n",
      "1246 1.0503654 [1.4159131] [3.4532135]\n",
      "1247 1.0503633 [1.4158654] [3.4533536]\n",
      "1248 1.0503613 [1.415818] [3.4534934]\n",
      "1249 1.0503592 [1.4157706] [3.4536326]\n",
      "1250 1.0503569 [1.4157234] [3.4537714]\n",
      "1251 1.0503547 [1.4156764] [3.4539096]\n",
      "1252 1.0503527 [1.4156294] [3.4540477]\n",
      "1253 1.0503504 [1.4155825] [3.4541852]\n",
      "1254 1.0503485 [1.4155359] [3.4543223]\n",
      "1255 1.0503464 [1.4154894] [3.4544592]\n",
      "1256 1.0503443 [1.4154431] [3.4545956]\n",
      "1257 1.0503423 [1.4153968] [3.4547315]\n",
      "1258 1.05034 [1.4153507] [3.454867]\n",
      "1259 1.0503383 [1.4153048] [3.455002]\n",
      "1260 1.0503362 [1.415259] [3.4551368]\n",
      "1261 1.0503342 [1.4152133] [3.455271]\n",
      "1262 1.0503321 [1.4151678] [3.455405]\n",
      "1263 1.05033 [1.4151224] [3.4555385]\n",
      "1264 1.0503283 [1.4150771] [3.4556715]\n",
      "1265 1.0503262 [1.4150319] [3.4558043]\n",
      "1266 1.0503244 [1.4149868] [3.4559367]\n",
      "1267 1.0503224 [1.414942] [3.4560685]\n",
      "1268 1.0503204 [1.4148973] [3.4562001]\n",
      "1269 1.0503185 [1.4148527] [3.4563313]\n",
      "1270 1.0503166 [1.4148083] [3.456462]\n",
      "1271 1.0503145 [1.4147639] [3.4565923]\n",
      "1272 1.0503128 [1.4147197] [3.4567223]\n",
      "1273 1.0503109 [1.4146756] [3.4568517]\n",
      "1274 1.0503092 [1.4146316] [3.456981]\n",
      "1275 1.0503073 [1.4145879] [3.4571097]\n",
      "1276 1.0503055 [1.4145442] [3.4572382]\n",
      "1277 1.0503037 [1.4145007] [3.4573662]\n",
      "1278 1.0503018 [1.4144573] [3.4574938]\n",
      "1279 1.0503 [1.414414] [3.457621]\n",
      "1280 1.0502981 [1.4143709] [3.457748]\n",
      "1281 1.0502965 [1.4143279] [3.4578745]\n",
      "1282 1.0502946 [1.414285] [3.4580007]\n",
      "1283 1.050293 [1.4142421] [3.4581263]\n",
      "1284 1.0502911 [1.4141995] [3.4582517]\n",
      "1285 1.0502893 [1.4141569] [3.4583766]\n",
      "1286 1.0502876 [1.4141146] [3.4585013]\n",
      "1287 1.0502858 [1.4140724] [3.4586256]\n",
      "1288 1.0502841 [1.4140303] [3.4587495]\n",
      "1289 1.0502827 [1.4139882] [3.458873]\n",
      "1290 1.050281 [1.4139464] [3.458996]\n",
      "1291 1.050279 [1.4139047] [3.4591188]\n",
      "1292 1.0502775 [1.4138631] [3.4592412]\n",
      "1293 1.0502758 [1.4138216] [3.4593632]\n",
      "1294 1.0502741 [1.4137802] [3.4594848]\n",
      "1295 1.0502725 [1.413739] [3.4596062]\n",
      "1296 1.0502708 [1.4136978] [3.459727]\n",
      "1297 1.0502695 [1.4136568] [3.4598477]\n",
      "1298 1.0502677 [1.413616] [3.4599679]\n",
      "1299 1.050266 [1.4135752] [3.4600878]\n",
      "1300 1.0502645 [1.4135345] [3.4602072]\n",
      "1301 1.0502629 [1.413494] [3.4603264]\n",
      "1302 1.0502613 [1.4134536] [3.4604452]\n",
      "1303 1.0502598 [1.4134133] [3.4605637]\n",
      "1304 1.0502582 [1.4133731] [3.4606817]\n",
      "1305 1.0502567 [1.413333] [3.4607995]\n",
      "1306 1.0502553 [1.4132931] [3.4609168]\n",
      "1307 1.0502535 [1.4132533] [3.4610338]\n",
      "1308 1.0502521 [1.4132136] [3.4611504]\n",
      "1309 1.0502506 [1.413174] [3.4612668]\n",
      "1310 1.0502489 [1.4131346] [3.4613826]\n",
      "1311 1.0502476 [1.4130952] [3.4614983]\n",
      "1312 1.050246 [1.413056] [3.4616134]\n",
      "1313 1.0502448 [1.4130169] [3.4617283]\n",
      "1314 1.0502431 [1.4129779] [3.461843]\n",
      "1315 1.0502418 [1.4129391] [3.4619572]\n",
      "1316 1.0502402 [1.4129003] [3.4620712]\n",
      "1317 1.0502387 [1.4128617] [3.4621847]\n",
      "1318 1.0502374 [1.4128232] [3.462298]\n",
      "1319 1.050236 [1.4127848] [3.4624107]\n",
      "1320 1.0502346 [1.4127465] [3.4625232]\n",
      "1321 1.0502332 [1.4127084] [3.4626355]\n",
      "1322 1.0502317 [1.4126704] [3.4627473]\n",
      "1323 1.0502303 [1.4126325] [3.462859]\n",
      "1324 1.0502291 [1.4125947] [3.46297]\n",
      "1325 1.0502276 [1.412557] [3.463081]\n",
      "1326 1.0502263 [1.4125195] [3.4631915]\n",
      "1327 1.050225 [1.4124819] [3.4633017]\n",
      "1328 1.0502237 [1.4124446] [3.4634116]\n",
      "1329 1.0502222 [1.4124073] [3.463521]\n",
      "1330 1.0502208 [1.4123701] [3.4636302]\n",
      "1331 1.0502194 [1.412333] [3.4637392]\n",
      "1332 1.0502182 [1.412296] [3.4638476]\n",
      "1333 1.050217 [1.4122592] [3.4639559]\n",
      "1334 1.0502158 [1.4122225] [3.464064]\n",
      "1335 1.0502144 [1.4121859] [3.4641714]\n",
      "1336 1.0502131 [1.4121494] [3.4642787]\n",
      "1337 1.0502117 [1.4121131] [3.4643857]\n",
      "1338 1.0502105 [1.4120768] [3.4644923]\n",
      "1339 1.0502094 [1.4120407] [3.4645987]\n",
      "1340 1.0502083 [1.4120047] [3.4647048]\n",
      "1341 1.0502069 [1.4119687] [3.4648104]\n",
      "1342 1.0502055 [1.4119328] [3.4649158]\n",
      "1343 1.0502043 [1.4118971] [3.465021]\n",
      "1344 1.0502031 [1.4118614] [3.4651256]\n",
      "1345 1.0502018 [1.4118259] [3.46523]\n",
      "1346 1.0502008 [1.4117905] [3.4653342]\n",
      "1347 1.0501995 [1.4117552] [3.465438]\n",
      "1348 1.0501983 [1.41172] [3.4655414]\n",
      "1349 1.050197 [1.411685] [3.4656446]\n",
      "1350 1.0501958 [1.4116501] [3.4657474]\n",
      "1351 1.0501947 [1.4116151] [3.4658499]\n",
      "1352 1.0501938 [1.4115803] [3.4659522]\n",
      "1353 1.0501925 [1.4115456] [3.4660542]\n",
      "1354 1.0501912 [1.4115111] [3.4661558]\n",
      "1355 1.0501902 [1.4114766] [3.466257]\n",
      "1356 1.050189 [1.4114423] [3.4663582]\n",
      "1357 1.050188 [1.4114081] [3.4664588]\n",
      "1358 1.0501866 [1.411374] [3.4665592]\n",
      "1359 1.0501856 [1.4113399] [3.4666593]\n",
      "1360 1.0501846 [1.4113059] [3.4667592]\n",
      "1361 1.0501833 [1.411272] [3.4668586]\n",
      "1362 1.0501823 [1.4112383] [3.4669578]\n",
      "1363 1.0501812 [1.4112047] [3.4670568]\n",
      "1364 1.0501802 [1.4111712] [3.4671555]\n",
      "1365 1.0501791 [1.4111377] [3.4672537]\n",
      "1366 1.0501779 [1.4111043] [3.4673517]\n",
      "1367 1.0501771 [1.4110711] [3.4674494]\n",
      "1368 1.0501759 [1.4110379] [3.467547]\n",
      "1369 1.0501747 [1.4110049] [3.4676442]\n",
      "1370 1.0501738 [1.410972] [3.467741]\n",
      "1371 1.0501728 [1.4109391] [3.4678376]\n",
      "1372 1.0501719 [1.4109063] [3.467934]\n",
      "1373 1.0501708 [1.4108737] [3.46803]\n",
      "1374 1.0501698 [1.4108411] [3.4681256]\n",
      "1375 1.0501688 [1.4108087] [3.468221]\n",
      "1376 1.0501678 [1.4107764] [3.468316]\n",
      "1377 1.0501666 [1.4107441] [3.468411]\n",
      "1378 1.0501655 [1.4107119] [3.4685056]\n",
      "1379 1.0501647 [1.4106798] [3.4685998]\n",
      "1380 1.0501637 [1.4106479] [3.4686937]\n",
      "1381 1.0501629 [1.410616] [3.4687874]\n",
      "1382 1.0501617 [1.4105842] [3.468881]\n",
      "1383 1.0501608 [1.4105525] [3.468974]\n",
      "1384 1.0501597 [1.4105209] [3.469067]\n",
      "1385 1.0501589 [1.4104894] [3.4691596]\n",
      "1386 1.050158 [1.4104581] [3.4692519]\n",
      "1387 1.050157 [1.4104267] [3.469344]\n",
      "1388 1.050156 [1.4103955] [3.4694357]\n",
      "1389 1.0501552 [1.4103644] [3.4695272]\n",
      "1390 1.050154 [1.4103334] [3.4696186]\n",
      "1391 1.0501534 [1.4103024] [3.4697096]\n",
      "1392 1.0501524 [1.4102715] [3.4698002]\n",
      "1393 1.0501515 [1.4102408] [3.4698906]\n",
      "1394 1.0501505 [1.4102101] [3.4699807]\n",
      "1395 1.0501494 [1.4101796] [3.4700706]\n",
      "1396 1.0501486 [1.4101491] [3.4701602]\n",
      "1397 1.0501479 [1.4101187] [3.4702497]\n",
      "1398 1.0501468 [1.4100884] [3.4703388]\n",
      "1399 1.0501462 [1.4100583] [3.4704275]\n",
      "1400 1.050145 [1.4100281] [3.470516]\n",
      "1401 1.0501446 [1.409998] [3.4706042]\n",
      "1402 1.0501434 [1.4099681] [3.4706922]\n",
      "1403 1.0501426 [1.4099383] [3.47078]\n",
      "1404 1.0501419 [1.4099085] [3.4708674]\n",
      "1405 1.0501409 [1.4098788] [3.4709547]\n",
      "1406 1.0501401 [1.4098493] [3.4710417]\n",
      "1407 1.0501393 [1.4098198] [3.4711285]\n",
      "1408 1.0501382 [1.4097904] [3.471215]\n",
      "1409 1.0501376 [1.4097611] [3.471301]\n",
      "1410 1.0501367 [1.4097319] [3.471387]\n",
      "1411 1.0501357 [1.4097028] [3.4714725]\n",
      "1412 1.0501353 [1.4096737] [3.4715579]\n",
      "1413 1.0501343 [1.4096447] [3.471643]\n",
      "1414 1.0501335 [1.4096159] [3.4717278]\n",
      "1415 1.0501329 [1.4095871] [3.4718125]\n",
      "1416 1.0501318 [1.4095584] [3.471897]\n",
      "1417 1.0501311 [1.4095298] [3.471981]\n",
      "1418 1.0501304 [1.4095013] [3.472065]\n",
      "1419 1.0501294 [1.4094728] [3.4721487]\n",
      "1420 1.0501289 [1.4094445] [3.472232]\n",
      "1421 1.050128 [1.4094162] [3.4723153]\n",
      "1422 1.0501273 [1.409388] [3.4723983]\n",
      "1423 1.0501266 [1.4093598] [3.472481]\n",
      "1424 1.0501256 [1.4093318] [3.4725635]\n",
      "1425 1.050125 [1.4093039] [3.4726458]\n",
      "1426 1.050124 [1.409276] [3.4727275]\n",
      "1427 1.0501236 [1.4092482] [3.472809]\n",
      "1428 1.0501227 [1.4092206] [3.4728904]\n",
      "1429 1.0501219 [1.4091929] [3.4729714]\n",
      "1430 1.0501213 [1.4091654] [3.4730523]\n",
      "1431 1.0501205 [1.409138] [3.4731328]\n",
      "1432 1.0501199 [1.4091107] [3.4732132]\n",
      "1433 1.050119 [1.4090834] [3.4732933]\n",
      "1434 1.0501183 [1.4090562] [3.4733732]\n",
      "1435 1.0501179 [1.4090291] [3.4734528]\n",
      "1436 1.0501169 [1.4090021] [3.4735322]\n"
     ]
    },
    {
     "name": "stdout",
     "output_type": "stream",
     "text": [
      "1437 1.0501163 [1.4089751] [3.4736114]\n",
      "1438 1.0501157 [1.4089483] [3.4736903]\n",
      "1439 1.0501148 [1.4089216] [3.473769]\n",
      "1440 1.0501142 [1.4088949] [3.4738474]\n",
      "1441 1.0501134 [1.4088683] [3.4739256]\n",
      "1442 1.0501128 [1.4088417] [3.4740036]\n",
      "1443 1.0501122 [1.4088153] [3.4740813]\n",
      "1444 1.0501115 [1.4087889] [3.474159]\n",
      "1445 1.0501108 [1.4087626] [3.4742365]\n",
      "1446 1.0501102 [1.4087363] [3.4743137]\n",
      "1447 1.0501094 [1.4087102] [3.4743907]\n",
      "1448 1.0501089 [1.4086841] [3.4744675]\n",
      "1449 1.0501083 [1.4086581] [3.474544]\n",
      "1450 1.0501076 [1.4086323] [3.4746203]\n",
      "1451 1.050107 [1.4086064] [3.4746964]\n",
      "1452 1.0501062 [1.4085807] [3.4747722]\n",
      "1453 1.0501057 [1.4085549] [3.4748478]\n",
      "1454 1.0501051 [1.4085293] [3.4749231]\n",
      "1455 1.0501044 [1.4085038] [3.4749982]\n",
      "1456 1.0501039 [1.4084783] [3.475073]\n",
      "1457 1.0501032 [1.4084529] [3.4751477]\n",
      "1458 1.0501025 [1.4084276] [3.475222]\n",
      "1459 1.050102 [1.4084023] [3.4752963]\n",
      "1460 1.0501012 [1.4083772] [3.4753702]\n",
      "1461 1.0501008 [1.4083521] [3.4754438]\n",
      "1462 1.0501002 [1.4083271] [3.4755173]\n",
      "1463 1.0500994 [1.4083022] [3.4755905]\n",
      "1464 1.0500989 [1.4082773] [3.4756637]\n",
      "1465 1.0500982 [1.4082525] [3.4757366]\n",
      "1466 1.0500978 [1.4082278] [3.4758093]\n",
      "1467 1.0500972 [1.4082031] [3.4758818]\n",
      "1468 1.0500966 [1.4081786] [3.475954]\n",
      "1469 1.050096 [1.4081541] [3.476026]\n",
      "1470 1.0500953 [1.4081297] [3.4760978]\n",
      "1471 1.0500947 [1.4081054] [3.4761693]\n",
      "1472 1.0500942 [1.408081] [3.4762406]\n",
      "1473 1.0500938 [1.4080569] [3.4763117]\n",
      "1474 1.0500933 [1.4080328] [3.4763825]\n",
      "1475 1.0500927 [1.4080087] [3.4764533]\n",
      "1476 1.050092 [1.4079847] [3.4765239]\n",
      "1477 1.0500915 [1.4079608] [3.4765942]\n",
      "1478 1.0500908 [1.4079369] [3.4766643]\n",
      "1479 1.0500904 [1.4079132] [3.4767342]\n",
      "1480 1.05009 [1.4078895] [3.4768038]\n",
      "1481 1.0500891 [1.4078659] [3.4768732]\n",
      "1482 1.0500888 [1.4078424] [3.4769423]\n",
      "1483 1.0500882 [1.4078189] [3.4770114]\n",
      "1484 1.0500878 [1.4077955] [3.4770803]\n",
      "1485 1.0500872 [1.4077722] [3.477149]\n",
      "1486 1.0500865 [1.4077489] [3.4772174]\n",
      "1487 1.0500863 [1.4077257] [3.4772856]\n",
      "1488 1.0500857 [1.4077026] [3.4773536]\n",
      "1489 1.0500852 [1.4076796] [3.4774213]\n",
      "1490 1.0500846 [1.4076566] [3.477489]\n",
      "1491 1.0500842 [1.4076337] [3.4775565]\n",
      "1492 1.0500834 [1.4076108] [3.4776237]\n",
      "1493 1.0500832 [1.407588] [3.4776907]\n",
      "1494 1.0500827 [1.4075652] [3.4777575]\n",
      "1495 1.050082 [1.4075426] [3.477824]\n",
      "1496 1.0500816 [1.40752] [3.4778903]\n",
      "1497 1.0500811 [1.4074975] [3.4779565]\n",
      "1498 1.0500808 [1.4074751] [3.4780226]\n",
      "1499 1.0500803 [1.4074527] [3.4780884]\n",
      "1500 1.0500795 [1.4074304] [3.478154]\n",
      "1501 1.0500793 [1.4074081] [3.4782193]\n",
      "1502 1.0500787 [1.407386] [3.4782846]\n",
      "1503 1.0500783 [1.4073638] [3.4783497]\n",
      "1504 1.0500777 [1.4073417] [3.4784145]\n",
      "1505 1.0500771 [1.4073198] [3.4784791]\n",
      "1506 1.050077 [1.4072978] [3.4785435]\n",
      "1507 1.0500764 [1.407276] [3.4786077]\n",
      "1508 1.0500759 [1.4072542] [3.4786718]\n",
      "1509 1.0500755 [1.4072325] [3.4787357]\n",
      "1510 1.050075 [1.4072108] [3.4787993]\n",
      "1511 1.0500746 [1.4071892] [3.4788628]\n",
      "1512 1.0500743 [1.4071677] [3.478926]\n",
      "1513 1.0500736 [1.4071462] [3.4789891]\n",
      "1514 1.0500733 [1.4071249] [3.479052]\n",
      "1515 1.050073 [1.4071035] [3.4791148]\n",
      "1516 1.0500722 [1.4070823] [3.4791772]\n",
      "1517 1.050072 [1.4070611] [3.4792395]\n",
      "1518 1.0500716 [1.40704] [3.4793017]\n",
      "1519 1.0500714 [1.4070189] [3.4793637]\n",
      "1520 1.0500708 [1.4069979] [3.4794254]\n",
      "1521 1.0500704 [1.4069769] [3.479487]\n",
      "1522 1.0500698 [1.4069561] [3.4795485]\n",
      "1523 1.0500696 [1.4069352] [3.4796097]\n",
      "1524 1.050069 [1.4069145] [3.4796708]\n",
      "1525 1.0500686 [1.4068937] [3.4797316]\n",
      "1526 1.050068 [1.4068731] [3.4797924]\n",
      "1527 1.0500678 [1.4068525] [3.479853]\n",
      "1528 1.0500675 [1.406832] [3.4799132]\n",
      "1529 1.050067 [1.4068115] [3.4799733]\n",
      "1530 1.0500667 [1.4067911] [3.4800332]\n",
      "1531 1.0500662 [1.4067708] [3.480093]\n",
      "1532 1.0500658 [1.4067506] [3.4801526]\n",
      "1533 1.0500654 [1.4067303] [3.480212]\n",
      "1534 1.0500648 [1.4067101] [3.480271]\n",
      "1535 1.0500646 [1.4066901] [3.4803302]\n",
      "1536 1.0500642 [1.4066701] [3.480389]\n",
      "1537 1.0500638 [1.4066501] [3.4804478]\n",
      "1538 1.0500635 [1.4066302] [3.4805064]\n",
      "1539 1.0500629 [1.4066104] [3.4805648]\n",
      "1540 1.0500627 [1.4065906] [3.480623]\n",
      "1541 1.0500623 [1.4065708] [3.480681]\n",
      "1542 1.0500621 [1.4065511] [3.4807389]\n",
      "1543 1.0500616 [1.4065316] [3.4807966]\n",
      "1544 1.0500611 [1.406512] [3.480854]\n",
      "1545 1.050061 [1.4064925] [3.4809113]\n",
      "1546 1.0500604 [1.406473] [3.4809685]\n",
      "1547 1.05006 [1.4064536] [3.4810255]\n",
      "1548 1.0500599 [1.4064343] [3.4810822]\n",
      "1549 1.0500593 [1.406415] [3.481139]\n",
      "1550 1.0500591 [1.4063958] [3.4811954]\n",
      "1551 1.0500586 [1.4063766] [3.4812517]\n",
      "1552 1.0500582 [1.4063575] [3.4813077]\n",
      "1553 1.0500579 [1.4063385] [3.4813638]\n",
      "1554 1.0500576 [1.4063195] [3.4814196]\n",
      "1555 1.0500575 [1.4063005] [3.481475]\n",
      "1556 1.050057 [1.4062817] [3.4815307]\n",
      "1557 1.0500566 [1.4062629] [3.481586]\n",
      "1558 1.0500563 [1.4062442] [3.481641]\n",
      "1559 1.050056 [1.4062254] [3.4816961]\n",
      "1560 1.0500555 [1.4062068] [3.481751]\n",
      "1561 1.0500553 [1.4061882] [3.4818056]\n",
      "1562 1.0500548 [1.4061698] [3.48186]\n",
      "1563 1.0500546 [1.4061513] [3.4819143]\n",
      "1564 1.0500543 [1.4061329] [3.4819684]\n",
      "1565 1.050054 [1.4061146] [3.4820223]\n",
      "1566 1.0500536 [1.4060962] [3.4820762]\n",
      "1567 1.0500534 [1.406078] [3.4821298]\n",
      "1568 1.050053 [1.4060597] [3.4821832]\n",
      "1569 1.0500525 [1.4060416] [3.4822366]\n",
      "1570 1.0500524 [1.4060235] [3.4822898]\n",
      "1571 1.0500522 [1.4060055] [3.4823427]\n",
      "1572 1.0500517 [1.4059875] [3.4823956]\n",
      "1573 1.0500513 [1.4059696] [3.4824483]\n",
      "1574 1.0500511 [1.4059517] [3.4825008]\n",
      "1575 1.0500507 [1.405934] [3.4825532]\n",
      "1576 1.0500505 [1.4059162] [3.4826055]\n",
      "1577 1.0500501 [1.4058985] [3.4826574]\n",
      "1578 1.0500499 [1.4058808] [3.4827094]\n",
      "1579 1.0500495 [1.4058632] [3.4827611]\n",
      "1580 1.0500494 [1.4058456] [3.482813]\n",
      "1581 1.0500491 [1.4058281] [3.4828644]\n",
      "1582 1.0500486 [1.4058107] [3.4829156]\n",
      "1583 1.0500486 [1.4057933] [3.482967]\n",
      "1584 1.0500481 [1.405776] [3.483018]\n",
      "1585 1.050048 [1.4057587] [3.4830687]\n",
      "1586 1.0500475 [1.4057415] [3.4831195]\n",
      "1587 1.0500472 [1.4057243] [3.48317]\n",
      "1588 1.050047 [1.4057071] [3.4832203]\n",
      "1589 1.0500467 [1.4056901] [3.4832706]\n",
      "1590 1.0500464 [1.405673] [3.4833207]\n",
      "1591 1.0500461 [1.405656] [3.4833705]\n",
      "1592 1.0500458 [1.405639] [3.4834204]\n",
      "1593 1.0500457 [1.4056221] [3.48347]\n",
      "1594 1.0500454 [1.4056053] [3.4835196]\n",
      "1595 1.050045 [1.4055885] [3.483569]\n",
      "1596 1.0500449 [1.4055718] [3.483618]\n",
      "1597 1.0500444 [1.4055551] [3.4836671]\n",
      "1598 1.0500443 [1.4055386] [3.483716]\n",
      "1599 1.0500441 [1.405522] [3.4837646]\n",
      "1600 1.0500438 [1.4055054] [3.4838133]\n",
      "1601 1.0500433 [1.405489] [3.4838617]\n",
      "1602 1.0500432 [1.4054725] [3.48391]\n",
      "1603 1.050043 [1.4054562] [3.4839582]\n",
      "1604 1.0500427 [1.4054399] [3.4840062]\n",
      "1605 1.0500424 [1.4054235] [3.484054]\n",
      "1606 1.0500422 [1.4054073] [3.4841018]\n",
      "1607 1.0500419 [1.4053911] [3.4841495]\n",
      "1608 1.0500418 [1.405375] [3.484197]\n",
      "1609 1.0500414 [1.4053589] [3.484244]\n",
      "1610 1.0500413 [1.4053428] [3.4842913]\n",
      "1611 1.050041 [1.4053268] [3.4843383]\n",
      "1612 1.0500406 [1.4053109] [3.4843853]\n",
      "1613 1.0500405 [1.405295] [3.484432]\n",
      "1614 1.0500402 [1.4052792] [3.4844785]\n",
      "1615 1.05004 [1.4052633] [3.484525]\n",
      "1616 1.0500396 [1.4052476] [3.4845712]\n",
      "1617 1.0500395 [1.4052318] [3.4846175]\n",
      "1618 1.0500392 [1.4052162] [3.4846635]\n",
      "1619 1.0500389 [1.4052006] [3.4847095]\n",
      "1620 1.0500388 [1.405185] [3.4847553]\n",
      "1621 1.0500386 [1.4051695] [3.4848008]\n",
      "1622 1.0500383 [1.405154] [3.4848464]\n",
      "1623 1.0500381 [1.4051386] [3.4848917]\n",
      "1624 1.050038 [1.4051232] [3.484937]\n",
      "1625 1.0500376 [1.4051079] [3.484982]\n",
      "1626 1.0500373 [1.4050926] [3.485027]\n",
      "1627 1.050037 [1.4050773] [3.485072]\n",
      "1628 1.050037 [1.4050622] [3.4851165]\n",
      "1629 1.0500369 [1.405047] [3.485161]\n",
      "1630 1.0500363 [1.4050319] [3.4852054]\n",
      "1631 1.0500364 [1.4050169] [3.4852498]\n",
      "1632 1.0500362 [1.4050019] [3.4852939]\n",
      "1633 1.0500358 [1.4049869] [3.485338]\n",
      "1634 1.0500356 [1.404972] [3.4853818]\n",
      "1635 1.0500355 [1.404957] [3.4854257]\n",
      "1636 1.0500352 [1.4049422] [3.4854693]\n",
      "1637 1.0500351 [1.4049274] [3.4855127]\n",
      "1638 1.0500349 [1.4049126] [3.4855561]\n",
      "1639 1.0500346 [1.4048979] [3.4855993]\n",
      "1640 1.0500344 [1.4048833] [3.4856424]\n",
      "1641 1.0500342 [1.4048686] [3.4856853]\n",
      "1642 1.050034 [1.404854] [3.4857283]\n",
      "1643 1.0500337 [1.4048395] [3.485771]\n",
      "1644 1.0500336 [1.4048251] [3.4858136]\n",
      "1645 1.0500333 [1.4048107] [3.485856]\n",
      "1646 1.0500332 [1.4047962] [3.4858985]\n",
      "1647 1.0500329 [1.4047819] [3.4859407]\n",
      "1648 1.0500329 [1.4047676] [3.485983]\n",
      "1649 1.0500326 [1.4047533] [3.4860249]\n",
      "1650 1.0500323 [1.4047391] [3.4860666]\n",
      "1651 1.0500321 [1.404725] [3.4861083]\n",
      "1652 1.050032 [1.4047108] [3.4861498]\n",
      "1653 1.0500319 [1.4046967] [3.4861913]\n",
      "1654 1.0500315 [1.4046826] [3.4862325]\n",
      "1655 1.0500314 [1.4046686] [3.4862738]\n",
      "1656 1.0500313 [1.4046546] [3.4863148]\n",
      "1657 1.0500312 [1.4046407] [3.4863558]\n",
      "1658 1.0500308 [1.4046267] [3.4863966]\n",
      "1659 1.0500307 [1.4046129] [3.4864373]\n",
      "1660 1.0500305 [1.4045991] [3.4864779]\n",
      "1661 1.0500304 [1.4045854] [3.4865184]\n",
      "1662 1.0500301 [1.4045717] [3.4865587]\n",
      "1663 1.05003 [1.404558] [3.486599]\n",
      "1664 1.0500299 [1.4045444] [3.486639]\n",
      "1665 1.0500298 [1.4045308] [3.486679]\n",
      "1666 1.0500293 [1.4045172] [3.486719]\n",
      "1667 1.0500293 [1.4045037] [3.4867587]\n",
      "1668 1.050029 [1.4044902] [3.4867983]\n",
      "1669 1.050029 [1.4044768] [3.4868379]\n",
      "1670 1.0500287 [1.4044634] [3.4868772]\n",
      "1671 1.0500286 [1.40445] [3.4869165]\n",
      "1672 1.0500284 [1.4044367] [3.4869556]\n",
      "1673 1.0500282 [1.4044235] [3.4869947]\n",
      "1674 1.050028 [1.4044102] [3.4870336]\n",
      "1675 1.0500278 [1.404397] [3.4870725]\n",
      "1676 1.0500278 [1.4043838] [3.487111]\n",
      "1677 1.0500275 [1.4043707] [3.4871497]\n",
      "1678 1.0500274 [1.4043576] [3.487188]\n",
      "1679 1.0500273 [1.4043446] [3.4872265]\n",
      "1680 1.050027 [1.4043316] [3.4872646]\n",
      "1681 1.0500269 [1.4043186] [3.4873028]\n",
      "1682 1.0500267 [1.4043057] [3.4873407]\n",
      "1683 1.0500265 [1.4042928] [3.4873786]\n",
      "1684 1.0500265 [1.40428] [3.4874163]\n",
      "1685 1.0500263 [1.4042672] [3.487454]\n",
      "1686 1.0500262 [1.4042544] [3.4874916]\n",
      "1687 1.0500262 [1.4042417] [3.487529]\n",
      "1688 1.0500257 [1.4042289] [3.4875665]\n",
      "1689 1.0500257 [1.4042163] [3.4876037]\n",
      "1690 1.0500256 [1.4042037] [3.4876409]\n",
      "1691 1.0500255 [1.404191] [3.4876778]\n",
      "1692 1.0500251 [1.4041785] [3.4877148]\n",
      "1693 1.0500249 [1.404166] [3.4877515]\n",
      "1694 1.050025 [1.4041535] [3.4877882]\n",
      "1695 1.050025 [1.4041411] [3.4878247]\n",
      "1696 1.0500246 [1.4041287] [3.4878612]\n",
      "1697 1.0500245 [1.4041163] [3.4878974]\n",
      "1698 1.0500243 [1.404104] [3.4879336]\n",
      "1699 1.050024 [1.4040917] [3.4879699]\n",
      "1700 1.0500242 [1.4040794] [3.4880059]\n",
      "1701 1.050024 [1.4040673] [3.4880419]\n",
      "1702 1.0500238 [1.4040551] [3.4880776]\n",
      "1703 1.0500234 [1.404043] [3.4881134]\n",
      "1704 1.0500236 [1.4040308] [3.488149]\n",
      "1705 1.0500233 [1.4040188] [3.4881845]\n",
      "1706 1.0500231 [1.4040067] [3.4882197]\n",
      "1707 1.0500231 [1.4039947] [3.488255]\n",
      "1708 1.0500231 [1.4039828] [3.48829]\n",
      "1709 1.0500227 [1.4039708] [3.488325]\n",
      "1710 1.0500225 [1.4039589] [3.4883602]\n",
      "1711 1.0500227 [1.4039471] [3.488395]\n",
      "1712 1.0500222 [1.4039353] [3.4884298]\n",
      "1713 1.0500222 [1.4039235] [3.4884644]\n",
      "1714 1.0500222 [1.4039117] [3.488499]\n",
      "1715 1.050022 [1.4039] [3.4885333]\n",
      "1716 1.0500219 [1.4038883] [3.4885676]\n",
      "1717 1.0500218 [1.4038767] [3.488602]\n",
      "1718 1.0500216 [1.4038651] [3.488636]\n",
      "1719 1.0500214 [1.4038535] [3.48867]\n",
      "1720 1.0500214 [1.403842] [3.488704]\n"
     ]
    },
    {
     "name": "stdout",
     "output_type": "stream",
     "text": [
      "1721 1.050021 [1.4038305] [3.4887378]\n",
      "1722 1.050021 [1.4038191] [3.4887714]\n",
      "1723 1.050021 [1.4038076] [3.488805]\n",
      "1724 1.0500208 [1.4037962] [3.4888387]\n",
      "1725 1.0500207 [1.4037849] [3.488872]\n",
      "1726 1.0500207 [1.4037735] [3.4889054]\n",
      "1727 1.0500205 [1.4037622] [3.4889386]\n",
      "1728 1.0500203 [1.403751] [3.4889717]\n",
      "1729 1.0500202 [1.4037398] [3.4890046]\n",
      "1730 1.0500201 [1.4037286] [3.4890375]\n",
      "1731 1.05002 [1.4037174] [3.4890704]\n",
      "1732 1.0500197 [1.4037063] [3.489103]\n",
      "1733 1.0500197 [1.4036952] [3.4891357]\n",
      "1734 1.0500195 [1.4036841] [3.4891682]\n",
      "1735 1.0500195 [1.403673] [3.4892006]\n",
      "1736 1.0500194 [1.4036621] [3.489233]\n",
      "1737 1.0500191 [1.4036511] [3.4892652]\n",
      "1738 1.0500191 [1.4036402] [3.4892974]\n",
      "1739 1.050019 [1.4036293] [3.4893293]\n",
      "1740 1.0500189 [1.4036185] [3.4893613]\n",
      "1741 1.0500188 [1.4036076] [3.4893932]\n",
      "1742 1.0500188 [1.4035968] [3.489425]\n",
      "1743 1.0500185 [1.403586] [3.4894567]\n",
      "1744 1.0500183 [1.4035753] [3.4894881]\n",
      "1745 1.0500183 [1.4035646] [3.4895196]\n",
      "1746 1.0500183 [1.403554] [3.489551]\n",
      "1747 1.0500182 [1.4035434] [3.4895823]\n",
      "1748 1.050018 [1.4035327] [3.4896135]\n",
      "1749 1.0500178 [1.4035221] [3.4896445]\n",
      "1750 1.0500178 [1.4035116] [3.4896755]\n",
      "1751 1.0500178 [1.4035012] [3.4897065]\n",
      "1752 1.0500176 [1.4034907] [3.4897373]\n",
      "1753 1.0500175 [1.4034802] [3.489768]\n",
      "1754 1.0500174 [1.4034698] [3.4897985]\n",
      "1755 1.0500172 [1.4034594] [3.489829]\n",
      "1756 1.0500171 [1.403449] [3.4898596]\n",
      "1757 1.050017 [1.4034387] [3.4898899]\n",
      "1758 1.0500169 [1.4034284] [3.4899201]\n",
      "1759 1.050017 [1.4034182] [3.4899504]\n",
      "1760 1.0500166 [1.4034079] [3.4899805]\n",
      "1761 1.0500169 [1.4033977] [3.4900105]\n",
      "1762 1.0500166 [1.4033875] [3.4900403]\n",
      "1763 1.0500164 [1.4033774] [3.49007]\n",
      "1764 1.0500164 [1.4033673] [3.4901]\n",
      "1765 1.0500163 [1.4033571] [3.4901295]\n",
      "1766 1.0500162 [1.4033471] [3.490159]\n",
      "1767 1.050016 [1.4033371] [3.4901886]\n",
      "1768 1.0500159 [1.4033271] [3.490218]\n",
      "1769 1.0500159 [1.4033171] [3.4902472]\n",
      "1770 1.0500159 [1.4033072] [3.4902763]\n",
      "1771 1.0500156 [1.4032973] [3.4903054]\n",
      "1772 1.0500156 [1.4032874] [3.4903345]\n",
      "1773 1.0500157 [1.4032775] [3.4903634]\n",
      "1774 1.0500153 [1.4032677] [3.4903922]\n",
      "1775 1.0500152 [1.403258] [3.490421]\n",
      "1776 1.0500151 [1.4032482] [3.4904497]\n",
      "1777 1.0500152 [1.4032385] [3.4904783]\n",
      "1778 1.050015 [1.4032289] [3.490507]\n",
      "1779 1.050015 [1.4032192] [3.4905353]\n",
      "1780 1.050015 [1.4032096] [3.4905636]\n",
      "1781 1.0500146 [1.4031999] [3.4905918]\n",
      "1782 1.0500147 [1.4031904] [3.49062]\n",
      "1783 1.0500145 [1.4031808] [3.490648]\n",
      "1784 1.0500144 [1.4031713] [3.490676]\n",
      "1785 1.0500144 [1.4031618] [3.4907038]\n",
      "1786 1.0500144 [1.4031523] [3.4907317]\n",
      "1787 1.0500143 [1.4031429] [3.4907594]\n",
      "1788 1.0500143 [1.4031335] [3.490787]\n",
      "1789 1.0500141 [1.4031241] [3.4908147]\n",
      "1790 1.0500141 [1.4031148] [3.490842]\n",
      "1791 1.0500139 [1.4031055] [3.4908695]\n",
      "1792 1.0500138 [1.4030962] [3.490897]\n",
      "1793 1.050014 [1.4030869] [3.4909241]\n",
      "1794 1.0500135 [1.4030776] [3.4909513]\n",
      "1795 1.0500137 [1.4030684] [3.4909785]\n",
      "1796 1.0500135 [1.4030592] [3.4910054]\n",
      "1797 1.0500133 [1.4030501] [3.4910324]\n",
      "1798 1.0500134 [1.4030409] [3.4910593]\n",
      "1799 1.0500133 [1.4030318] [3.491086]\n",
      "1800 1.0500132 [1.4030228] [3.4911127]\n",
      "1801 1.0500131 [1.4030137] [3.4911394]\n",
      "1802 1.050013 [1.4030046] [3.4911659]\n",
      "1803 1.050013 [1.4029957] [3.4911923]\n",
      "1804 1.0500131 [1.4029868] [3.4912188]\n",
      "1805 1.0500127 [1.4029778] [3.491245]\n",
      "1806 1.0500128 [1.4029689] [3.4912713]\n",
      "1807 1.0500126 [1.40296] [3.4912975]\n",
      "1808 1.0500126 [1.4029511] [3.4913235]\n",
      "1809 1.0500126 [1.4029423] [3.4913495]\n",
      "1810 1.0500124 [1.4029335] [3.4913754]\n",
      "1811 1.0500124 [1.4029247] [3.4914012]\n",
      "1812 1.0500124 [1.402916] [3.491427]\n",
      "1813 1.0500121 [1.4029073] [3.4914527]\n",
      "1814 1.0500121 [1.4028986] [3.4914782]\n",
      "1815 1.0500121 [1.4028898] [3.4915037]\n",
      "1816 1.0500119 [1.4028811] [3.4915292]\n",
      "1817 1.050012 [1.4028726] [3.4915545]\n",
      "1818 1.0500118 [1.402864] [3.4915798]\n",
      "1819 1.0500119 [1.4028554] [3.491605]\n",
      "1820 1.0500116 [1.4028468] [3.49163]\n",
      "1821 1.0500115 [1.4028382] [3.491655]\n",
      "1822 1.0500116 [1.4028298] [3.4916801]\n",
      "1823 1.0500114 [1.4028213] [3.491705]\n",
      "1824 1.0500114 [1.4028128] [3.4917297]\n",
      "1825 1.0500114 [1.4028044] [3.4917545]\n",
      "1826 1.0500114 [1.402796] [3.4917793]\n",
      "1827 1.0500112 [1.4027877] [3.491804]\n",
      "1828 1.050011 [1.4027793] [3.4918284]\n",
      "1829 1.0500112 [1.402771] [3.491853]\n",
      "1830 1.050011 [1.4027627] [3.4918773]\n",
      "1831 1.0500112 [1.4027544] [3.4919016]\n",
      "1832 1.0500108 [1.4027462] [3.491926]\n",
      "1833 1.0500108 [1.402738] [3.49195]\n",
      "1834 1.0500108 [1.4027297] [3.491974]\n",
      "1835 1.0500108 [1.4027216] [3.4919982]\n",
      "1836 1.0500106 [1.4027135] [3.492022]\n",
      "1837 1.0500107 [1.4027054] [3.4920459]\n",
      "1838 1.0500103 [1.4026973] [3.4920697]\n",
      "1839 1.0500106 [1.4026892] [3.4920936]\n",
      "1840 1.0500103 [1.4026811] [3.4921172]\n",
      "1841 1.0500103 [1.4026731] [3.4921408]\n",
      "1842 1.0500102 [1.4026651] [3.4921644]\n",
      "1843 1.0500103 [1.4026572] [3.4921877]\n",
      "1844 1.0500101 [1.4026492] [3.492211]\n",
      "1845 1.0500101 [1.4026412] [3.4922345]\n",
      "1846 1.05001 [1.4026333] [3.4922578]\n",
      "1847 1.0500098 [1.4026254] [3.492281]\n",
      "1848 1.05001 [1.4026176] [3.492304]\n",
      "1849 1.0500098 [1.4026097] [3.4923272]\n",
      "1850 1.0500098 [1.4026018] [3.49235]\n",
      "1851 1.0500097 [1.4025941] [3.492373]\n",
      "1852 1.0500096 [1.4025863] [3.4923959]\n",
      "1853 1.0500097 [1.4025786] [3.4924185]\n",
      "1854 1.0500096 [1.4025708] [3.4924412]\n",
      "1855 1.0500095 [1.4025632] [3.4924638]\n",
      "1856 1.0500095 [1.4025556] [3.4924865]\n",
      "1857 1.0500094 [1.402548] [3.492509]\n",
      "1858 1.0500094 [1.4025403] [3.4925313]\n",
      "1859 1.0500093 [1.4025327] [3.4925537]\n",
      "1860 1.0500094 [1.4025251] [3.492576]\n",
      "1861 1.0500093 [1.4025176] [3.492598]\n",
      "1862 1.0500089 [1.40251] [3.4926202]\n",
      "1863 1.050009 [1.4025025] [3.4926424]\n",
      "1864 1.050009 [1.402495] [3.4926643]\n",
      "1865 1.0500089 [1.4024875] [3.4926863]\n",
      "1866 1.0500089 [1.4024801] [3.4927082]\n",
      "1867 1.0500089 [1.4024727] [3.4927301]\n",
      "1868 1.0500087 [1.4024653] [3.4927518]\n",
      "1869 1.0500087 [1.402458] [3.4927735]\n",
      "1870 1.0500088 [1.4024506] [3.4927952]\n",
      "1871 1.0500085 [1.4024432] [3.4928167]\n",
      "1872 1.0500087 [1.4024359] [3.4928381]\n",
      "1873 1.0500084 [1.4024286] [3.4928596]\n",
      "1874 1.0500085 [1.4024214] [3.492881]\n",
      "1875 1.0500083 [1.4024141] [3.4929023]\n",
      "1876 1.0500083 [1.4024068] [3.4929235]\n",
      "1877 1.0500084 [1.4023997] [3.4929447]\n",
      "1878 1.0500084 [1.4023925] [3.492966]\n",
      "1879 1.0500084 [1.4023854] [3.492987]\n",
      "1880 1.0500083 [1.4023782] [3.493008]\n",
      "1881 1.0500083 [1.402371] [3.4930289]\n",
      "1882 1.0500083 [1.4023639] [3.4930499]\n",
      "1883 1.0500079 [1.4023569] [3.4930706]\n",
      "1884 1.0500078 [1.4023498] [3.4930913]\n",
      "1885 1.0500079 [1.4023428] [3.493112]\n",
      "1886 1.0500079 [1.4023358] [3.4931326]\n",
      "1887 1.0500078 [1.4023287] [3.493153]\n",
      "1888 1.0500077 [1.4023218] [3.4931736]\n",
      "1889 1.0500077 [1.4023149] [3.493194]\n",
      "1890 1.0500076 [1.402308] [3.4932144]\n",
      "1891 1.0500077 [1.4023011] [3.4932346]\n",
      "1892 1.0500077 [1.4022942] [3.493255]\n",
      "1893 1.0500075 [1.4022872] [3.4932752]\n",
      "1894 1.0500076 [1.4022804] [3.4932952]\n",
      "1895 1.0500075 [1.4022737] [3.4933152]\n",
      "1896 1.0500073 [1.4022669] [3.4933352]\n",
      "1897 1.0500075 [1.4022601] [3.4933553]\n",
      "1898 1.0500075 [1.4022533] [3.493375]\n",
      "1899 1.0500073 [1.4022465] [3.4933949]\n",
      "1900 1.0500071 [1.4022398] [3.4934146]\n",
      "1901 1.0500071 [1.4022331] [3.4934344]\n",
      "1902 1.0500071 [1.4022264] [3.493454]\n",
      "1903 1.0500071 [1.4022198] [3.4934735]\n",
      "1904 1.0500071 [1.4022131] [3.493493]\n",
      "1905 1.0500071 [1.4022064] [3.4935126]\n",
      "1906 1.0500069 [1.4021999] [3.493532]\n",
      "1907 1.050007 [1.4021933] [3.4935513]\n",
      "1908 1.050007 [1.4021868] [3.4935706]\n",
      "1909 1.0500069 [1.4021802] [3.4935899]\n",
      "1910 1.0500069 [1.4021736] [3.493609]\n",
      "1911 1.0500067 [1.4021672] [3.493628]\n",
      "1912 1.0500067 [1.4021608] [3.493647]\n",
      "1913 1.0500067 [1.4021543] [3.4936662]\n",
      "1914 1.0500067 [1.4021479] [3.4936852]\n",
      "1915 1.0500066 [1.4021415] [3.493704]\n",
      "1916 1.0500066 [1.402135] [3.493723]\n",
      "1917 1.0500064 [1.4021286] [3.4937418]\n",
      "1918 1.0500065 [1.4021223] [3.4937606]\n",
      "1919 1.0500065 [1.402116] [3.4937792]\n",
      "1920 1.0500064 [1.4021096] [3.4937978]\n",
      "1921 1.0500064 [1.4021033] [3.4938164]\n",
      "1922 1.0500064 [1.402097] [3.493835]\n",
      "1923 1.0500063 [1.4020907] [3.4938533]\n",
      "1924 1.0500063 [1.4020844] [3.4938717]\n",
      "1925 1.0500064 [1.4020782] [3.49389]\n",
      "1926 1.0500062 [1.402072] [3.4939084]\n",
      "1927 1.0500062 [1.4020658] [3.4939265]\n",
      "1928 1.0500062 [1.4020596] [3.4939446]\n",
      "1929 1.050006 [1.4020534] [3.4939628]\n",
      "1930 1.050006 [1.4020472] [3.493981]\n",
      "1931 1.0500062 [1.4020411] [3.493999]\n",
      "1932 1.0500062 [1.402035] [3.494017]\n",
      "1933 1.0500059 [1.4020289] [3.4940348]\n",
      "1934 1.0500059 [1.4020228] [3.4940526]\n",
      "1935 1.0500059 [1.4020168] [3.4940705]\n",
      "1936 1.0500058 [1.4020107] [3.4940882]\n",
      "1937 1.0500058 [1.4020047] [3.4941058]\n",
      "1938 1.0500059 [1.4019988] [3.4941235]\n",
      "1939 1.0500058 [1.4019928] [3.494141]\n",
      "1940 1.0500056 [1.4019868] [3.4941587]\n",
      "1941 1.0500057 [1.4019809] [3.4941761]\n",
      "1942 1.0500057 [1.4019749] [3.4941936]\n"
     ]
    },
    {
     "name": "stdout",
     "output_type": "stream",
     "text": [
      "1943 1.0500054 [1.401969] [3.494211]\n",
      "1944 1.0500054 [1.4019631] [3.4942284]\n",
      "1945 1.0500054 [1.4019573] [3.4942455]\n",
      "1946 1.0500056 [1.4019514] [3.4942627]\n",
      "1947 1.0500054 [1.4019456] [3.4942799]\n",
      "1948 1.0500054 [1.4019397] [3.494297]\n",
      "1949 1.0500056 [1.4019339] [3.4943142]\n",
      "1950 1.0500053 [1.4019281] [3.4943311]\n",
      "1951 1.0500054 [1.4019223] [3.494348]\n",
      "1952 1.0500054 [1.4019166] [3.494365]\n",
      "1953 1.0500053 [1.4019109] [3.494382]\n",
      "1954 1.0500052 [1.4019052] [3.4943988]\n",
      "1955 1.0500053 [1.4018995] [3.4944155]\n",
      "1956 1.0500051 [1.4018937] [3.4944322]\n",
      "1957 1.0500053 [1.401888] [3.494449]\n",
      "1958 1.0500051 [1.4018824] [3.4944656]\n",
      "1959 1.0500051 [1.4018768] [3.494482]\n",
      "1960 1.0500052 [1.4018712] [3.4944985]\n",
      "1961 1.0500051 [1.4018656] [3.494515]\n",
      "1962 1.0500048 [1.40186] [3.4945314]\n",
      "1963 1.050005 [1.4018544] [3.4945478]\n",
      "1964 1.050005 [1.4018488] [3.494564]\n",
      "1965 1.0500051 [1.4018433] [3.4945803]\n",
      "1966 1.0500048 [1.4018378] [3.4945965]\n",
      "1967 1.0500047 [1.4018323] [3.4946127]\n",
      "1968 1.0500048 [1.4018269] [3.494629]\n",
      "1969 1.0500047 [1.4018214] [3.4946449]\n",
      "1970 1.0500047 [1.4018159] [3.4946609]\n",
      "1971 1.0500047 [1.4018104] [3.4946768]\n",
      "1972 1.0500047 [1.401805] [3.4946928]\n",
      "1973 1.0500045 [1.4017997] [3.4947088]\n",
      "1974 1.0500047 [1.4017943] [3.4947245]\n",
      "1975 1.0500046 [1.401789] [3.4947402]\n",
      "1976 1.0500047 [1.4017836] [3.494756]\n",
      "1977 1.0500045 [1.4017782] [3.4947717]\n",
      "1978 1.0500046 [1.4017729] [3.4947875]\n",
      "1979 1.0500045 [1.4017676] [3.494803]\n",
      "1980 1.0500044 [1.4017624] [3.4948184]\n",
      "1981 1.0500045 [1.4017571] [3.494834]\n",
      "1982 1.0500045 [1.4017519] [3.4948494]\n",
      "1983 1.0500044 [1.4017466] [3.494865]\n",
      "1984 1.0500044 [1.4017414] [3.4948802]\n",
      "1985 1.0500042 [1.4017361] [3.4948955]\n",
      "1986 1.0500042 [1.4017309] [3.4949107]\n",
      "1987 1.0500044 [1.4017258] [3.494926]\n",
      "1988 1.0500042 [1.4017206] [3.4949412]\n",
      "1989 1.0500044 [1.4017155] [3.4949565]\n",
      "1990 1.0500042 [1.4017104] [3.4949715]\n",
      "1991 1.0500042 [1.4017053] [3.4949865]\n",
      "1992 1.050004 [1.4017001] [3.4950016]\n",
      "1993 1.050004 [1.401695] [3.4950166]\n",
      "1994 1.0500042 [1.4016899] [3.4950316]\n",
      "1995 1.050004 [1.4016849] [3.4950464]\n",
      "1996 1.0500041 [1.4016799] [3.4950612]\n",
      "1997 1.050004 [1.4016749] [3.495076]\n",
      "1998 1.0500041 [1.4016699] [3.4950907]\n",
      "1999 1.0500039 [1.4016649] [3.4951055]\n"
     ]
    }
   ],
   "source": [
    "sess=tf.Session()\n",
    "sess.run(tf.global_variables_initializer())\n",
    "for step in range(2000):\n",
    "    sess.run(train)\n",
    "    print(step,sess.run(cost),sess.run(W),sess.run(b))"
   ]
  },
  {
   "cell_type": "code",
   "execution_count": 5,
   "metadata": {},
   "outputs": [
    {
     "name": "stdout",
     "output_type": "stream",
     "text": [
      "node c =  Tensor(\"Mul_2:0\", dtype=float32)\n",
      "run c =  12.0\n"
     ]
    }
   ],
   "source": [
    "a=tf.placeholder(tf.float32)\n",
    "b=tf.placeholder(tf.float32)\n",
    "c=tf.multiply(a,b)\n",
    "print('node c = ',c)\n",
    "\n",
    "sess=tf.Session()\n",
    "print('run c = ',sess.run(c,feed_dict={a:3.,b:4.}))"
   ]
  },
  {
   "cell_type": "code",
   "execution_count": 8,
   "metadata": {},
   "outputs": [
    {
     "name": "stdout",
     "output_type": "stream",
     "text": [
      "[[244.88446 253.90013 252.56561 ... 242.42561 249.54947 253.10947]\n",
      " [251.92911 257.74323 258.11124 ... 249.85202 251.18056 256.0094 ]\n",
      " [254.77783 259.32172 261.61835 ... 256.54422 259.3848  260.7802 ]\n",
      " ...\n",
      " [248.51569 253.56996 250.88594 ... 251.64102 247.21303 249.86252]\n",
      " [253.77136 264.5694  264.07767 ... 259.4428  255.5654  255.13905]\n",
      " [246.31662 244.25308 255.33409 ... 244.74734 246.49452 248.39246]]\n"
     ]
    }
   ],
   "source": [
    "import numpy as np\n",
    "\n",
    "x=tf.placeholder(tf.float32,shape=(1024,1024))\n",
    "y=tf.matmul(x,x)\n",
    "\n",
    "sess=tf.Session()\n",
    "\n",
    "rand_array=np.random.rand(1024,1024)\n",
    "print(sess.run(y,feed_dict={x:rand_array}))"
   ]
  },
  {
   "cell_type": "code",
   "execution_count": 12,
   "metadata": {},
   "outputs": [
    {
     "name": "stdout",
     "output_type": "stream",
     "text": [
      "0 4607.219 [7.5024877] [0.85071194]\n",
      "500 0.008395635 [10.090395] [1.4429604]\n",
      "1000 0.0049573136 [10.069462] [1.5719565]\n",
      "1500 0.0029270553 [10.053376] [1.6710787]\n",
      "2000 0.0017286016 [10.041017] [1.7472465]\n",
      "2500 0.0010205543 [10.031518] [1.8057772]\n",
      "3000 0.0006026848 [10.024219] [1.8507555]\n",
      "3500 0.00035575556 [10.018611] [1.8853164]\n",
      "4000 0.00021014249 [10.0143] [1.9118739]\n",
      "4500 0.00012405432 [10.010989] [1.9322817]\n",
      "5000 7.3270436e-05 [10.008444] [1.9479643]\n",
      "예측 y:  [82.01552]\n"
     ]
    }
   ],
   "source": [
    "x=tf.placeholder(tf.float32,shape=[None])\n",
    "y=tf.placeholder(tf.float32,shape=[None])\n",
    "\n",
    "W=tf.Variable(tf.random_normal([1]),name='weight')\n",
    "b=tf.Variable(tf.random_normal([1]),name='bias')\n",
    "\n",
    "hypothesis=x*W+b\n",
    "cost=tf.reduce_mean(tf.square(hypothesis-y))\n",
    "optimizer=tf.train.GradientDescentOptimizer(learning_rate=0.01)\n",
    "train=optimizer.minimize(cost)\n",
    "\n",
    "sess=tf.Session()\n",
    "sess.run(tf.global_variables_initializer())\n",
    "\n",
    "for step in range(5001):\n",
    "    cost_val,W_val,b_val,_=sess.run([cost,W,b,train],feed_dict={x:[5,7],y:[52,72]})\n",
    "    if step % 500==0:\n",
    "        print(step,cost_val,W_val,b_val)\n",
    "        \n",
    "print(\"예측 y: \",sess.run(hypothesis,feed_dict={x:[8]}))"
   ]
  },
  {
   "cell_type": "code",
   "execution_count": 18,
   "metadata": {},
   "outputs": [
    {
     "name": "stdout",
     "output_type": "stream",
     "text": [
      "0 9930.712 [13.741767] [14.147026] [2.8116915]\n",
      "500 0.021226704 [9.725529] [10.130787] [1.8857348]\n",
      "1000 0.012448761 [9.742354] [10.147613] [1.6782951]\n",
      "1500 0.007300759 [9.7552395] [10.160498] [1.5194378]\n",
      "2000 0.0042815953 [9.765107] [10.170365] [1.3977863]\n",
      "2500 0.002510747 [9.772662] [10.17792] [1.3046267]\n",
      "3000 0.0014723974 [9.77845] [10.183708] [1.2332822]\n",
      "3500 0.0008636984 [9.782881] [10.188139] [1.178649]\n",
      "4000 0.00050631934 [9.786274] [10.191532] [1.1368088]\n",
      "4500 0.00029689018 [9.788874] [10.194132] [1.104767]\n",
      "5000 0.00017413928 [9.790864] [10.196122] [1.0802299]\n",
      "예측 y :  [160.97612]\n"
     ]
    }
   ],
   "source": [
    "x1=tf.placeholder(tf.float32,shape=[None])\n",
    "x2=tf.placeholder(tf.float32,shape=[None])\n",
    "y=tf.placeholder(tf.float32,shape=[None])\n",
    "\n",
    "W1=tf.Variable(tf.random_normal([1]),name='weight1')\n",
    "W2=tf.Variable(tf.random_normal([1]),name='weight2')\n",
    "b=tf.Variable(tf.random_normal([1]),name='bias')\n",
    "\n",
    "hypothesis=x1*W1+x2*W2+b\n",
    "\n",
    "cost=tf.reduce_mean(tf.square(hypothesis-y))\n",
    "optimizer=tf.train.GradientDescentOptimizer(learning_rate=0.01)\n",
    "train=optimizer.minimize(cost)\n",
    "\n",
    "sess=tf.Session()\n",
    "sess.run(tf.global_variables_initializer())\n",
    "for step in range(5001):\n",
    "    cost_val,W_val1,W_val2,b_val,_=\\\n",
    "    sess.run([cost,W1,W2,b,train],\\\n",
    "             feed_dict={x1:[5,7],x2:[5,7],y:[101,141]})\n",
    "    if step%500==0:\n",
    "        print(step,cost_val,W_val1,W_val2,b_val)\n",
    "        \n",
    "print(\"예측 y : \",sess.run(hypothesis,feed_dict={x1:[8],x2:[8]}))"
   ]
  },
  {
   "cell_type": "code",
   "execution_count": 19,
   "metadata": {},
   "outputs": [
    {
     "name": "stdout",
     "output_type": "stream",
     "text": [
      "WARNING:tensorflow:From <ipython-input-19-bc596981f0bb>:2: read_data_sets (from tensorflow.contrib.learn.python.learn.datasets.mnist) is deprecated and will be removed in a future version.\n",
      "Instructions for updating:\n",
      "Please use alternatives such as official/mnist/dataset.py from tensorflow/models.\n",
      "WARNING:tensorflow:From C:\\Users\\zzang\\Anaconda3\\lib\\site-packages\\tensorflow_core\\contrib\\learn\\python\\learn\\datasets\\mnist.py:260: maybe_download (from tensorflow.contrib.learn.python.learn.datasets.base) is deprecated and will be removed in a future version.\n",
      "Instructions for updating:\n",
      "Please write your own downloading logic.\n",
      "WARNING:tensorflow:From C:\\Users\\zzang\\Anaconda3\\lib\\site-packages\\tensorflow_core\\contrib\\learn\\python\\learn\\datasets\\base.py:252: _internal_retry.<locals>.wrap.<locals>.wrapped_fn (from tensorflow.contrib.learn.python.learn.datasets.base) is deprecated and will be removed in a future version.\n",
      "Instructions for updating:\n",
      "Please use urllib or similar directly.\n",
      "Successfully downloaded train-images-idx3-ubyte.gz 9912422 bytes.\n",
      "WARNING:tensorflow:From C:\\Users\\zzang\\Anaconda3\\lib\\site-packages\\tensorflow_core\\contrib\\learn\\python\\learn\\datasets\\mnist.py:262: extract_images (from tensorflow.contrib.learn.python.learn.datasets.mnist) is deprecated and will be removed in a future version.\n",
      "Instructions for updating:\n",
      "Please use tf.data to implement this functionality.\n",
      "Extracting MNIST_data/train-images-idx3-ubyte.gz\n",
      "Successfully downloaded train-labels-idx1-ubyte.gz 28881 bytes.\n",
      "WARNING:tensorflow:From C:\\Users\\zzang\\Anaconda3\\lib\\site-packages\\tensorflow_core\\contrib\\learn\\python\\learn\\datasets\\mnist.py:267: extract_labels (from tensorflow.contrib.learn.python.learn.datasets.mnist) is deprecated and will be removed in a future version.\n",
      "Instructions for updating:\n",
      "Please use tf.data to implement this functionality.\n",
      "Extracting MNIST_data/train-labels-idx1-ubyte.gz\n",
      "WARNING:tensorflow:From C:\\Users\\zzang\\Anaconda3\\lib\\site-packages\\tensorflow_core\\contrib\\learn\\python\\learn\\datasets\\mnist.py:110: dense_to_one_hot (from tensorflow.contrib.learn.python.learn.datasets.mnist) is deprecated and will be removed in a future version.\n",
      "Instructions for updating:\n",
      "Please use tf.one_hot on tensors.\n",
      "Successfully downloaded t10k-images-idx3-ubyte.gz 1648877 bytes.\n",
      "Extracting MNIST_data/t10k-images-idx3-ubyte.gz\n",
      "Successfully downloaded t10k-labels-idx1-ubyte.gz 4542 bytes.\n",
      "Extracting MNIST_data/t10k-labels-idx1-ubyte.gz\n",
      "WARNING:tensorflow:From C:\\Users\\zzang\\Anaconda3\\lib\\site-packages\\tensorflow_core\\contrib\\learn\\python\\learn\\datasets\\mnist.py:290: DataSet.__init__ (from tensorflow.contrib.learn.python.learn.datasets.mnist) is deprecated and will be removed in a future version.\n",
      "Instructions for updating:\n",
      "Please use alternatives such as official/mnist/dataset.py from tensorflow/models.\n"
     ]
    }
   ],
   "source": [
    "from tensorflow.examples.tutorials.mnist import input_data\n",
    "mnist=input_data.read_data_sets('MNIST_data/',one_hot=True)"
   ]
  },
  {
   "cell_type": "code",
   "execution_count": 20,
   "metadata": {},
   "outputs": [],
   "source": [
    "x=tf.placeholder(tf.float32,[None,784])\n",
    "y=tf.placeholder(tf.float32,[None,10])\n",
    "W=tf.Variable(tf.zeros([784,10]))\n",
    "b=tf.Variable(tf.zeros([10]))"
   ]
  },
  {
   "cell_type": "code",
   "execution_count": 21,
   "metadata": {},
   "outputs": [],
   "source": [
    "logit_y=tf.matmul(x,W)+b\n",
    "softmax_y=tf.nn.softmax(logit_y)\n",
    "cross_entropy=tf.reduce_mean(-tf.reduce_sum(y*tf.log(softmax_y),reduction_indices=[1]))"
   ]
  },
  {
   "cell_type": "code",
   "execution_count": 23,
   "metadata": {},
   "outputs": [
    {
     "name": "stdout",
     "output_type": "stream",
     "text": [
      "정확도 :  0.9103\n"
     ]
    }
   ],
   "source": [
    "train_step=tf.train.GradientDescentOptimizer(0.1).minimize(cross_entropy)\n",
    "init=tf.global_variables_initializer()\n",
    "sess=tf.Session()\n",
    "sess.run(init)\n",
    "for i in range(1000):\n",
    "    batch_xs,batch_ys=mnist.train.next_batch(100)\n",
    "    sess.run(train_step,feed_dict={x:batch_xs,y:batch_ys})\n",
    "    \n",
    "correct_prediction=tf.equal(tf.argmax(softmax_y,1),tf.argmax(y,1))\n",
    "accuracy=tf.reduce_mean(tf.cast(correct_prediction,tf.float32))\n",
    "print('정확도 : ',sess.run(accuracy,feed_dict={x:mnist.test.images,y:mnist.test.labels}))"
   ]
  },
  {
   "cell_type": "markdown",
   "metadata": {},
   "source": [
    "## titanic"
   ]
  },
  {
   "cell_type": "code",
   "execution_count": 1,
   "metadata": {},
   "outputs": [],
   "source": [
    "import pandas as pd\n",
    "import tensorflow as tf\n",
    "import numpy as np"
   ]
  },
  {
   "cell_type": "code",
   "execution_count": 2,
   "metadata": {},
   "outputs": [],
   "source": [
    "train=pd.read_csv('train.csv')\n",
    "test=pd.read_csv('test.csv')\n",
    "sub=pd.read_csv('gender_submission.csv')"
   ]
  },
  {
   "cell_type": "code",
   "execution_count": 3,
   "metadata": {},
   "outputs": [
    {
     "data": {
      "text/html": [
       "<div>\n",
       "<style scoped>\n",
       "    .dataframe tbody tr th:only-of-type {\n",
       "        vertical-align: middle;\n",
       "    }\n",
       "\n",
       "    .dataframe tbody tr th {\n",
       "        vertical-align: top;\n",
       "    }\n",
       "\n",
       "    .dataframe thead th {\n",
       "        text-align: right;\n",
       "    }\n",
       "</style>\n",
       "<table border=\"1\" class=\"dataframe\">\n",
       "  <thead>\n",
       "    <tr style=\"text-align: right;\">\n",
       "      <th></th>\n",
       "      <th>PassengerId</th>\n",
       "      <th>Survived</th>\n",
       "      <th>Pclass</th>\n",
       "      <th>Name</th>\n",
       "      <th>Sex</th>\n",
       "      <th>Age</th>\n",
       "      <th>SibSp</th>\n",
       "      <th>Parch</th>\n",
       "      <th>Ticket</th>\n",
       "      <th>Fare</th>\n",
       "      <th>Cabin</th>\n",
       "      <th>Embarked</th>\n",
       "    </tr>\n",
       "  </thead>\n",
       "  <tbody>\n",
       "    <tr>\n",
       "      <th>0</th>\n",
       "      <td>1</td>\n",
       "      <td>0</td>\n",
       "      <td>3</td>\n",
       "      <td>Braund, Mr. Owen Harris</td>\n",
       "      <td>male</td>\n",
       "      <td>22.0</td>\n",
       "      <td>1</td>\n",
       "      <td>0</td>\n",
       "      <td>A/5 21171</td>\n",
       "      <td>7.2500</td>\n",
       "      <td>NaN</td>\n",
       "      <td>S</td>\n",
       "    </tr>\n",
       "    <tr>\n",
       "      <th>1</th>\n",
       "      <td>2</td>\n",
       "      <td>1</td>\n",
       "      <td>1</td>\n",
       "      <td>Cumings, Mrs. John Bradley (Florence Briggs Th...</td>\n",
       "      <td>female</td>\n",
       "      <td>38.0</td>\n",
       "      <td>1</td>\n",
       "      <td>0</td>\n",
       "      <td>PC 17599</td>\n",
       "      <td>71.2833</td>\n",
       "      <td>C85</td>\n",
       "      <td>C</td>\n",
       "    </tr>\n",
       "    <tr>\n",
       "      <th>2</th>\n",
       "      <td>3</td>\n",
       "      <td>1</td>\n",
       "      <td>3</td>\n",
       "      <td>Heikkinen, Miss. Laina</td>\n",
       "      <td>female</td>\n",
       "      <td>26.0</td>\n",
       "      <td>0</td>\n",
       "      <td>0</td>\n",
       "      <td>STON/O2. 3101282</td>\n",
       "      <td>7.9250</td>\n",
       "      <td>NaN</td>\n",
       "      <td>S</td>\n",
       "    </tr>\n",
       "    <tr>\n",
       "      <th>3</th>\n",
       "      <td>4</td>\n",
       "      <td>1</td>\n",
       "      <td>1</td>\n",
       "      <td>Futrelle, Mrs. Jacques Heath (Lily May Peel)</td>\n",
       "      <td>female</td>\n",
       "      <td>35.0</td>\n",
       "      <td>1</td>\n",
       "      <td>0</td>\n",
       "      <td>113803</td>\n",
       "      <td>53.1000</td>\n",
       "      <td>C123</td>\n",
       "      <td>S</td>\n",
       "    </tr>\n",
       "    <tr>\n",
       "      <th>4</th>\n",
       "      <td>5</td>\n",
       "      <td>0</td>\n",
       "      <td>3</td>\n",
       "      <td>Allen, Mr. William Henry</td>\n",
       "      <td>male</td>\n",
       "      <td>35.0</td>\n",
       "      <td>0</td>\n",
       "      <td>0</td>\n",
       "      <td>373450</td>\n",
       "      <td>8.0500</td>\n",
       "      <td>NaN</td>\n",
       "      <td>S</td>\n",
       "    </tr>\n",
       "  </tbody>\n",
       "</table>\n",
       "</div>"
      ],
      "text/plain": [
       "   PassengerId  Survived  Pclass  \\\n",
       "0            1         0       3   \n",
       "1            2         1       1   \n",
       "2            3         1       3   \n",
       "3            4         1       1   \n",
       "4            5         0       3   \n",
       "\n",
       "                                                Name     Sex   Age  SibSp  \\\n",
       "0                            Braund, Mr. Owen Harris    male  22.0      1   \n",
       "1  Cumings, Mrs. John Bradley (Florence Briggs Th...  female  38.0      1   \n",
       "2                             Heikkinen, Miss. Laina  female  26.0      0   \n",
       "3       Futrelle, Mrs. Jacques Heath (Lily May Peel)  female  35.0      1   \n",
       "4                           Allen, Mr. William Henry    male  35.0      0   \n",
       "\n",
       "   Parch            Ticket     Fare Cabin Embarked  \n",
       "0      0         A/5 21171   7.2500   NaN        S  \n",
       "1      0          PC 17599  71.2833   C85        C  \n",
       "2      0  STON/O2. 3101282   7.9250   NaN        S  \n",
       "3      0            113803  53.1000  C123        S  \n",
       "4      0            373450   8.0500   NaN        S  "
      ]
     },
     "execution_count": 3,
     "metadata": {},
     "output_type": "execute_result"
    }
   ],
   "source": [
    "train.head()"
   ]
  },
  {
   "cell_type": "code",
   "execution_count": 4,
   "metadata": {},
   "outputs": [
    {
     "data": {
      "text/html": [
       "<div>\n",
       "<style scoped>\n",
       "    .dataframe tbody tr th:only-of-type {\n",
       "        vertical-align: middle;\n",
       "    }\n",
       "\n",
       "    .dataframe tbody tr th {\n",
       "        vertical-align: top;\n",
       "    }\n",
       "\n",
       "    .dataframe thead th {\n",
       "        text-align: right;\n",
       "    }\n",
       "</style>\n",
       "<table border=\"1\" class=\"dataframe\">\n",
       "  <thead>\n",
       "    <tr style=\"text-align: right;\">\n",
       "      <th></th>\n",
       "      <th>PassengerId</th>\n",
       "      <th>Pclass</th>\n",
       "      <th>Name</th>\n",
       "      <th>Sex</th>\n",
       "      <th>Age</th>\n",
       "      <th>SibSp</th>\n",
       "      <th>Parch</th>\n",
       "      <th>Ticket</th>\n",
       "      <th>Fare</th>\n",
       "      <th>Cabin</th>\n",
       "      <th>Embarked</th>\n",
       "    </tr>\n",
       "  </thead>\n",
       "  <tbody>\n",
       "    <tr>\n",
       "      <th>0</th>\n",
       "      <td>892</td>\n",
       "      <td>3</td>\n",
       "      <td>Kelly, Mr. James</td>\n",
       "      <td>male</td>\n",
       "      <td>34.5</td>\n",
       "      <td>0</td>\n",
       "      <td>0</td>\n",
       "      <td>330911</td>\n",
       "      <td>7.8292</td>\n",
       "      <td>NaN</td>\n",
       "      <td>Q</td>\n",
       "    </tr>\n",
       "    <tr>\n",
       "      <th>1</th>\n",
       "      <td>893</td>\n",
       "      <td>3</td>\n",
       "      <td>Wilkes, Mrs. James (Ellen Needs)</td>\n",
       "      <td>female</td>\n",
       "      <td>47.0</td>\n",
       "      <td>1</td>\n",
       "      <td>0</td>\n",
       "      <td>363272</td>\n",
       "      <td>7.0000</td>\n",
       "      <td>NaN</td>\n",
       "      <td>S</td>\n",
       "    </tr>\n",
       "    <tr>\n",
       "      <th>2</th>\n",
       "      <td>894</td>\n",
       "      <td>2</td>\n",
       "      <td>Myles, Mr. Thomas Francis</td>\n",
       "      <td>male</td>\n",
       "      <td>62.0</td>\n",
       "      <td>0</td>\n",
       "      <td>0</td>\n",
       "      <td>240276</td>\n",
       "      <td>9.6875</td>\n",
       "      <td>NaN</td>\n",
       "      <td>Q</td>\n",
       "    </tr>\n",
       "    <tr>\n",
       "      <th>3</th>\n",
       "      <td>895</td>\n",
       "      <td>3</td>\n",
       "      <td>Wirz, Mr. Albert</td>\n",
       "      <td>male</td>\n",
       "      <td>27.0</td>\n",
       "      <td>0</td>\n",
       "      <td>0</td>\n",
       "      <td>315154</td>\n",
       "      <td>8.6625</td>\n",
       "      <td>NaN</td>\n",
       "      <td>S</td>\n",
       "    </tr>\n",
       "    <tr>\n",
       "      <th>4</th>\n",
       "      <td>896</td>\n",
       "      <td>3</td>\n",
       "      <td>Hirvonen, Mrs. Alexander (Helga E Lindqvist)</td>\n",
       "      <td>female</td>\n",
       "      <td>22.0</td>\n",
       "      <td>1</td>\n",
       "      <td>1</td>\n",
       "      <td>3101298</td>\n",
       "      <td>12.2875</td>\n",
       "      <td>NaN</td>\n",
       "      <td>S</td>\n",
       "    </tr>\n",
       "  </tbody>\n",
       "</table>\n",
       "</div>"
      ],
      "text/plain": [
       "   PassengerId  Pclass                                          Name     Sex  \\\n",
       "0          892       3                              Kelly, Mr. James    male   \n",
       "1          893       3              Wilkes, Mrs. James (Ellen Needs)  female   \n",
       "2          894       2                     Myles, Mr. Thomas Francis    male   \n",
       "3          895       3                              Wirz, Mr. Albert    male   \n",
       "4          896       3  Hirvonen, Mrs. Alexander (Helga E Lindqvist)  female   \n",
       "\n",
       "    Age  SibSp  Parch   Ticket     Fare Cabin Embarked  \n",
       "0  34.5      0      0   330911   7.8292   NaN        Q  \n",
       "1  47.0      1      0   363272   7.0000   NaN        S  \n",
       "2  62.0      0      0   240276   9.6875   NaN        Q  \n",
       "3  27.0      0      0   315154   8.6625   NaN        S  \n",
       "4  22.0      1      1  3101298  12.2875   NaN        S  "
      ]
     },
     "execution_count": 4,
     "metadata": {},
     "output_type": "execute_result"
    }
   ],
   "source": [
    "test.head()"
   ]
  },
  {
   "cell_type": "code",
   "execution_count": 5,
   "metadata": {},
   "outputs": [
    {
     "name": "stderr",
     "output_type": "stream",
     "text": [
      "C:\\Users\\zzang\\AppData\\Roaming\\Python\\Python37\\site-packages\\ipykernel_launcher.py:1: FutureWarning: Method .as_matrix will be removed in a future version. Use .values instead.\n",
      "  \"\"\"Entry point for launching an IPython kernel.\n",
      "C:\\Users\\zzang\\AppData\\Roaming\\Python\\Python37\\site-packages\\ipykernel_launcher.py:2: FutureWarning: Method .as_matrix will be removed in a future version. Use .values instead.\n",
      "  \n",
      "C:\\Users\\zzang\\AppData\\Roaming\\Python\\Python37\\site-packages\\ipykernel_launcher.py:3: FutureWarning: Method .as_matrix will be removed in a future version. Use .values instead.\n",
      "  This is separate from the ipykernel package so we can avoid doing imports until\n"
     ]
    }
   ],
   "source": [
    "train_data=pd.read_csv('train.csv').as_matrix()\n",
    "test_data=pd.read_csv('test.csv').as_matrix()\n",
    "sub_data=pd.read_csv('gender_submission.csv').as_matrix()"
   ]
  },
  {
   "cell_type": "code",
   "execution_count": 6,
   "metadata": {},
   "outputs": [
    {
     "data": {
      "text/plain": [
       "array([[1, 0, 3, 'Braund, Mr. Owen Harris', 'male', 22.0, 1, 0,\n",
       "        'A/5 21171', 7.25, nan, 'S'],\n",
       "       [2, 1, 1, 'Cumings, Mrs. John Bradley (Florence Briggs Thayer)',\n",
       "        'female', 38.0, 1, 0, 'PC 17599', 71.2833, 'C85', 'C'],\n",
       "       [3, 1, 3, 'Heikkinen, Miss. Laina', 'female', 26.0, 0, 0,\n",
       "        'STON/O2. 3101282', 7.925, nan, 'S'],\n",
       "       [4, 1, 1, 'Futrelle, Mrs. Jacques Heath (Lily May Peel)',\n",
       "        'female', 35.0, 1, 0, '113803', 53.1, 'C123', 'S']], dtype=object)"
      ]
     },
     "execution_count": 6,
     "metadata": {},
     "output_type": "execute_result"
    }
   ],
   "source": [
    "train_data[:4]"
   ]
  },
  {
   "cell_type": "code",
   "execution_count": 7,
   "metadata": {},
   "outputs": [],
   "source": [
    "for i in range(len(train_data)):\n",
    "    if train_data[i,4]=='male': #1은 남성,0은 여성\n",
    "        train_data[i,4]=1\n",
    "    else:\n",
    "        train_data[i,4]=0\n",
    "\n",
    "for i in range(len(test_data)):\n",
    "    if test_data[i,3]=='male': #1은 남성,0은 여성\n",
    "        test_data[i,3]=1\n",
    "    else:\n",
    "        test_data[i,3]=0"
   ]
  },
  {
   "cell_type": "code",
   "execution_count": 8,
   "metadata": {},
   "outputs": [],
   "source": [
    "for i in range(len(train_data)):\n",
    "    if train_data[i,11]=='S':\n",
    "        train_data[i,11]=1\n",
    "    elif train_data[i,11]=='C':\n",
    "        train_data[i,11]=2\n",
    "    elif train_data[i,11]=='Q':\n",
    "        train_data[i,11]=3\n",
    "    if np.isnan(train_data[i,11]):\n",
    "        train_data[i,11]=0\n",
    "        \n",
    "for i in range(len(test_data)):\n",
    "    if test_data[i,10]=='S':\n",
    "        test_data[i,10]=1\n",
    "    elif test_data[i,10]=='C':\n",
    "        test_data[i,10]=2\n",
    "    elif test_data[i,10]=='Q':\n",
    "        test_data[i,10]=3\n",
    "    if np.isnan(test_data[i,10]):\n",
    "        test_data[i,10]=0"
   ]
  },
  {
   "cell_type": "code",
   "execution_count": 14,
   "metadata": {},
   "outputs": [],
   "source": [
    "X_passengerdata=train_data[:,[2,4,6,7,11]]\n",
    "Y_survived=train_data[:,1:2]\n",
    "test_x_passengerdata=test_data[:,[1,3,5,6,10]]\n",
    "test_y_survived=sub_data[:,1:2]"
   ]
  },
  {
   "cell_type": "code",
   "execution_count": 15,
   "metadata": {},
   "outputs": [],
   "source": [
    "x=tf.placeholder(tf.float32,shape=[None,5])\n",
    "y=tf.placeholder(tf.float32,shape=[None,1])\n",
    "\n",
    "W=tf.Variable(tf.random_normal([5,1]),name='weight')\n",
    "b=tf.Variable(tf.random_normal([1]),name='bias')\n",
    "\n",
    "hypothesis=tf.sigmoid(tf.matmul(x,W)+b)\n",
    "cost= -tf.reduce_mean(y*tf.log(hypothesis)+(1-y)*tf.log(1-hypothesis))"
   ]
  },
  {
   "cell_type": "code",
   "execution_count": 16,
   "metadata": {},
   "outputs": [],
   "source": [
    "train=tf.train.GradientDescentOptimizer(learning_rate=0.1).minimize(cost)"
   ]
  },
  {
   "cell_type": "code",
   "execution_count": 17,
   "metadata": {},
   "outputs": [],
   "source": [
    "predicted=tf.cast(hypothesis>0.5,dtype=tf.float32)\n",
    "accuracy=tf.reduce_mean(tf.cast(tf.equal(predicted,y),dtype=tf.float32))"
   ]
  },
  {
   "cell_type": "code",
   "execution_count": 20,
   "metadata": {},
   "outputs": [
    {
     "name": "stdout",
     "output_type": "stream",
     "text": [
      "step =  0 , cost:  0.7521809\n",
      "step =  500 , cost:  0.4709755\n",
      "step =  1000 , cost:  0.46313244\n",
      "step =  1500 , cost:  0.46007192\n",
      "step =  2000 , cost:  0.45878094\n",
      "step =  2500 , cost:  0.45821157\n",
      "step =  3000 , cost:  0.45795283\n",
      "step =  3500 , cost:  0.4578329\n",
      "step =  4000 , cost:  0.45777652\n",
      "step =  4500 , cost:  0.45775005\n",
      "step =  5000 , cost:  0.45773748\n",
      "step =  5500 , cost:  0.45773116\n",
      "step =  6000 , cost:  0.45772836\n",
      "step =  6500 , cost:  0.457727\n",
      "step =  7000 , cost:  0.45772648\n",
      "step =  7500 , cost:  0.45772594\n",
      "step =  8000 , cost:  0.45772573\n",
      "step =  8500 , cost:  0.45772588\n",
      "step =  9000 , cost:  0.45772576\n",
      "step =  9500 , cost:  0.45772576\n",
      "\n",
      " Accuracy: 0.80246913\n",
      "\n",
      " test CSV running result\n",
      "\n",
      " Accuracy :  0.9904306\n"
     ]
    }
   ],
   "source": [
    "with tf.Session() as sess:\n",
    "    sess.run(tf.global_variables_initializer())\n",
    "    for step in range(10000):\n",
    "        cost_val,_=sess.run([cost,train],feed_dict={x:X_passengerdata,y:Y_survived})\n",
    "        if step % 500==0:\n",
    "            print('step = ',step,', cost: ',cost_val)\n",
    "    h,c,a=sess.run([hypothesis,predicted,accuracy],feed_dict={x:X_passengerdata,y:Y_survived})\n",
    "    print('\\n Accuracy:',a)\n",
    "    a=sess.run(accuracy,feed_dict={x:X_passengerdata,y:Y_survived})\n",
    "    print('\\n test CSV running result')\n",
    "    h2,c2,a2=sess.run([hypothesis,predicted,accuracy],feed_dict={x:test_x_passengerdata,y:test_y_survived})\n",
    "    print('\\n Accuracy : ',a2)"
   ]
  },
  {
   "cell_type": "code",
   "execution_count": 23,
   "metadata": {},
   "outputs": [
    {
     "name": "stdout",
     "output_type": "stream",
     "text": [
      "Hello world!\n",
      "3.14\n",
      "토끼야 안녕!\n",
      "토끼야 안녕!\n"
     ]
    }
   ],
   "source": [
    "print('Hello world!')\n",
    "print('3.14')\n",
    "print('토끼야 안녕!')\n",
    "print(\"토끼야 안녕!\")"
   ]
  },
  {
   "cell_type": "code",
   "execution_count": 25,
   "metadata": {},
   "outputs": [
    {
     "name": "stdout",
     "output_type": "stream",
     "text": [
      "토끼야 안녕!\n",
      "정국아 안녕!\n"
     ]
    }
   ],
   "source": [
    "print('토끼'+'야 안녕!')\n",
    "print('정국'+'아 안녕!')"
   ]
  },
  {
   "cell_type": "code",
   "execution_count": 26,
   "metadata": {},
   "outputs": [
    {
     "name": "stdout",
     "output_type": "stream",
     "text": [
      "태형아 태형아 \n"
     ]
    }
   ],
   "source": [
    "print('태형아 '*2)"
   ]
  },
  {
   "cell_type": "code",
   "execution_count": 27,
   "metadata": {},
   "outputs": [
    {
     "name": "stdout",
     "output_type": "stream",
     "text": [
      "빨주노초파남보\n"
     ]
    }
   ],
   "source": [
    "print('빨'+'주'+'노'+'초'+'파'+'남'+'보')"
   ]
  },
  {
   "cell_type": "code",
   "execution_count": 28,
   "metadata": {},
   "outputs": [
    {
     "name": "stdout",
     "output_type": "stream",
     "text": [
      "빨주노초파남보\n"
     ]
    }
   ],
   "source": [
    "rainbow='빨주노초파남보'\n",
    "print(rainbow)"
   ]
  },
  {
   "cell_type": "code",
   "execution_count": 29,
   "metadata": {},
   "outputs": [
    {
     "name": "stdout",
     "output_type": "stream",
     "text": [
      "0\n",
      "1\n",
      "2\n"
     ]
    }
   ],
   "source": [
    "count=0\n",
    "print(count)\n",
    "count=1\n",
    "print(count)\n",
    "count=count+1\n",
    "print(count)"
   ]
  },
  {
   "cell_type": "code",
   "execution_count": 30,
   "metadata": {},
   "outputs": [
    {
     "name": "stdout",
     "output_type": "stream",
     "text": [
      "25400\n",
      "41900\n",
      "16500\n"
     ]
    }
   ],
   "source": [
    "coffee=4100 #커피의 가격\n",
    "juice=4600 #주스의 가격\n",
    "tea=3900 #홍차의 가격\n",
    "print(coffee*3+juice*2+tea)\n",
    "print(coffee*4+juice*3+tea*3)\n",
    "print(coffee*1+juice*1+tea*2)"
   ]
  },
  {
   "cell_type": "code",
   "execution_count": 32,
   "metadata": {},
   "outputs": [
    {
     "data": {
      "text/plain": [
       "'\\nprint(주석 처리)\\n'"
      ]
     },
     "execution_count": 32,
     "metadata": {},
     "output_type": "execute_result"
    }
   ],
   "source": [
    "#주석\n",
    "'''\n",
    "print(주석 처리)\n",
    "'''"
   ]
  },
  {
   "cell_type": "code",
   "execution_count": 33,
   "metadata": {},
   "outputs": [
    {
     "name": "stdout",
     "output_type": "stream",
     "text": [
      "2\n",
      "4\n",
      "1\n"
     ]
    }
   ],
   "source": [
    "print(3+1-2)\n",
    "print(3-1+2)\n",
    "print(3*1-2)"
   ]
  },
  {
   "cell_type": "code",
   "execution_count": 34,
   "metadata": {},
   "outputs": [
    {
     "name": "stdout",
     "output_type": "stream",
     "text": [
      "4\n",
      "1\n"
     ]
    }
   ],
   "source": [
    "num1=9\n",
    "num2=2\n",
    "print(num1//num2) #몫\n",
    "print(num1%num2) #나머지"
   ]
  },
  {
   "cell_type": "code",
   "execution_count": 35,
   "metadata": {},
   "outputs": [
    {
     "name": "stdout",
     "output_type": "stream",
     "text": [
      "4.0\n",
      "4\n",
      "4.0\n",
      "4.0\n"
     ]
    }
   ],
   "source": [
    "print(8/2)\n",
    "print(2*2)\n",
    "print(8.0/2)\n",
    "print(8.5//2)"
   ]
  },
  {
   "cell_type": "code",
   "execution_count": 36,
   "metadata": {},
   "outputs": [
    {
     "name": "stdout",
     "output_type": "stream",
     "text": [
      "2\n"
     ]
    }
   ],
   "source": [
    "print(11%3)"
   ]
  },
  {
   "cell_type": "code",
   "execution_count": 37,
   "metadata": {},
   "outputs": [
    {
     "name": "stdout",
     "output_type": "stream",
     "text": [
      "24\n"
     ]
    }
   ],
   "source": [
    "print('2'+'4')"
   ]
  },
  {
   "cell_type": "code",
   "execution_count": 41,
   "metadata": {},
   "outputs": [
    {
     "data": {
      "text/plain": [
       "'abcdef'"
      ]
     },
     "execution_count": 41,
     "metadata": {},
     "output_type": "execute_result"
    }
   ],
   "source": [
    "alphabets='abc'+'de'+'f'\n",
    "alphabets"
   ]
  },
  {
   "cell_type": "code",
   "execution_count": 42,
   "metadata": {},
   "outputs": [
    {
     "name": "stdout",
     "output_type": "stream",
     "text": [
      "말랑말랑\n"
     ]
    }
   ],
   "source": [
    "print('말랑'*2)"
   ]
  },
  {
   "cell_type": "code",
   "execution_count": 43,
   "metadata": {},
   "outputs": [
    {
     "name": "stdout",
     "output_type": "stream",
     "text": [
      "1\n"
     ]
    }
   ],
   "source": [
    "count=1\n",
    "count=count+1\n",
    "count=1\n",
    "print(count)"
   ]
  },
  {
   "cell_type": "code",
   "execution_count": 45,
   "metadata": {},
   "outputs": [
    {
     "name": "stdout",
     "output_type": "stream",
     "text": [
      "자몽 레몬 멜론\n"
     ]
    }
   ],
   "source": [
    "fruits='자몽 레몬'\n",
    "print(fruits+' 멜론')"
   ]
  },
  {
   "cell_type": "code",
   "execution_count": 46,
   "metadata": {},
   "outputs": [
    {
     "name": "stdout",
     "output_type": "stream",
     "text": [
      "['딸기맛', '레몬맛', '수박맛', '박하맛', '우유맛']\n"
     ]
    }
   ],
   "source": [
    "candies=['딸기맛','레몬맛','수박맛','박하맛','우유맛']\n",
    "print(candies) #list"
   ]
  },
  {
   "cell_type": "code",
   "execution_count": 47,
   "metadata": {},
   "outputs": [
    {
     "name": "stdout",
     "output_type": "stream",
     "text": [
      "[]\n",
      "[1, -2, 3.14]\n",
      "['엘리스', 10, [1.0, 1.2]]\n"
     ]
    }
   ],
   "source": [
    "my_list1=[]\n",
    "print(my_list1)\n",
    "my_list2=[1,-2,3.14]\n",
    "print(my_list2)\n",
    "my_list3=['엘리스',10,[1.0,1.2]]\n",
    "print(my_list3)"
   ]
  },
  {
   "cell_type": "code",
   "execution_count": 53,
   "metadata": {},
   "outputs": [
    {
     "name": "stdout",
     "output_type": "stream",
     "text": [
      "['클로버1']\n",
      "['클로버1', '하트2']\n",
      "['클로버1', '하트2', '클로버3']\n"
     ]
    }
   ],
   "source": [
    "clovers=[]\n",
    "clovers.append('클로버1')\n",
    "print(clovers)\n",
    "clovers.append('하트2')\n",
    "print(clovers)\n",
    "clovers.append('클로버3')\n",
    "print(clovers)"
   ]
  },
  {
   "cell_type": "code",
   "execution_count": 54,
   "metadata": {},
   "outputs": [
    {
     "name": "stdout",
     "output_type": "stream",
     "text": [
      "하트2\n",
      "클로버2\n",
      "클로버3\n"
     ]
    }
   ],
   "source": [
    "print(clovers[1])\n",
    "clovers[1]='클로버2'\n",
    "print(clovers[1])\n",
    "print(clovers[2])"
   ]
  },
  {
   "cell_type": "code",
   "execution_count": 55,
   "metadata": {},
   "outputs": [
    {
     "name": "stdout",
     "output_type": "stream",
     "text": [
      "['클로버1', '클로버3']\n",
      "클로버3\n"
     ]
    }
   ],
   "source": [
    "del clovers[1] #del은 변수이름으로 사용하면  x\n",
    "print(clovers)\n",
    "print(clovers[1])"
   ]
  },
  {
   "cell_type": "code",
   "execution_count": null,
   "metadata": {},
   "outputs": [],
   "source": []
  }
 ],
 "metadata": {
  "kernelspec": {
   "display_name": "Python 3",
   "language": "python",
   "name": "python3"
  },
  "language_info": {
   "codemirror_mode": {
    "name": "ipython",
    "version": 3
   },
   "file_extension": ".py",
   "mimetype": "text/x-python",
   "name": "python",
   "nbconvert_exporter": "python",
   "pygments_lexer": "ipython3",
   "version": "3.7.3"
  }
 },
 "nbformat": 4,
 "nbformat_minor": 2
}

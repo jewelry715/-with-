{
 "cells": [
  {
   "cell_type": "code",
   "execution_count": 1,
   "metadata": {},
   "outputs": [
    {
     "name": "stdout",
     "output_type": "stream",
     "text": [
      "0\n",
      "1\n",
      "2\n"
     ]
    }
   ],
   "source": [
    "count=0\n",
    "while count<3:\n",
    "    print(count)\n",
    "    count=count+1"
   ]
  },
  {
   "cell_type": "code",
   "execution_count": 3,
   "metadata": {},
   "outputs": [
    {
     "name": "stdout",
     "output_type": "stream",
     "text": [
      "2\n",
      "3\n",
      "4\n"
     ]
    }
   ],
   "source": [
    "count=1\n",
    "while count<4:\n",
    "    count=count+1\n",
    "    print(count)"
   ]
  },
  {
   "cell_type": "code",
   "execution_count": 4,
   "metadata": {},
   "outputs": [
    {
     "name": "stdout",
     "output_type": "stream",
     "text": [
      "1\n",
      "3\n",
      "5\n"
     ]
    }
   ],
   "source": [
    "count=0\n",
    "while count<=5:\n",
    "    if count % 2 !=0:\n",
    "        print(count)\n",
    "    count=count+1"
   ]
  },
  {
   "cell_type": "code",
   "execution_count": 5,
   "metadata": {},
   "outputs": [
    {
     "name": "stdout",
     "output_type": "stream",
     "text": [
      "총합은 :  15\n"
     ]
    }
   ],
   "source": [
    "total=0\n",
    "count=1\n",
    "while count <=5:\n",
    "    total=total+count\n",
    "    count=count+1\n",
    "print('총합은 : ',total)"
   ]
  },
  {
   "cell_type": "code",
   "execution_count": 6,
   "metadata": {},
   "outputs": [
    {
     "name": "stdout",
     "output_type": "stream",
     "text": [
      "안녕 거북이 0\n",
      "안녕 거북이 1\n",
      "안녕 거북이 2\n"
     ]
    }
   ],
   "source": [
    "for i in range(3):\n",
    "    print('안녕 거북이',i)"
   ]
  },
  {
   "cell_type": "code",
   "execution_count": 7,
   "metadata": {},
   "outputs": [
    {
     "name": "stdout",
     "output_type": "stream",
     "text": [
      "안녕 거북이 0\n",
      "안녕 거북이 1\n",
      "안녕 거북이 2\n"
     ]
    }
   ],
   "source": [
    "for i in range(0,3):\n",
    "    print('안녕 거북이',i)"
   ]
  },
  {
   "cell_type": "code",
   "execution_count": 8,
   "metadata": {},
   "outputs": [
    {
     "name": "stdout",
     "output_type": "stream",
     "text": [
      "안녕 거북이 0\n",
      "안녕 거북이 1\n",
      "안녕 거북이 2\n",
      "안녕 거북이 3\n"
     ]
    }
   ],
   "source": [
    "k=0\n",
    "while k<=3:\n",
    "    print('안녕 거북이',k)\n",
    "    k=k+1"
   ]
  },
  {
   "cell_type": "code",
   "execution_count": 9,
   "metadata": {},
   "outputs": [
    {
     "name": "stdout",
     "output_type": "stream",
     "text": [
      "안녕 거북이 0\n",
      "안녕 거북이 1\n",
      "안녕 거북이 2\n"
     ]
    }
   ],
   "source": [
    "i=0\n",
    "while True:\n",
    "    print('안녕 거북이',i)\n",
    "    i=i+1\n",
    "    if i==3:\n",
    "        break"
   ]
  },
  {
   "cell_type": "code",
   "execution_count": 10,
   "metadata": {},
   "outputs": [
    {
     "name": "stdout",
     "output_type": "stream",
     "text": [
      "3\n",
      "2\n",
      "1\n"
     ]
    }
   ],
   "source": [
    "count=3\n",
    "while count>0:\n",
    "    print(count)\n",
    "    count=count-1"
   ]
  },
  {
   "cell_type": "code",
   "execution_count": 11,
   "metadata": {},
   "outputs": [
    {
     "name": "stdout",
     "output_type": "stream",
     "text": [
      "클로버1\n",
      "클로버2\n",
      "클로버3\n"
     ]
    }
   ],
   "source": [
    "clovers=['클로버1','클로버2','클로버3']\n",
    "cnt=0\n",
    "while cnt<3:\n",
    "    print(clovers[cnt])\n",
    "    cnt=cnt+1"
   ]
  },
  {
   "cell_type": "code",
   "execution_count": 12,
   "metadata": {},
   "outputs": [
    {
     "name": "stdout",
     "output_type": "stream",
     "text": [
      "클로버2\n",
      "클로버3\n"
     ]
    }
   ],
   "source": [
    "clovers=['클로버1','클로버2','클로버3']\n",
    "cnt=1\n",
    "while cnt<3:\n",
    "    print(clovers[cnt])\n",
    "    cnt=cnt+1"
   ]
  },
  {
   "cell_type": "code",
   "execution_count": 13,
   "metadata": {},
   "outputs": [
    {
     "name": "stdout",
     "output_type": "stream",
     "text": [
      "클로버1\n",
      "클로버2\n"
     ]
    }
   ],
   "source": [
    "clovers=['클로버1','클로버2','클로버3']\n",
    "for cnt in range(0,2):\n",
    "    print(clovers[cnt])"
   ]
  },
  {
   "cell_type": "code",
   "execution_count": 14,
   "metadata": {},
   "outputs": [
    {
     "name": "stdout",
     "output_type": "stream",
     "text": [
      "클로버2\n",
      "클로버3\n"
     ]
    }
   ],
   "source": [
    "clovers=['클로버1','클로버2','클로버3']\n",
    "for cnt in range(1,3):\n",
    "    print(clovers[cnt])"
   ]
  },
  {
   "cell_type": "code",
   "execution_count": 15,
   "metadata": {},
   "outputs": [
    {
     "name": "stdout",
     "output_type": "stream",
     "text": [
      "1\n",
      "2\n",
      "3\n"
     ]
    }
   ],
   "source": [
    "num=1\n",
    "while True:\n",
    "    if num>3:\n",
    "        break\n",
    "    print(num)\n",
    "    num=num+1"
   ]
  },
  {
   "cell_type": "code",
   "execution_count": 1,
   "metadata": {},
   "outputs": [
    {
     "name": "stdout",
     "output_type": "stream",
     "text": [
      "가격을 입력하세요 (종료:-1): 3000\n",
      "정말 싸요.\n",
      "가격을 입력하세요 (종료:-1): 15000\n",
      "너무 비싸요\n",
      "가격을 입력하세요 (종료:-1): -1\n",
      "정말 싸요.\n"
     ]
    }
   ],
   "source": [
    "price=0\n",
    "while price !=-1:\n",
    "    price=int(input('가격을 입력하세요 (종료:-1): '))\n",
    "    if price>10000:\n",
    "        print('너무 비싸요')\n",
    "    elif price>5000:\n",
    "        print('괜찮은 가격이네요')\n",
    "    else:\n",
    "        print('정말 싸요.')"
   ]
  },
  {
   "cell_type": "code",
   "execution_count": 3,
   "metadata": {},
   "outputs": [
    {
     "name": "stdout",
     "output_type": "stream",
     "text": [
      "2 이상의 정수를 입력하세요 (종료:-1):1\n",
      "1 은(는) 소수입니다.\n",
      "2\n",
      "2 이상의 정수를 입력하세요 (종료:-1):1\n",
      "1 은(는) 소수입니다.\n",
      "2\n",
      "2 이상의 정수를 입력하세요 (종료:-1):3\n",
      "3 은(는) 소수입니다.\n",
      "3\n",
      "2 이상의 정수를 입력하세요 (종료:-1):3\n",
      "3 은(는) 소수입니다.\n",
      "3\n",
      "2 이상의 정수를 입력하세요 (종료:-1):4\n",
      "4 은(는) 소수가 아닙니다.\n",
      "2\n",
      "2 이상의 정수를 입력하세요 (종료:-1):5\n",
      "5 은(는) 소수입니다.\n",
      "5\n",
      "2 이상의 정수를 입력하세요 (종료:-1):6\n",
      "6 은(는) 소수가 아닙니다.\n",
      "2\n",
      "2 이상의 정수를 입력하세요 (종료:-1):7\n",
      "7 은(는) 소수입니다.\n",
      "7\n",
      "2 이상의 정수를 입력하세요 (종료:-1):11\n",
      "11 은(는) 소수입니다.\n",
      "11\n",
      "2 이상의 정수를 입력하세요 (종료:-1):12\n",
      "12 은(는) 소수가 아닙니다.\n",
      "2\n",
      "2 이상의 정수를 입력하세요 (종료:-1):14\n",
      "14 은(는) 소수가 아닙니다.\n",
      "2\n",
      "2 이상의 정수를 입력하세요 (종료:-1):15\n",
      "15 은(는) 소수가 아닙니다.\n",
      "3\n",
      "2 이상의 정수를 입력하세요 (종료:-1):16\n",
      "16 은(는) 소수가 아닙니다.\n",
      "2\n",
      "2 이상의 정수를 입력하세요 (종료:-1):17\n",
      "17 은(는) 소수입니다.\n",
      "17\n",
      "2 이상의 정수를 입력하세요 (종료:-1):-1\n"
     ]
    }
   ],
   "source": [
    "while True:\n",
    "    number=int(input('2 이상의 정수를 입력하세요 (종료:-1):'))\n",
    "    if number ==-1:\n",
    "        break\n",
    "    count=2\n",
    "    is_prime=True\n",
    "    while count<number:#count가 number보다 작은 동안 반복\n",
    "        if number%count==0:\n",
    "            is_prime=False\n",
    "            break #소수가 아니므로 종료\n",
    "        count=count+1 #안 걸리게 되면 count가 늘어남\n",
    "    if is_prime:\n",
    "        print(number,'은(는) 소수입니다.')\n",
    "    else:\n",
    "        print(number,'은(는) 소수가 아닙니다.')\n",
    "    print(count)"
   ]
  },
  {
   "cell_type": "code",
   "execution_count": 4,
   "metadata": {},
   "outputs": [
    {
     "name": "stdout",
     "output_type": "stream",
     "text": [
      "런던,파리,서울 중 영국의 수도는 어디일까요?런던\n",
      "정답입니다. 런던은 영국의 수도입니다\n"
     ]
    }
   ],
   "source": [
    "while True:\n",
    "    answer=input('런던,파리,서울 중 영국의 수도는 어디일까요?')\n",
    "    if answer=='런던':\n",
    "        print('정답입니다. 런던은 영국의 수도입니다')\n",
    "        break\n",
    "    elif answer=='파리':\n",
    "        print('정답입니다. 파리는 프랑스의 수도입니다')\n",
    "    elif answer=='서울':\n",
    "        print('정답입니다. 서울은 대한민국의 수도입니다')\n",
    "    else:\n",
    "        print('보기에서 골라주세요')"
   ]
  },
  {
   "cell_type": "code",
   "execution_count": 1,
   "metadata": {},
   "outputs": [
    {
     "name": "stdout",
     "output_type": "stream",
     "text": [
      "()\n",
      "(1, -2, 3.14)\n",
      "('앨리스', 10, 1.0, 1.2)\n"
     ]
    }
   ],
   "source": [
    "#리스트는 값을 변경할 수 있지만 튜플은 변경 불가능\n",
    "my_tuple1=()\n",
    "print(my_tuple1)\n",
    "my_tuple2=(1,-2,3.14)\n",
    "print(my_tuple2)\n",
    "my_tuple3='앨리스',10,1.0,1.2 #자동으로 튜플 저장\n",
    "print(my_tuple3)"
   ]
  },
  {
   "cell_type": "code",
   "execution_count": 2,
   "metadata": {},
   "outputs": [
    {
     "name": "stdout",
     "output_type": "stream",
     "text": [
      "<class 'int'>\n",
      "<class 'tuple'>\n"
     ]
    }
   ],
   "source": [
    "my_int=(1)\n",
    "print(type(my_int)) #정수\n",
    "my_tuple=(1,)\n",
    "print(type(my_tuple)) #튜플"
   ]
  },
  {
   "cell_type": "code",
   "execution_count": 5,
   "metadata": {},
   "outputs": [
    {
     "name": "stdout",
     "output_type": "stream",
     "text": [
      "클로버2\n"
     ]
    }
   ],
   "source": [
    "clovers=('클로버1','클로버2','클로버3')\n",
    "print(clovers[1])"
   ]
  },
  {
   "cell_type": "code",
   "execution_count": 6,
   "metadata": {},
   "outputs": [
    {
     "ename": "TypeError",
     "evalue": "'tuple' object does not support item assignment",
     "output_type": "error",
     "traceback": [
      "\u001b[1;31m---------------------------------------------------------------------------\u001b[0m",
      "\u001b[1;31mTypeError\u001b[0m                                 Traceback (most recent call last)",
      "\u001b[1;32m<ipython-input-6-cac22f27e11b>\u001b[0m in \u001b[0;36m<module>\u001b[1;34m\u001b[0m\n\u001b[1;32m----> 1\u001b[1;33m \u001b[0mclovers\u001b[0m\u001b[1;33m[\u001b[0m\u001b[1;36m1\u001b[0m\u001b[1;33m]\u001b[0m\u001b[1;33m=\u001b[0m\u001b[1;34m'하트'\u001b[0m\u001b[1;33m\u001b[0m\u001b[1;33m\u001b[0m\u001b[0m\n\u001b[0m",
      "\u001b[1;31mTypeError\u001b[0m: 'tuple' object does not support item assignment"
     ]
    }
   ],
   "source": [
    "clovers[1]='하트'"
   ]
  },
  {
   "cell_type": "code",
   "execution_count": 8,
   "metadata": {},
   "outputs": [
    {
     "name": "stdout",
     "output_type": "stream",
     "text": [
      "('클로버1', '클로버2', '클로버3')\n",
      "R: 240 G: 248 B: 255\n"
     ]
    }
   ],
   "source": [
    "clovers='클로버1','클로버2','클로버3' #패킹->항상 튜플\n",
    "print(clovers)\n",
    "alice_blue=(240,248,255) #언패킹->튜플,리스트도 가능\n",
    "r,g,b=alice_blue\n",
    "print('R:',r,'G:',g,'B:',b)"
   ]
  },
  {
   "cell_type": "code",
   "execution_count": 10,
   "metadata": {},
   "outputs": [
    {
     "name": "stdout",
     "output_type": "stream",
     "text": [
      "도도새: 박하맛 앨리스: 딸기맛\n",
      "도도새: 딸기맛 앨리스: 박하맛\n"
     ]
    }
   ],
   "source": [
    "dodo='박하맛'\n",
    "alice='딸기맛'\n",
    "print('도도새:',dodo,'앨리스:',alice)\n",
    "dodo,alice=alice,dodo\n",
    "print('도도새:',dodo,'앨리스:',alice)"
   ]
  },
  {
   "cell_type": "code",
   "execution_count": 1,
   "metadata": {},
   "outputs": [
    {
     "name": "stdout",
     "output_type": "stream",
     "text": [
      "{}\n",
      "{0: 1, 1: -2, 2: 3.14}\n",
      "{'이름': '앨리스', '나이': 10, '시력': [1.0, 1.2]}\n"
     ]
    }
   ],
   "source": [
    "my_dict={}\n",
    "print(my_dict)\n",
    "my_dict1={0:1,1:-2,2:3.14}\n",
    "print(my_dict1)\n",
    "my_dict2={'이름':'앨리스','나이':10,'시력':[1.0,1.2]}\n",
    "print(my_dict2)"
   ]
  },
  {
   "cell_type": "code",
   "execution_count": 7,
   "metadata": {},
   "outputs": [
    {
     "name": "stdout",
     "output_type": "stream",
     "text": [
      "{'나이': 27, '직업': '병사'}\n",
      "{'나이': 27, '직업': '병사', '번호': 9}\n"
     ]
    }
   ],
   "source": [
    "clover={'나이':27,'직업':'병사'}\n",
    "print(clover)\n",
    "clover['번호']=9\n",
    "print(clover)"
   ]
  },
  {
   "cell_type": "code",
   "execution_count": 8,
   "metadata": {},
   "outputs": [
    {
     "name": "stdout",
     "output_type": "stream",
     "text": [
      "9\n",
      "6\n",
      "6\n"
     ]
    }
   ],
   "source": [
    "clover={'나이': 27, '직업': '병사', '번호': 9}\n",
    "print(clover['번호'])\n",
    "clover['번호']=6\n",
    "print(clover['번호'])\n",
    "print(clover.get('번호')) #값 가져오기"
   ]
  },
  {
   "cell_type": "code",
   "execution_count": 11,
   "metadata": {},
   "outputs": [
    {
     "data": {
      "text/plain": [
       "1.2"
      ]
     },
     "execution_count": 11,
     "metadata": {},
     "output_type": "execute_result"
    }
   ],
   "source": [
    "my_dict2['시력'][1]"
   ]
  },
  {
   "cell_type": "code",
   "execution_count": 12,
   "metadata": {},
   "outputs": [
    {
     "name": "stdout",
     "output_type": "stream",
     "text": [
      "{'직업': '병사', '번호': 6}\n"
     ]
    }
   ],
   "source": [
    "del clover['나이']\n",
    "print(clover)"
   ]
  },
  {
   "cell_type": "code",
   "execution_count": 13,
   "metadata": {},
   "outputs": [
    {
     "name": "stdout",
     "output_type": "stream",
     "text": [
      "{'스페이드1': '비빔라면', '다이아2': '매운라면'}\n",
      "{'스페이드1': '비빔라면', '다이아2': '매운라면', '클로버3': '카레라면'}\n",
      "{'스페이드1': '비빔라면', '다이아2': '짜장라면', '클로버3': '카레라면'}\n",
      "{'다이아2': '짜장라면', '클로버3': '카레라면'}\n"
     ]
    }
   ],
   "source": [
    "order={'스페이드1':'비빔라면','다이아2':'매운라면'}\n",
    "print(order)\n",
    "order['클로버3']='카레라면'\n",
    "print(order)\n",
    "order['다이아2']='짜장라면'\n",
    "print(order)\n",
    "del order['스페이드1']\n",
    "print(order)"
   ]
  },
  {
   "cell_type": "code",
   "execution_count": 14,
   "metadata": {},
   "outputs": [
    {
     "name": "stdout",
     "output_type": "stream",
     "text": [
      "(1, 2, 3)\n"
     ]
    }
   ],
   "source": [
    "nums=(1,2,3)\n",
    "print(nums)"
   ]
  },
  {
   "cell_type": "code",
   "execution_count": 15,
   "metadata": {},
   "outputs": [
    {
     "name": "stdout",
     "output_type": "stream",
     "text": [
      "(3.14, 2.71)\n",
      "2.71\n"
     ]
    }
   ],
   "source": [
    "my_tuple=(3.14,2.71)\n",
    "print(my_tuple)\n",
    "print(my_tuple[1])"
   ]
  },
  {
   "cell_type": "code",
   "execution_count": 16,
   "metadata": {},
   "outputs": [
    {
     "name": "stdout",
     "output_type": "stream",
     "text": [
      "<class 'tuple'>\n",
      "<class 'tuple'>\n",
      "<class 'int'>\n",
      "<class 'tuple'>\n"
     ]
    }
   ],
   "source": [
    "my_var=1,\n",
    "print(type(my_var))\n",
    "my_var=(1,)\n",
    "print(type(my_var))\n",
    "my_var=(1)\n",
    "print(type(my_var))\n",
    "my_var=1,2\n",
    "print(type(my_var))"
   ]
  },
  {
   "cell_type": "code",
   "execution_count": 17,
   "metadata": {},
   "outputs": [
    {
     "name": "stdout",
     "output_type": "stream",
     "text": [
      "1\n",
      "2\n",
      "3\n"
     ]
    }
   ],
   "source": [
    "nums=1,2,3\n",
    "for idx in range(3):\n",
    "    print(nums[idx])"
   ]
  },
  {
   "cell_type": "code",
   "execution_count": 18,
   "metadata": {},
   "outputs": [
    {
     "name": "stdout",
     "output_type": "stream",
     "text": [
      "6\n"
     ]
    }
   ],
   "source": [
    "diamonds=1,5,6,7\n",
    "ace,king,queen,jack=diamonds #언패킹\n",
    "print(queen)"
   ]
  },
  {
   "cell_type": "code",
   "execution_count": 19,
   "metadata": {},
   "outputs": [
    {
     "name": "stdout",
     "output_type": "stream",
     "text": [
      "{'성별': '여', '나이': 13, '혈액형': 'AB'}\n"
     ]
    }
   ],
   "source": [
    "alice={}\n",
    "alice['성별']='여'\n",
    "alice['나이']=13\n",
    "alice['혈액형']='AB'\n",
    "print(alice)"
   ]
  },
  {
   "cell_type": "code",
   "execution_count": 20,
   "metadata": {},
   "outputs": [
    {
     "name": "stdout",
     "output_type": "stream",
     "text": [
      "AB\n"
     ]
    }
   ],
   "source": [
    "alice={'성별': '여', '나이': 13, '혈액형': 'AB'}\n",
    "print(alice['혈액형'])"
   ]
  },
  {
   "cell_type": "code",
   "execution_count": 21,
   "metadata": {},
   "outputs": [
    {
     "name": "stdout",
     "output_type": "stream",
     "text": [
      "14\n"
     ]
    }
   ],
   "source": [
    "alice['나이']=14\n",
    "print(alice['나이'])"
   ]
  },
  {
   "cell_type": "code",
   "execution_count": 22,
   "metadata": {},
   "outputs": [
    {
     "name": "stdout",
     "output_type": "stream",
     "text": [
      "010-1234-5678\n"
     ]
    }
   ],
   "source": [
    "alice['전화번호']='010-1234-5678'\n",
    "print(alice['전화번호'])"
   ]
  },
  {
   "cell_type": "code",
   "execution_count": 23,
   "metadata": {},
   "outputs": [
    {
     "name": "stdout",
     "output_type": "stream",
     "text": [
      "{'성별': '여', '나이': 14, '혈액형': 'AB'}\n"
     ]
    }
   ],
   "source": [
    "del alice['전화번호']\n",
    "print(alice)"
   ]
  },
  {
   "cell_type": "code",
   "execution_count": 28,
   "metadata": {},
   "outputs": [
    {
     "name": "stdout",
     "output_type": "stream",
     "text": [
      "하트 1 유죄!\n",
      "하트 2 유죄!\n",
      "하트 3 유죄!\n",
      "클로버 1 유죄!\n",
      "클로버 2 유죄!\n",
      "클로버 3 유죄!\n",
      "스페이드 1 유죄!\n",
      "스페이드 2 유죄!\n",
      "스페이드 3 유죄!\n"
     ]
    }
   ],
   "source": [
    "for i in ['하트','클로버','스페이드']:\n",
    "    for j in range(1,4):\n",
    "        print(i,j,'유죄!')"
   ]
  },
  {
   "cell_type": "code",
   "execution_count": 29,
   "metadata": {},
   "outputs": [
    {
     "name": "stdout",
     "output_type": "stream",
     "text": [
      "토끼야 안녕!\n"
     ]
    }
   ],
   "source": [
    "def my_func():\n",
    "    print('토끼야 안녕!')\n",
    "my_func()"
   ]
  },
  {
   "cell_type": "code",
   "execution_count": 31,
   "metadata": {},
   "outputs": [
    {
     "name": "stdout",
     "output_type": "stream",
     "text": [
      "5\n",
      "10\n"
     ]
    }
   ],
   "source": [
    "def add(num1,num2):\n",
    "    return num1+num2\n",
    "print(add(2,3))\n",
    "print(add(7,3))"
   ]
  },
  {
   "cell_type": "code",
   "execution_count": 32,
   "metadata": {},
   "outputs": [
    {
     "name": "stdout",
     "output_type": "stream",
     "text": [
      "(5, 6)\n"
     ]
    }
   ],
   "source": [
    "def add_mul(num1,num2):\n",
    "    return num1+num2,num1*num2\n",
    "print(add_mul(2,3))"
   ]
  },
  {
   "cell_type": "code",
   "execution_count": 33,
   "metadata": {},
   "outputs": [
    {
     "name": "stdout",
     "output_type": "stream",
     "text": [
      "하트 1 유죄!\n",
      "하트 2 유죄!\n",
      "하트 3 유죄!\n",
      "클로버 1 유죄!\n",
      "클로버 2 유죄!\n",
      "클로버 3 유죄!\n",
      "스페이드 1 유죄!\n",
      "스페이드 2 유죄!\n",
      "스페이드 3 유죄!\n"
     ]
    }
   ],
   "source": [
    "def judge_cards(name):\n",
    "    print(name,'1 유죄!')\n",
    "    print(name,'2 유죄!')\n",
    "    print(name,'3 유죄!')\n",
    "    \n",
    "judge_cards('하트')\n",
    "judge_cards('클로버')\n",
    "judge_cards('스페이드')"
   ]
  },
  {
   "cell_type": "code",
   "execution_count": null,
   "metadata": {},
   "outputs": [],
   "source": []
  }
 ],
 "metadata": {
  "kernelspec": {
   "display_name": "Python 3",
   "language": "python",
   "name": "python3"
  },
  "language_info": {
   "codemirror_mode": {
    "name": "ipython",
    "version": 3
   },
   "file_extension": ".py",
   "mimetype": "text/x-python",
   "name": "python",
   "nbconvert_exporter": "python",
   "pygments_lexer": "ipython3",
   "version": "3.7.3"
  }
 },
 "nbformat": 4,
 "nbformat_minor": 2
}

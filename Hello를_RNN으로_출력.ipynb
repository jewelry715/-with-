{
  "nbformat": 4,
  "nbformat_minor": 0,
  "metadata": {
    "colab": {
      "name": "Hello를 RNN으로 출력.ipynb",
      "provenance": [],
      "collapsed_sections": [],
      "authorship_tag": "ABX9TyM5oikOOn62I4IM/oal31Lm",
      "include_colab_link": true
    },
    "kernelspec": {
      "name": "python3",
      "display_name": "Python 3"
    },
    "accelerator": "GPU"
  },
  "cells": [
    {
      "cell_type": "markdown",
      "metadata": {
        "id": "view-in-github",
        "colab_type": "text"
      },
      "source": [
        "<a href=\"https://colab.research.google.com/github/jewelry715/github_test/blob/master/Hello%EB%A5%BC_RNN%EC%9C%BC%EB%A1%9C_%EC%B6%9C%EB%A0%A5.ipynb\" target=\"_parent\"><img src=\"https://colab.research.google.com/assets/colab-badge.svg\" alt=\"Open In Colab\"/></a>"
      ]
    },
    {
      "cell_type": "code",
      "metadata": {
        "id": "zAmOhBe1vrBA",
        "colab_type": "code",
        "colab": {
          "base_uri": "https://localhost:8080/",
          "height": 34
        },
        "outputId": "1be91f6c-affa-4e7b-f8de-fac22a809aaf"
      },
      "source": [
        "%tensorflow_version 1.x"
      ],
      "execution_count": null,
      "outputs": [
        {
          "output_type": "stream",
          "text": [
            "TensorFlow 1.x selected.\n"
          ],
          "name": "stdout"
        }
      ]
    },
    {
      "cell_type": "code",
      "metadata": {
        "id": "O6htJPMbug-n",
        "colab_type": "code",
        "colab": {}
      },
      "source": [
        "import tensorflow as tf\n",
        "import numpy as np"
      ],
      "execution_count": null,
      "outputs": []
    },
    {
      "cell_type": "code",
      "metadata": {
        "id": "GdgG97z1uoS0",
        "colab_type": "code",
        "colab": {}
      },
      "source": [
        "char_rdic=['h','e','l','o'] #id를 char로 변환\n",
        "char_dic={w:i for i,w in enumerate(char_rdic)}\n",
        "ground_truth=[char_dic[c] for c in 'hello']"
      ],
      "execution_count": null,
      "outputs": []
    },
    {
      "cell_type": "code",
      "metadata": {
        "id": "uYvUHoxeupoe",
        "colab_type": "code",
        "colab": {}
      },
      "source": [
        "x_data=np.array([[1,0,0,0],[0,1,0,0],[0,0,1,0],[0,0,1,0]],dtype='f') #h,e,1,1"
      ],
      "execution_count": null,
      "outputs": []
    },
    {
      "cell_type": "code",
      "metadata": {
        "id": "o3-PShGvu4jP",
        "colab_type": "code",
        "colab": {
          "base_uri": "https://localhost:8080/",
          "height": 52
        },
        "outputId": "a09cc941-c13a-4e05-886c-092a855ac723"
      },
      "source": [
        "print('char dic : ',char_dic) #char를 id로 변환\n",
        "print('ground truth \\ \"Hello\\\" : ',ground_truth)"
      ],
      "execution_count": null,
      "outputs": [
        {
          "output_type": "stream",
          "text": [
            "char dic :  {'h': 0, 'e': 1, 'l': 2, 'o': 3}\n",
            "ground truth \\ \"Hello\" :  [0, 1, 2, 2, 3]\n"
          ],
          "name": "stdout"
        }
      ]
    },
    {
      "cell_type": "code",
      "metadata": {
        "id": "43ffaHBjvEMP",
        "colab_type": "code",
        "colab": {
          "base_uri": "https://localhost:8080/",
          "height": 34
        },
        "outputId": "74c6c8d4-ed3f-44a8-b2b3-d78ebd58e3fb"
      },
      "source": [
        "x_data=tf.one_hot(ground_truth[:-1],len(char_dic),1.0,0.0,-1) #[0,1,2,2],depth,해당위치,axis=-1\n",
        "print('x_data : ',x_data)"
      ],
      "execution_count": null,
      "outputs": [
        {
          "output_type": "stream",
          "text": [
            "x_data :  Tensor(\"one_hot:0\", shape=(4, 4), dtype=float32)\n"
          ],
          "name": "stdout"
        }
      ]
    },
    {
      "cell_type": "code",
      "metadata": {
        "id": "qiV0a0EPusLg",
        "colab_type": "code",
        "colab": {
          "base_uri": "https://localhost:8080/",
          "height": 70
        },
        "outputId": "2416ddcc-b16c-4104-e5aa-1eda349a9fde"
      },
      "source": [
        "rnn_size=len(char_dic) #4\n",
        "batch_size=1\n",
        "output_size=4\n",
        "rnn_cell=tf.nn.rnn_cell.BasicRNNCell(num_units=rnn_size) #셀 내부의 unit의 개수로 아웃풋과 관계가 있다\n",
        "initial_state=rnn_cell.zero_state(batch_size,tf.float32)\n",
        "initial_state_1=tf.zeros([batch_size,rnn_cell.state_size])"
      ],
      "execution_count": null,
      "outputs": [
        {
          "output_type": "stream",
          "text": [
            "WARNING:tensorflow:From <ipython-input-7-442703d91474>:4: BasicRNNCell.__init__ (from tensorflow.python.ops.rnn_cell_impl) is deprecated and will be removed in a future version.\n",
            "Instructions for updating:\n",
            "This class is equivalent as tf.keras.layers.SimpleRNNCell, and will be replaced by that in Tensorflow 2.0.\n"
          ],
          "name": "stdout"
        }
      ]
    },
    {
      "cell_type": "code",
      "metadata": {
        "id": "tSSnxeqKvjDC",
        "colab_type": "code",
        "colab": {
          "base_uri": "https://localhost:8080/",
          "height": 389
        },
        "outputId": "5f95ae88-77ff-4d97-9644-6253cb72c9af"
      },
      "source": [
        "x_split=tf.split(x_data,len(char_dic),0) #가로축으로 4개로 split,(4,4)->(1,4)\n",
        "print('x_split : ',x_split)\n",
        "outputs,state=tf.contrib.rnn.static_rnn(cell=rnn_cell,inputs=x_split,initial_state=initial_state)\n",
        "print('outputs : ',outputs)\n",
        "print('state : ',state)"
      ],
      "execution_count": null,
      "outputs": [
        {
          "output_type": "stream",
          "text": [
            "x_split :  [<tf.Tensor 'split:0' shape=(1, 4) dtype=float32>, <tf.Tensor 'split:1' shape=(1, 4) dtype=float32>, <tf.Tensor 'split:2' shape=(1, 4) dtype=float32>, <tf.Tensor 'split:3' shape=(1, 4) dtype=float32>]\n",
            "WARNING:tensorflow:\n",
            "The TensorFlow contrib module will not be included in TensorFlow 2.0.\n",
            "For more information, please see:\n",
            "  * https://github.com/tensorflow/community/blob/master/rfcs/20180907-contrib-sunset.md\n",
            "  * https://github.com/tensorflow/addons\n",
            "  * https://github.com/tensorflow/io (for I/O related ops)\n",
            "If you depend on functionality not listed there, please file an issue.\n",
            "\n",
            "WARNING:tensorflow:From <ipython-input-8-a552ad72e785>:3: static_rnn (from tensorflow.python.ops.rnn) is deprecated and will be removed in a future version.\n",
            "Instructions for updating:\n",
            "Please use `keras.layers.RNN(cell, unroll=True)`, which is equivalent to this API\n",
            "WARNING:tensorflow:From /tensorflow-1.15.2/python3.6/tensorflow_core/python/ops/rnn_cell_impl.py:456: Layer.add_variable (from tensorflow.python.keras.engine.base_layer) is deprecated and will be removed in a future version.\n",
            "Instructions for updating:\n",
            "Please use `layer.add_weight` method instead.\n",
            "WARNING:tensorflow:From /tensorflow-1.15.2/python3.6/tensorflow_core/python/ops/rnn_cell_impl.py:460: calling Zeros.__init__ (from tensorflow.python.ops.init_ops) with dtype is deprecated and will be removed in a future version.\n",
            "Instructions for updating:\n",
            "Call initializer instance with the dtype argument instead of passing it to the constructor\n",
            "outputs :  [<tf.Tensor 'rnn/basic_rnn_cell/Tanh:0' shape=(1, 4) dtype=float32>, <tf.Tensor 'rnn/basic_rnn_cell/Tanh_1:0' shape=(1, 4) dtype=float32>, <tf.Tensor 'rnn/basic_rnn_cell/Tanh_2:0' shape=(1, 4) dtype=float32>, <tf.Tensor 'rnn/basic_rnn_cell/Tanh_3:0' shape=(1, 4) dtype=float32>]\n",
            "state :  Tensor(\"rnn/basic_rnn_cell/Tanh_3:0\", shape=(1, 4), dtype=float32)\n"
          ],
          "name": "stdout"
        }
      ]
    },
    {
      "cell_type": "code",
      "metadata": {
        "id": "mzhC8AqfwuYN",
        "colab_type": "code",
        "colab": {
          "base_uri": "https://localhost:8080/",
          "height": 34
        },
        "outputId": "619dbdaf-9f8c-4c75-b946-ffdac55e9888"
      },
      "source": [
        "logits=tf.reshape(tf.concat(outputs,1),[-1,rnn_size]) #1X16->4X4\n",
        "logits.get_shape()"
      ],
      "execution_count": null,
      "outputs": [
        {
          "output_type": "execute_result",
          "data": {
            "text/plain": [
              "TensorShape([Dimension(4), Dimension(4)])"
            ]
          },
          "metadata": {
            "tags": []
          },
          "execution_count": 9
        }
      ]
    },
    {
      "cell_type": "code",
      "metadata": {
        "id": "say38grBw6OU",
        "colab_type": "code",
        "colab": {
          "base_uri": "https://localhost:8080/",
          "height": 34
        },
        "outputId": "50443f39-4ffc-4d48-e764-4ee4dd654113"
      },
      "source": [
        "targets=tf.reshape(ground_truth[1:],[-1])\n",
        "targets.get_shape()"
      ],
      "execution_count": null,
      "outputs": [
        {
          "output_type": "execute_result",
          "data": {
            "text/plain": [
              "TensorShape([Dimension(4)])"
            ]
          },
          "metadata": {
            "tags": []
          },
          "execution_count": 10
        }
      ]
    },
    {
      "cell_type": "code",
      "metadata": {
        "id": "X-_TuG8ZxJzW",
        "colab_type": "code",
        "colab": {
          "base_uri": "https://localhost:8080/",
          "height": 90
        },
        "outputId": "2cb71152-62dd-4733-f6f6-55beb20d3099"
      },
      "source": [
        "weights=tf.ones([len(char_dic)*batch_size])\n",
        "loss=tf.contrib.legacy_seq2seq.sequence_loss_by_example([logits],[targets],[weights]) #예측,실제,반영비율\n",
        "cost=tf.reduce_sum(loss)/batch_size\n",
        "train_op=tf.train.RMSPropOptimizer(0.01,0.9).minimize(cost)"
      ],
      "execution_count": null,
      "outputs": [
        {
          "output_type": "stream",
          "text": [
            "WARNING:tensorflow:From /tensorflow-1.15.2/python3.6/tensorflow_core/python/training/rmsprop.py:119: calling Ones.__init__ (from tensorflow.python.ops.init_ops) with dtype is deprecated and will be removed in a future version.\n",
            "Instructions for updating:\n",
            "Call initializer instance with the dtype argument instead of passing it to the constructor\n"
          ],
          "name": "stdout"
        }
      ]
    },
    {
      "cell_type": "code",
      "metadata": {
        "id": "4g9koyh1xjXT",
        "colab_type": "code",
        "colab": {
          "base_uri": "https://localhost:8080/",
          "height": 1000
        },
        "outputId": "66ed440c-a33f-4f5e-93ae-2f7405be587c"
      },
      "source": [
        "init=tf.global_variables_initializer()\n",
        "sess=tf.Session()\n",
        "sess.run(init)\n",
        "for i in range(100):\n",
        "  sess.run(train_op,)\n",
        "  result=sess.run(tf.argmax(logits,axis=1))\n",
        "  print(result,[char_rdic[t] for t in result])"
      ],
      "execution_count": null,
      "outputs": [
        {
          "output_type": "stream",
          "text": [
            "[0 3 0 3] ['h', 'o', 'h', 'o']\n",
            "[0 3 0 3] ['h', 'o', 'h', 'o']\n",
            "[0 3 0 3] ['h', 'o', 'h', 'o']\n",
            "[0 3 0 3] ['h', 'o', 'h', 'o']\n",
            "[0 3 0 3] ['h', 'o', 'h', 'o']\n",
            "[0 3 0 3] ['h', 'o', 'h', 'o']\n",
            "[0 3 0 3] ['h', 'o', 'h', 'o']\n",
            "[0 3 0 3] ['h', 'o', 'h', 'o']\n",
            "[0 3 0 3] ['h', 'o', 'h', 'o']\n",
            "[0 3 0 3] ['h', 'o', 'h', 'o']\n",
            "[0 3 0 3] ['h', 'o', 'h', 'o']\n",
            "[0 3 0 3] ['h', 'o', 'h', 'o']\n",
            "[0 3 0 3] ['h', 'o', 'h', 'o']\n",
            "[0 2 0 3] ['h', 'l', 'h', 'o']\n",
            "[0 2 0 3] ['h', 'l', 'h', 'o']\n",
            "[0 2 0 3] ['h', 'l', 'h', 'o']\n",
            "[0 2 0 3] ['h', 'l', 'h', 'o']\n",
            "[0 2 0 3] ['h', 'l', 'h', 'o']\n",
            "[0 2 0 3] ['h', 'l', 'h', 'o']\n",
            "[0 2 3 3] ['h', 'l', 'o', 'o']\n",
            "[0 2 3 3] ['h', 'l', 'o', 'o']\n",
            "[0 2 3 3] ['h', 'l', 'o', 'o']\n",
            "[2 2 3 3] ['l', 'l', 'o', 'o']\n",
            "[2 2 3 3] ['l', 'l', 'o', 'o']\n",
            "[2 2 3 3] ['l', 'l', 'o', 'o']\n",
            "[2 2 3 3] ['l', 'l', 'o', 'o']\n",
            "[2 2 3 3] ['l', 'l', 'o', 'o']\n",
            "[2 2 3 3] ['l', 'l', 'o', 'o']\n",
            "[2 2 3 3] ['l', 'l', 'o', 'o']\n",
            "[2 2 3 3] ['l', 'l', 'o', 'o']\n",
            "[2 2 3 3] ['l', 'l', 'o', 'o']\n",
            "[2 2 3 3] ['l', 'l', 'o', 'o']\n",
            "[2 2 3 3] ['l', 'l', 'o', 'o']\n",
            "[2 2 3 3] ['l', 'l', 'o', 'o']\n",
            "[2 2 3 3] ['l', 'l', 'o', 'o']\n",
            "[2 2 3 3] ['l', 'l', 'o', 'o']\n",
            "[2 2 3 3] ['l', 'l', 'o', 'o']\n",
            "[2 2 3 3] ['l', 'l', 'o', 'o']\n",
            "[2 2 3 3] ['l', 'l', 'o', 'o']\n",
            "[2 2 3 3] ['l', 'l', 'o', 'o']\n",
            "[2 2 3 3] ['l', 'l', 'o', 'o']\n",
            "[2 2 2 3] ['l', 'l', 'l', 'o']\n",
            "[2 2 2 3] ['l', 'l', 'l', 'o']\n",
            "[2 2 2 3] ['l', 'l', 'l', 'o']\n",
            "[2 2 2 3] ['l', 'l', 'l', 'o']\n",
            "[2 2 2 3] ['l', 'l', 'l', 'o']\n",
            "[2 2 2 3] ['l', 'l', 'l', 'o']\n",
            "[2 2 2 3] ['l', 'l', 'l', 'o']\n",
            "[2 2 2 3] ['l', 'l', 'l', 'o']\n",
            "[2 2 2 3] ['l', 'l', 'l', 'o']\n",
            "[2 2 2 3] ['l', 'l', 'l', 'o']\n",
            "[2 2 2 3] ['l', 'l', 'l', 'o']\n",
            "[2 2 2 3] ['l', 'l', 'l', 'o']\n",
            "[2 2 2 3] ['l', 'l', 'l', 'o']\n",
            "[2 2 2 3] ['l', 'l', 'l', 'o']\n",
            "[2 2 2 3] ['l', 'l', 'l', 'o']\n",
            "[2 2 2 3] ['l', 'l', 'l', 'o']\n",
            "[1 2 2 3] ['e', 'l', 'l', 'o']\n",
            "[1 2 2 3] ['e', 'l', 'l', 'o']\n",
            "[1 2 2 3] ['e', 'l', 'l', 'o']\n",
            "[1 2 2 3] ['e', 'l', 'l', 'o']\n",
            "[1 2 2 3] ['e', 'l', 'l', 'o']\n",
            "[1 2 2 3] ['e', 'l', 'l', 'o']\n",
            "[1 2 2 3] ['e', 'l', 'l', 'o']\n",
            "[1 2 2 3] ['e', 'l', 'l', 'o']\n",
            "[1 2 2 3] ['e', 'l', 'l', 'o']\n",
            "[1 2 2 3] ['e', 'l', 'l', 'o']\n",
            "[1 2 2 3] ['e', 'l', 'l', 'o']\n",
            "[1 2 2 3] ['e', 'l', 'l', 'o']\n",
            "[1 2 2 3] ['e', 'l', 'l', 'o']\n",
            "[1 2 2 3] ['e', 'l', 'l', 'o']\n",
            "[1 2 2 3] ['e', 'l', 'l', 'o']\n",
            "[1 2 2 3] ['e', 'l', 'l', 'o']\n",
            "[1 2 2 3] ['e', 'l', 'l', 'o']\n",
            "[1 2 2 3] ['e', 'l', 'l', 'o']\n",
            "[1 2 2 3] ['e', 'l', 'l', 'o']\n",
            "[1 2 2 3] ['e', 'l', 'l', 'o']\n",
            "[1 2 2 3] ['e', 'l', 'l', 'o']\n",
            "[1 2 2 3] ['e', 'l', 'l', 'o']\n",
            "[1 2 2 3] ['e', 'l', 'l', 'o']\n",
            "[1 2 2 3] ['e', 'l', 'l', 'o']\n",
            "[1 2 2 3] ['e', 'l', 'l', 'o']\n",
            "[1 2 2 3] ['e', 'l', 'l', 'o']\n",
            "[1 2 2 3] ['e', 'l', 'l', 'o']\n",
            "[1 2 2 3] ['e', 'l', 'l', 'o']\n",
            "[1 2 2 3] ['e', 'l', 'l', 'o']\n",
            "[1 2 2 3] ['e', 'l', 'l', 'o']\n",
            "[1 2 2 3] ['e', 'l', 'l', 'o']\n",
            "[1 2 2 3] ['e', 'l', 'l', 'o']\n",
            "[1 2 2 3] ['e', 'l', 'l', 'o']\n",
            "[1 2 2 3] ['e', 'l', 'l', 'o']\n",
            "[1 2 2 3] ['e', 'l', 'l', 'o']\n",
            "[1 2 2 3] ['e', 'l', 'l', 'o']\n",
            "[1 2 2 3] ['e', 'l', 'l', 'o']\n",
            "[1 2 2 3] ['e', 'l', 'l', 'o']\n",
            "[1 2 2 3] ['e', 'l', 'l', 'o']\n",
            "[1 2 2 3] ['e', 'l', 'l', 'o']\n",
            "[1 2 2 3] ['e', 'l', 'l', 'o']\n",
            "[1 2 2 3] ['e', 'l', 'l', 'o']\n",
            "[1 2 2 3] ['e', 'l', 'l', 'o']\n"
          ],
          "name": "stdout"
        }
      ]
    },
    {
      "cell_type": "code",
      "metadata": {
        "id": "UsnUDnRrylee",
        "colab_type": "code",
        "colab": {}
      },
      "source": [
        ""
      ],
      "execution_count": null,
      "outputs": []
    }
  ]
}
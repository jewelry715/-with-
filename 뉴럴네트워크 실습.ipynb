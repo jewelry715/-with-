{
 "cells": [
  {
   "cell_type": "code",
   "execution_count": 1,
   "metadata": {},
   "outputs": [],
   "source": [
    "import matplotlib.pyplot as plt\n",
    "import tensorflow as tf\n",
    "import numpy as np"
   ]
  },
  {
   "cell_type": "code",
   "execution_count": 10,
   "metadata": {},
   "outputs": [],
   "source": [
    "def shuffle_data(x_train,y_train):\n",
    "    temp_index=np.arange(len(x_train))\n",
    "    \n",
    "    np.random.shuffle(temp_index)\n",
    "    x_temp=np.zeros(x_train.shape)\n",
    "    y_temp=np.zeros(y_train.shape)\n",
    "    x_temp=x_train[temp_index]\n",
    "    y_temp=y_train[temp_index]\n",
    "    return x_temp,y_temp"
   ]
  },
  {
   "cell_type": "code",
   "execution_count": 4,
   "metadata": {},
   "outputs": [
    {
     "name": "stderr",
     "output_type": "stream",
     "text": [
      "No handles with labels found to put in legend.\n"
     ]
    },
    {
     "data": {
      "image/png": "[encoded data removed]",
      "text/plain": [
       "<Figure size 432x288 with 1 Axes>"
      ]
     },
     "metadata": {
      "needs_background": "light"
     },
     "output_type": "display_data"
    }
   ],
   "source": [
    "num_points=5000\n",
    "vectors_set=[]\n",
    "for i in range(num_points):\n",
    "    x1=np.random.normal(.0,1.0)\n",
    "    y1=np.sin(x1)+np.random.normal(0.,0.1)\n",
    "    vectors_set.append([x1,y1])\n",
    "\n",
    "x_data=[v[0] for v in vectors_set]\n",
    "y_data=[v[1] for v in vectors_set]\n",
    "\n",
    "plt.plot(x_data,y_data,'go')\n",
    "plt.legend()\n",
    "plt.show()"
   ]
  },
  {
   "cell_type": "code",
   "execution_count": 5,
   "metadata": {},
   "outputs": [],
   "source": [
    "batch_size=100\n",
    "batch_num=int(len(x_data)/batch_size)\n",
    "x_data=np.reshape(x_data,[len(x_data),1])\n",
    "y_data=np.reshape(y_data,[len(y_data),1])\n",
    "input_data=tf.placeholder(tf.float32,shape=[None,1])\n",
    "output_data=tf.placeholder(tf.float32,shape=[None,1])"
   ]
  },
  {
   "cell_type": "code",
   "execution_count": 7,
   "metadata": {},
   "outputs": [],
   "source": [
    "W1=tf.Variable(tf.random_uniform([1,5],-1.0,1.0))\n",
    "W2=tf.Variable(tf.random_uniform([5,3],-1.0,1.0))\n",
    "W_out=tf.Variable(tf.random_uniform([3,1],-1.0,1.0))\n",
    "hidden1=tf.nn.sigmoid(tf.matmul(input_data,W1))\n",
    "hidden2=tf.nn.sigmoid(tf.matmul(hidden1,W2))\n",
    "output=tf.matmul(hidden2,W_out)"
   ]
  },
  {
   "cell_type": "code",
   "execution_count": 8,
   "metadata": {},
   "outputs": [],
   "source": [
    "loss=tf.reduce_mean(tf.square(output-output_data))\n",
    "optimizer=tf.train.AdamOptimizer(0.01)\n",
    "train=optimizer.minimize(loss)\n",
    "init=tf.global_variables_initializer()\n",
    "sess=tf.Session()\n",
    "sess.run(init)"
   ]
  },
  {
   "cell_type": "code",
   "execution_count": 15,
   "metadata": {},
   "outputs": [
    {
     "name": "stdout",
     "output_type": "stream",
     "text": [
      "step=    0, Loss value = 0.017176\n",
      "step=   10, Loss value = 0.011897\n",
      "step=   20, Loss value = 0.016628\n",
      "step=   30, Loss value = 0.025812\n",
      "step=   40, Loss value = 0.011876\n",
      "step=   50, Loss value = 0.014065\n",
      "step=   60, Loss value = 0.016366\n",
      "step=   70, Loss value = 0.016426\n",
      "step=   80, Loss value = 0.015217\n",
      "step=   90, Loss value = 0.012279\n",
      "step=  100, Loss value = 0.012582\n",
      "step=  200, Loss value = 0.015445\n",
      "step=  300, Loss value = 0.039488\n",
      "step=  400, Loss value = 0.013429\n",
      "step=  500, Loss value = 0.008793\n",
      "step=  600, Loss value = 0.016384\n",
      "step=  700, Loss value = 0.023849\n",
      "step=  800, Loss value = 0.014850\n",
      "step=  900, Loss value = 0.020720\n",
      "step= 1000, Loss value = 0.019435\n",
      "step= 1100, Loss value = 0.023589\n",
      "step= 1200, Loss value = 0.011593\n",
      "step= 1300, Loss value = 0.024278\n",
      "step= 1400, Loss value = 0.012344\n",
      "step= 1500, Loss value = 0.015183\n",
      "step= 1600, Loss value = 0.011601\n",
      "step= 1700, Loss value = 0.014323\n",
      "step= 1800, Loss value = 0.018208\n",
      "step= 1900, Loss value = 0.011814\n",
      "step= 2000, Loss value = 0.013597\n",
      "step= 2100, Loss value = 0.010902\n",
      "step= 2200, Loss value = 0.023596\n",
      "step= 2300, Loss value = 0.016703\n",
      "step= 2400, Loss value = 0.025414\n",
      "step= 2500, Loss value = 0.023242\n",
      "step= 2600, Loss value = 0.015841\n",
      "step= 2700, Loss value = 0.010605\n",
      "step= 2800, Loss value = 0.015423\n",
      "step= 2900, Loss value = 0.013011\n",
      "step= 3000, Loss value = 0.016835\n",
      "step= 3100, Loss value = 0.008376\n",
      "step= 3200, Loss value = 0.015243\n",
      "step= 3300, Loss value = 0.041533\n",
      "step= 3400, Loss value = 0.016560\n",
      "step= 3500, Loss value = 0.013582\n",
      "step= 3600, Loss value = 0.014608\n",
      "step= 3700, Loss value = 0.009907\n",
      "step= 3800, Loss value = 0.015155\n",
      "step= 3900, Loss value = 0.037040\n",
      "step= 4000, Loss value = 0.042277\n",
      "step= 4100, Loss value = 0.015500\n",
      "step= 4200, Loss value = 0.017638\n",
      "step= 4300, Loss value = 0.010629\n",
      "step= 4400, Loss value = 0.024271\n",
      "step= 4500, Loss value = 0.021190\n",
      "step= 4600, Loss value = 0.012284\n",
      "step= 4700, Loss value = 0.015318\n",
      "step= 4800, Loss value = 0.020656\n",
      "step= 4900, Loss value = 0.024766\n",
      "step= 5000, Loss value = 0.013589\n"
     ]
    }
   ],
   "source": [
    "for step in range(5001):\n",
    "    index=0\n",
    "    x_data,y_data=shuffle_data(x_data,y_data)\n",
    "    for batch_iter in range(batch_num-1):\n",
    "        feed_dict={input_data:x_data[index:index+batch_size],\n",
    "                  output_data:y_data[index:index+batch_size]}\n",
    "        sess.run(train,feed_dict=feed_dict)\n",
    "        index += batch_size\n",
    "    if (step%100==0 or (step<100 and step%10==0)):\n",
    "        print('step=%5d, Loss value = %f'%\n",
    "             (step,sess.run(loss,feed_dict=feed_dict)))"
   ]
  },
  {
   "cell_type": "code",
   "execution_count": 21,
   "metadata": {},
   "outputs": [
    {
     "name": "stderr",
     "output_type": "stream",
     "text": [
      "No handles with labels found to put in legend.\n"
     ]
    },
    {
     "data": {
      "image/png": "[encoded data removed]",
      "text/plain": [
       "<Figure size 432x288 with 1 Axes>"
      ]
     },
     "metadata": {
      "needs_background": "light"
     },
     "output_type": "display_data"
    }
   ],
   "source": [
    "feed_dict={input_data:x_data}\n",
    "plt.plot(x_data,y_data,'go')\n",
    "plt.plot(x_data,sess.run(output,feed_dict=feed_dict), 'k*')\n",
    "plt.xlabel('x')\n",
    "plt.xlim(-4,3)\n",
    "plt.ylabel('y')\n",
    "plt.ylim(-1.5,1.5)\n",
    "plt.legend()\n",
    "plt.show()"
   ]
  }
 ],
 "metadata": {
  "kernelspec": {
   "display_name": "Python 3",
   "language": "python",
   "name": "python3"
  },
  "language_info": {
   "codemirror_mode": {
    "name": "ipython",
    "version": 3
   },
   "file_extension": ".py",
   "mimetype": "text/x-python",
   "name": "python",
   "nbconvert_exporter": "python",
   "pygments_lexer": "ipython3",
   "version": "3.7.3"
  }
 },
 "nbformat": 4,
 "nbformat_minor": 2
}

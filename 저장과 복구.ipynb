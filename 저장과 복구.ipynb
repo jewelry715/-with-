{
 "cells": [
  {
   "cell_type": "markdown",
   "metadata": {},
   "source": [
    "## 변수를 파일로 저장하기"
   ]
  },
  {
   "cell_type": "code",
   "execution_count": 1,
   "metadata": {},
   "outputs": [],
   "source": [
    "import tensorflow as tf"
   ]
  },
  {
   "cell_type": "code",
   "execution_count": 2,
   "metadata": {},
   "outputs": [],
   "source": [
    "b1=tf.Variable(2.0,name='bias')\n",
    "init=tf.global_variables_initializer()"
   ]
  },
  {
   "cell_type": "code",
   "execution_count": 3,
   "metadata": {},
   "outputs": [],
   "source": [
    "saver=tf.train.Saver()"
   ]
  },
  {
   "cell_type": "code",
   "execution_count": 4,
   "metadata": {},
   "outputs": [],
   "source": [
    "sess=tf.Session()\n",
    "sess.run(init)"
   ]
  },
  {
   "cell_type": "code",
   "execution_count": 5,
   "metadata": {},
   "outputs": [
    {
     "name": "stdout",
     "output_type": "stream",
     "text": [
      "save test bias 2.0\n"
     ]
    }
   ],
   "source": [
    "print('save test bias',sess.run(b1))"
   ]
  },
  {
   "cell_type": "code",
   "execution_count": 7,
   "metadata": {},
   "outputs": [
    {
     "name": "stdout",
     "output_type": "stream",
     "text": [
      "Model saved in file: ./saver_bias/bias.ckpt\n"
     ]
    }
   ],
   "source": [
    "save_path=saver.save(sess,'./saver_bias/bias.ckpt')\n",
    "print('Model saved in file: %s' % save_path)"
   ]
  },
  {
   "cell_type": "markdown",
   "metadata": {},
   "source": [
    "## 파일에서 변수 읽어오기"
   ]
  },
  {
   "cell_type": "code",
   "execution_count": 1,
   "metadata": {},
   "outputs": [],
   "source": [
    "import tensorflow as tf"
   ]
  },
  {
   "cell_type": "code",
   "execution_count": 2,
   "metadata": {},
   "outputs": [],
   "source": [
    "b1=tf.Variable(0.0,name='bias')\n",
    "saver=tf.train.Saver()\n",
    "sess=tf.Session() #세션준비,init을 하지 않음\n",
    "ckpt=tf.train.get_checkpoint_state('./saver_bias/')"
   ]
  },
  {
   "cell_type": "code",
   "execution_count": 3,
   "metadata": {},
   "outputs": [
    {
     "name": "stdout",
     "output_type": "stream",
     "text": [
      "WARNING:tensorflow:From <ipython-input-3-4b2e616f767a>:1: checkpoint_exists (from tensorflow.python.training.checkpoint_management) is deprecated and will be removed in a future version.\n",
      "Instructions for updating:\n",
      "Use standard file APIs to check for files with this prefix.\n",
      "INFO:tensorflow:Restoring parameters from ./saver_bias/bias.ckpt\n",
      "variable is restored\n",
      "bias: 2.0\n"
     ]
    }
   ],
   "source": [
    "if tf.train.checkpoint_exists(ckpt.model_checkpoint_path):\n",
    "    saver.restore(sess,ckpt.model_checkpoint_path)\n",
    "    print('variable is restored')\n",
    "\n",
    "print('bias:',sess.run(b1))"
   ]
  },
  {
   "cell_type": "code",
   "execution_count": 1,
   "metadata": {},
   "outputs": [],
   "source": [
    "import tensorflow as tf\n",
    "import numpy as np\n",
    "import matplotlib.pyplot as plt\n",
    "\n",
    "def shuffle_data(x_train,y_train):\n",
    "    temp_index=np.arange(len(x_train))\n",
    "    np.random.shuffle(temp_index)\n",
    "    \n",
    "    x_temp=np.zeros(x_train.shape)\n",
    "    y_temp=np.zeros(y_train.shape)\n",
    "    x_temp=x_train[temp_index]\n",
    "    y_temp=y_train[temp_index]\n",
    "    \n",
    "    return x_temp,y_temp"
   ]
  },
  {
   "cell_type": "code",
   "execution_count": 4,
   "metadata": {},
   "outputs": [
    {
     "name": "stderr",
     "output_type": "stream",
     "text": [
      "No handles with labels found to put in legend.\n"
     ]
    },
    {
     "data": {
      "image/png": "[encoded data removed]",
      "text/plain": [
       "<Figure size 432x288 with 1 Axes>"
      ]
     },
     "metadata": {
      "needs_background": "light"
     },
     "output_type": "display_data"
    },
    {
     "name": "stdout",
     "output_type": "stream",
     "text": [
      "failed to restore. init graph\n"
     ]
    },
    {
     "name": "stderr",
     "output_type": "stream",
     "text": [
      "No handles with labels found to put in legend.\n"
     ]
    },
    {
     "name": "stdout",
     "output_type": "stream",
     "text": [
      "step= 5000, Loss value=0.008447\n",
      "Model saved in file: /tmp/nn_sin_model.ckpt-5000\n"
     ]
    },
    {
     "data": {
      "image/png": "[encoded data removed]",
      "text/plain": [
       "<Figure size 432x288 with 1 Axes>"
      ]
     },
     "metadata": {
      "needs_background": "light"
     },
     "output_type": "display_data"
    }
   ],
   "source": [
    "def main():\n",
    "    num_points=5000\n",
    "    vector_set=[]\n",
    "    for i in range(num_points):\n",
    "        x1=np.random.normal(.0,1.0)\n",
    "        y1=np.sin(x1)+np.random.normal(0,0.1)\n",
    "        vector_set.append([x1,y1])\n",
    "        \n",
    "    x_data=[v[0] for v in vector_set]\n",
    "    y_data=[v[1] for v in vector_set]\n",
    "    \n",
    "    plt.plot(x_data,y_data,'go')\n",
    "    plt.legend()\n",
    "    plt.show()\n",
    "    \n",
    "    batch_size=100\n",
    "    batch_num=int(len(x_data)/batch_size)\n",
    "    \n",
    "    x_data=np.reshape(x_data,[len(x_data),1])\n",
    "    y_data=np.reshape(y_data,[len(y_data),1])\n",
    "    \n",
    "    input_data=tf.placeholder(tf.float32,shape=[None,1])\n",
    "    output_data=tf.placeholder(tf.float32,shape=[None,1])\n",
    "    \n",
    "    W1=tf.Variable(tf.random_uniform([1,5],-1.0,1.0),name='w1')\n",
    "    W2=tf.Variable(tf.random_uniform([5,3],-1.0,1.0),name='w2')\n",
    "    W_out=tf.Variable(tf.random_uniform([3,1],-1.0,1.0),name='wo')\n",
    "    \n",
    "    hidden1=tf.nn.sigmoid(tf.matmul(input_data,W1))\n",
    "    hidden2=tf.nn.sigmoid(tf.matmul(hidden1,W2))    \n",
    "    output=tf.matmul(hidden2,W_out,name='output')\n",
    "    \n",
    "    loss=tf.reduce_mean(tf.square(output-output_data))\n",
    "    optimizer=tf.train.AdamOptimizer(0.01)\n",
    "    train=optimizer.minimize(loss)\n",
    "    \n",
    "    init=tf.global_variables_initializer()\n",
    "    saver=tf.train.Saver() #모든 변수의 저장과 복구를 위한 오퍼레이션 추가\n",
    "    sess=tf.Session()\n",
    "    \n",
    "    ckpt=tf.train.get_checkpoint_state('/tmp')\n",
    "    if(ckpt!=None) and tf.train.checkpoint_state(ckpt.model_checkpoint_path):\n",
    "        saver.restore(sess,ckpt.model_checkpoint_path)\n",
    "        print('variable is restored')\n",
    "    else:\n",
    "        print('failed to restore. init graph')\n",
    "        sess.run(init)\n",
    "    \n",
    "    for step in range(5001):\n",
    "        index=0\n",
    "        x_data,y_data=shuffle_data(x_data,y_data)\n",
    "        for batch_iter in range(batch_num-1):\n",
    "            feed_dict={input_data:x_data[index:index+batch_size],\n",
    "                      output_data:y_data[index:index+batch_size]}\n",
    "            sess.run(train,feed_dict=feed_dict)\n",
    "            index +=batch_size\n",
    "            \n",
    "        #100회까지는 10마다 1번,나머지는 100번에 1번\n",
    "    if (step%100==0 or (step<100 and step%10==0)):\n",
    "        print('step=%5d, Loss value=%f'%(step,sess.run(loss,feed_dict=feed_dict)))\n",
    "    \n",
    "        save_path=saver.save(sess,'/tmp/nn_sin_model.ckpt',global_step=step)\n",
    "        print('Model saved in file: %s' %save_path)\n",
    "        \n",
    "    feed_dict={input_data:x_data}\n",
    "    \n",
    "    plt.plot(x_data,y_data,'go')\n",
    "    \n",
    "    plt.plot(x_data,sess.run(output,feed_dict=feed_dict), 'k*')\n",
    "    plt.xlabel('x')\n",
    "    plt.xlim(-4,3)\n",
    "    plt.ylabel('y')\n",
    "    plt.ylim(-1.5,1.5)\n",
    "    plt.legend()\n",
    "    plt.show()\n",
    "    \n",
    "if __name__=='__main__':\n",
    "    main()"
   ]
  },
  {
   "cell_type": "code",
   "execution_count": null,
   "metadata": {},
   "outputs": [],
   "source": []
  }
 ],
 "metadata": {
  "kernelspec": {
   "display_name": "Python 3",
   "language": "python",
   "name": "python3"
  }
 },
 "nbformat": 4,
 "nbformat_minor": 2
}

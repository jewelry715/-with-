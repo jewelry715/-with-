{
 "cells": [
  {
   "cell_type": "code",
   "execution_count": 1,
   "metadata": {},
   "outputs": [
    {
     "name": "stdout",
     "output_type": "stream",
     "text": [
      "도도새\n"
     ]
    }
   ],
   "source": [
    "import random\n",
    "animals=['채셔고양이','오리','도도새']\n",
    "print(random.choice(animals))"
   ]
  },
  {
   "cell_type": "code",
   "execution_count": 3,
   "metadata": {},
   "outputs": [
    {
     "name": "stdout",
     "output_type": "stream",
     "text": [
      "['채셔고양이', '오리']\n"
     ]
    }
   ],
   "source": [
    "print(random.sample(animals,2)) #랜덤으로 2개 뽑기"
   ]
  },
  {
   "cell_type": "code",
   "execution_count": 4,
   "metadata": {},
   "outputs": [
    {
     "data": {
      "text/plain": [
       "9"
      ]
     },
     "execution_count": 4,
     "metadata": {},
     "output_type": "execute_result"
    }
   ],
   "source": [
    "random.randint(5,10) #5부터 10까지 하나를 고름"
   ]
  },
  {
   "cell_type": "code",
   "execution_count": 5,
   "metadata": {},
   "outputs": [
    {
     "name": "stdout",
     "output_type": "stream",
     "text": [
      "스페이드 유죄!\n"
     ]
    }
   ],
   "source": [
    "cards=['하트','클로버','스페이드']\n",
    "chosen_card=random.choice(cards)\n",
    "print(chosen_card,'유죄!')"
   ]
  },
  {
   "cell_type": "code",
   "execution_count": 8,
   "metadata": {},
   "outputs": [
    {
     "name": "stdout",
     "output_type": "stream",
     "text": [
      "이상한 나라에 오신 것을 환영합니다\n"
     ]
    }
   ],
   "source": [
    "def welcome():\n",
    "    print('이상한 나라에 오신 것을 환영합니다')\n",
    "    \n",
    "welcome()"
   ]
  },
  {
   "cell_type": "code",
   "execution_count": 9,
   "metadata": {},
   "outputs": [
    {
     "name": "stdout",
     "output_type": "stream",
     "text": [
      "앨리스 님 이상한 나라에 오신 것을 환영합니다\n",
      "도도새 님 이상한 나라에 오신 것을 환영합니다\n"
     ]
    }
   ],
   "source": [
    "def welcome(name):\n",
    "    print(name,'님 이상한 나라에 오신 것을 환영합니다')\n",
    "    \n",
    "welcome('앨리스')\n",
    "welcome('도도새')"
   ]
  },
  {
   "cell_type": "code",
   "execution_count": 11,
   "metadata": {},
   "outputs": [
    {
     "name": "stdout",
     "output_type": "stream",
     "text": [
      "***\n",
      "**\n",
      "*\n"
     ]
    }
   ],
   "source": [
    "def draw_stars(number):\n",
    "    print('*'*number)\n",
    "    \n",
    "draw_stars(3)\n",
    "draw_stars(2)\n",
    "draw_stars(1)"
   ]
  },
  {
   "cell_type": "code",
   "execution_count": 12,
   "metadata": {},
   "outputs": [
    {
     "name": "stdout",
     "output_type": "stream",
     "text": [
      "빨주노초파남보\n"
     ]
    }
   ],
   "source": [
    "def concat(a,b):\n",
    "    return a+b\n",
    "    \n",
    "print(concat('빨주노초','파남보'))"
   ]
  },
  {
   "cell_type": "code",
   "execution_count": 14,
   "metadata": {},
   "outputs": [
    {
     "data": {
      "text/plain": [
       "(3, 2.0)"
      ]
     },
     "execution_count": 14,
     "metadata": {},
     "output_type": "execute_result"
    }
   ],
   "source": [
    "def sub_div(a,b):\n",
    "    return a-b,a/b\n",
    "\n",
    "sub_div(6,3)"
   ]
  },
  {
   "cell_type": "code",
   "execution_count": 17,
   "metadata": {
    "scrolled": true
   },
   "outputs": [
    {
     "name": "stdout",
     "output_type": "stream",
     "text": [
      "하트 1 유죄!\n",
      "하트 2 유죄!\n",
      "클로버 1 유죄!\n",
      "클로버 2 유죄!\n",
      "클로버 3 유죄!\n"
     ]
    }
   ],
   "source": [
    "def judge_cards(a,b):\n",
    "    for i in range(b):\n",
    "        print(a, i+1,'유죄!')\n",
    "        \n",
    "judge_cards('하트',2)\n",
    "judge_cards('클로버',3)"
   ]
  },
  {
   "cell_type": "code",
   "execution_count": 19,
   "metadata": {},
   "outputs": [
    {
     "name": "stdout",
     "output_type": "stream",
     "text": [
      "클로버3\n"
     ]
    }
   ],
   "source": [
    "clovers=['클로버1','클로버2','클로버3']\n",
    "print(random.choice(clovers))"
   ]
  },
  {
   "cell_type": "code",
   "execution_count": 20,
   "metadata": {},
   "outputs": [
    {
     "name": "stdout",
     "output_type": "stream",
     "text": [
      "['클로버2', '클로버1']\n"
     ]
    }
   ],
   "source": [
    "print(random.sample(clovers,2))"
   ]
  },
  {
   "cell_type": "code",
   "execution_count": 22,
   "metadata": {},
   "outputs": [
    {
     "name": "stdout",
     "output_type": "stream",
     "text": [
      "1\n",
      "2\n",
      "2\n",
      "1\n"
     ]
    }
   ],
   "source": [
    "print(random.choice([1,2,3]))\n",
    "print(random.choice(range(1,4)))\n",
    "print(random.randint(1,3))\n",
    "print(random.randint(1,4))"
   ]
  },
  {
   "cell_type": "code",
   "execution_count": 23,
   "metadata": {},
   "outputs": [
    {
     "name": "stdout",
     "output_type": "stream",
     "text": [
      "당신의 인디언식 이름은 시끄러운황소의 혼 입니다.\n"
     ]
    }
   ],
   "source": [
    "birth_year=['시끄러운','푸른','적색','조용한','웅크린','백색',\n",
    "           '지혜로운','용감한','날카로운','욕심많은']\n",
    "birth_month=['늑대','태양','양','매','황소','불꽃','나무','달빛',\n",
    "            '알','돼지','하늘','바람']\n",
    "birth_date=['와(과) 함께 춤을','의 기상','은(는) 그림자 속에',\n",
    "           '','','','의 환생','의 죽음','아래에서','을(를) 보라',\n",
    "           '이(가) 노래하다','그림자','의 일격','에게 쫓기는 남자',\n",
    "           '의 행진','의 왕','의 유령','을(를) 죽인자','은(는) 맨날 잠잔다',\n",
    "           '처럼','의 고향','의 전사','은(는) 나의 친구','의 노래','의 정령',\n",
    "           '의 파수꾼','의 악마','와(과) 같은 사나이','을(를) 쓰러뜨린자',\n",
    "           '의 혼','은(는) 말이없다']\n",
    "\n",
    "random_name=random.choice(birth_year)+random.choice(birth_month)+random.choice(birth_date)\n",
    "print('당신의 인디언식 이름은',random_name,'입니다.')"
   ]
  },
  {
   "cell_type": "code",
   "execution_count": null,
   "metadata": {},
   "outputs": [],
   "source": []
  },
  {
   "cell_type": "code",
   "execution_count": null,
   "metadata": {},
   "outputs": [],
   "source": []
  }
 ],
 "metadata": {
  "kernelspec": {
   "display_name": "Python 3",
   "language": "python",
   "name": "python3"
  },
  "language_info": {
   "codemirror_mode": {
    "name": "ipython",
    "version": 3
   },
   "file_extension": ".py",
   "mimetype": "text/x-python",
   "name": "python",
   "nbconvert_exporter": "python",
   "pygments_lexer": "ipython3",
   "version": "3.7.3"
  }
 },
 "nbformat": 4,
 "nbformat_minor": 2
}

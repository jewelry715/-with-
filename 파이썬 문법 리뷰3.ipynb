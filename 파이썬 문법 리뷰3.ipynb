{
 "cells": [
  {
   "cell_type": "code",
   "execution_count": 5,
   "metadata": {},
   "outputs": [
    {
     "name": "stdout",
     "output_type": "stream",
     "text": [
      "불합격입니다.\n"
     ]
    }
   ],
   "source": [
    "score=60\n",
    "if score>80:\n",
    "    print('합격입니다')\n",
    "else:\n",
    "    print('불합격입니다.')"
   ]
  },
  {
   "cell_type": "code",
   "execution_count": 6,
   "metadata": {},
   "outputs": [
    {
     "name": "stdout",
     "output_type": "stream",
     "text": [
      "학점은 B입니다\n"
     ]
    }
   ],
   "source": [
    "score=75\n",
    "if 80 < score<=100:\n",
    "    print('학점은 A입니다')\n",
    "elif 60<score<=80:\n",
    "    print('학점은 B입니다')\n",
    "elif 40<score<=60:\n",
    "    print('학점은 C입니다')\n",
    "else:\n",
    "    print('학점은 F입니다')"
   ]
  },
  {
   "cell_type": "code",
   "execution_count": 7,
   "metadata": {},
   "outputs": [
    {
     "name": "stdout",
     "output_type": "stream",
     "text": [
      "총 입장료는 47000 원입니다.\n"
     ]
    }
   ],
   "source": [
    "total_price=0\n",
    "ages=[22,21,17,32,4,28,19,8]\n",
    "for age in ages:\n",
    "    if age>=20:\n",
    "        total_price=total_price+8000\n",
    "    elif age>=10:\n",
    "        total_price=total_price+5000\n",
    "    else:\n",
    "        total_price=total_price+2500\n",
    "print('총 입장료는',total_price,'원입니다.')"
   ]
  },
  {
   "cell_type": "code",
   "execution_count": 8,
   "metadata": {},
   "outputs": [
    {
     "name": "stdout",
     "output_type": "stream",
     "text": [
      "MVP로 선정되었습니다\n"
     ]
    }
   ],
   "source": [
    "games=12\n",
    "points=25\n",
    "if games>=10 and points>=20:\n",
    "    print('MVP로 선정되었습니다')"
   ]
  },
  {
   "cell_type": "code",
   "execution_count": 9,
   "metadata": {},
   "outputs": [
    {
     "name": "stdout",
     "output_type": "stream",
     "text": [
      "True\n",
      "False\n",
      "False\n",
      "False\n"
     ]
    }
   ],
   "source": [
    "print(True and True)\n",
    "print(True and False)\n",
    "print(False and True)\n",
    "print(False and False)"
   ]
  },
  {
   "cell_type": "code",
   "execution_count": 10,
   "metadata": {},
   "outputs": [
    {
     "name": "stdout",
     "output_type": "stream",
     "text": [
      "True\n",
      "True\n",
      "True\n",
      "False\n"
     ]
    }
   ],
   "source": [
    "print(True or True)\n",
    "print(True or False)\n",
    "print(False or True)\n",
    "print(False or False)"
   ]
  },
  {
   "cell_type": "code",
   "execution_count": 11,
   "metadata": {},
   "outputs": [
    {
     "name": "stdout",
     "output_type": "stream",
     "text": [
      "False\n",
      "True\n"
     ]
    }
   ],
   "source": [
    "print(not True)\n",
    "print(not False)"
   ]
  },
  {
   "cell_type": "code",
   "execution_count": null,
   "metadata": {},
   "outputs": [],
   "source": [
    "suspects=[['거위','새','암컷'],['푸들','개','수컷'],['비글','개','암컷']]\n",
    "for suspect in suspects:\n",
    "    if suspect[1]=='개' and suspect[2]=='암컷':\n",
    "        print('범인은 ',suspect[0],'입니다.')"
   ]
  },
  {
   "cell_type": "code",
   "execution_count": 13,
   "metadata": {},
   "outputs": [
    {
     "name": "stdout",
     "output_type": "stream",
     "text": [
      "False\n",
      "True\n"
     ]
    }
   ],
   "source": [
    "num1=55\n",
    "num2=13\n",
    "print(num1<=num2)\n",
    "print(num1!=num2)"
   ]
  },
  {
   "cell_type": "code",
   "execution_count": 14,
   "metadata": {},
   "outputs": [
    {
     "name": "stdout",
     "output_type": "stream",
     "text": [
      "False\n"
     ]
    }
   ],
   "source": [
    "MVP='하트잭'\n",
    "print(MVP=='공작부인')"
   ]
  },
  {
   "cell_type": "code",
   "execution_count": 15,
   "metadata": {},
   "outputs": [
    {
     "name": "stdout",
     "output_type": "stream",
     "text": [
      "조명이 켜졌어요\n"
     ]
    }
   ],
   "source": [
    "switch='켜짐'\n",
    "if switch=='켜짐':\n",
    "    print('조명이 켜졌어요')\n",
    "else:\n",
    "    print('조명이 꺼졌어요')"
   ]
  },
  {
   "cell_type": "code",
   "execution_count": 1,
   "metadata": {},
   "outputs": [
    {
     "name": "stdout",
     "output_type": "stream",
     "text": [
      "괜찮은 가격이네요.\n"
     ]
    }
   ],
   "source": [
    "price=10000\n",
    "if price > 10000:\n",
    "    print('너무 비싸요')\n",
    "    \n",
    "elif price > 5000:\n",
    "    print('괜찮은 가격이네요.')\n",
    "    \n",
    "else:\n",
    "    print('정말 싸요.')"
   ]
  },
  {
   "cell_type": "code",
   "execution_count": 2,
   "metadata": {},
   "outputs": [
    {
     "name": "stdout",
     "output_type": "stream",
     "text": [
      "False\n",
      "True\n",
      "False\n",
      "False\n"
     ]
    }
   ],
   "source": [
    "print(2>5)\n",
    "print(2!=5)\n",
    "print(False)\n",
    "print(2==5)"
   ]
  },
  {
   "cell_type": "code",
   "execution_count": 3,
   "metadata": {},
   "outputs": [
    {
     "name": "stdout",
     "output_type": "stream",
     "text": [
      "9\n"
     ]
    }
   ],
   "source": [
    "input_number=-9\n",
    "if input_number<=0:\n",
    "    absolute_value=input_number*-1\n",
    "else:\n",
    "    absolute_value=input_number\n",
    "print(absolute_value)"
   ]
  },
  {
   "cell_type": "code",
   "execution_count": 4,
   "metadata": {},
   "outputs": [
    {
     "name": "stdout",
     "output_type": "stream",
     "text": [
      "총 주문금액은 18500 원입니다\n"
     ]
    }
   ],
   "source": [
    "total_price=0\n",
    "choices=['버섯스프','당근주스','벌꿀파이']\n",
    "for choice in choices:\n",
    "    if choice=='버섯스프':\n",
    "        total_price=total_price+8000\n",
    "    elif choice=='당근주스':\n",
    "        total_price=total_price+4500\n",
    "    elif choice=='벌꿀파이':\n",
    "        total_price=total_price+6000\n",
    "print('총 주문금액은',total_price,'원입니다')"
   ]
  },
  {
   "cell_type": "code",
   "execution_count": 5,
   "metadata": {},
   "outputs": [
    {
     "name": "stdout",
     "output_type": "stream",
     "text": [
      "[1, 3, 5, 7, 9]\n"
     ]
    }
   ],
   "source": [
    "odd_nums=[]\n",
    "for num in range(10):\n",
    "    if num % 2==1:\n",
    "        odd_nums.append(num)\n",
    "print(odd_nums)"
   ]
  },
  {
   "cell_type": "code",
   "execution_count": 6,
   "metadata": {},
   "outputs": [
    {
     "name": "stdout",
     "output_type": "stream",
     "text": [
      "['클로버1', '클로버2', '클로버3']\n",
      "클로버1 안녕!!\n",
      "클로버2 반가워!\n",
      "클로버3 잘가!\n"
     ]
    }
   ],
   "source": [
    "clovers=['클로버1','클로버2','클로버3']\n",
    "print(clovers)\n",
    "for clover in clovers:\n",
    "    if clover=='클로버1':\n",
    "        print(clover,'안녕!!')\n",
    "    elif clover=='클로버2':\n",
    "        print(clover,'반가워!')\n",
    "    elif clover=='클로버3':\n",
    "        print(clover,'잘가!')\n",
    "    else:\n",
    "        print('넌 누구니?')"
   ]
  },
  {
   "cell_type": "code",
   "execution_count": 1,
   "metadata": {},
   "outputs": [
    {
     "name": "stdout",
     "output_type": "stream",
     "text": [
      "2016 년은 윤년입니다\n"
     ]
    }
   ],
   "source": [
    "year=2016\n",
    "if year % 400==0:\n",
    "    print(year,'년은 윤년입니다.')\n",
    "elif year % 100!=0 and year%4==0:\n",
    "    print(year,'년은 윤년입니다')\n",
    "else:\n",
    "    print(year,'년은 윤년이 아닙니다')"
   ]
  },
  {
   "cell_type": "code",
   "execution_count": 2,
   "metadata": {},
   "outputs": [
    {
     "name": "stdout",
     "output_type": "stream",
     "text": [
      "안녕 거북이 0\n",
      "안녕 거북이 1\n",
      "안녕 거북이 2\n"
     ]
    }
   ],
   "source": [
    "for num in range(3):\n",
    "    print('안녕 거북이',num)"
   ]
  },
  {
   "cell_type": "code",
   "execution_count": 3,
   "metadata": {},
   "outputs": [
    {
     "name": "stdout",
     "output_type": "stream",
     "text": [
      "안녕 거북이 0\n",
      "안녕 거북이 1\n",
      "안녕 거북이 2\n"
     ]
    }
   ],
   "source": [
    "num=0\n",
    "while num<3:\n",
    "    print('안녕 거북이',num)\n",
    "    num=num+1"
   ]
  },
  {
   "cell_type": "code",
   "execution_count": 4,
   "metadata": {},
   "outputs": [
    {
     "name": "stdout",
     "output_type": "stream",
     "text": [
      "1 번째 바퀴입니다\n",
      "2 번째 바퀴입니다\n",
      "3 번째 바퀴입니다\n",
      "4 번째 바퀴입니다\n",
      "5 번째 바퀴입니다\n",
      "경주 끝!\n"
     ]
    }
   ],
   "source": [
    "count=0\n",
    "while count<5:\n",
    "    count=count+1\n",
    "    print(count,'번째 바퀴입니다')\n",
    "print('경주 끝!')"
   ]
  },
  {
   "cell_type": "code",
   "execution_count": 6,
   "metadata": {},
   "outputs": [
    {
     "name": "stdout",
     "output_type": "stream",
     "text": [
      "이름이 뭔가요? 남준\n",
      "남준 안녕!\n"
     ]
    }
   ],
   "source": [
    "name=input('이름이 뭔가요? ')#입력을 받음\n",
    "print(name,'안녕!')"
   ]
  },
  {
   "cell_type": "code",
   "execution_count": 1,
   "metadata": {},
   "outputs": [
    {
     "name": "stdout",
     "output_type": "stream",
     "text": [
      "영국의 수도는 어디일까요?파리\n",
      "영국의 수도는 어디일까요?서울\n",
      "영국의 수도는 어디일까요?런던\n",
      "정답입니다.\n"
     ]
    }
   ],
   "source": [
    "answer=''\n",
    "while answer !='런던':\n",
    "    answer=input('영국의 수도는 어디일까요?')\n",
    "print('정답입니다.')"
   ]
  },
  {
   "cell_type": "code",
   "execution_count": 2,
   "metadata": {},
   "outputs": [
    {
     "name": "stdout",
     "output_type": "stream",
     "text": [
      "1\n",
      "3\n"
     ]
    }
   ],
   "source": [
    "count=0\n",
    "while count<3:\n",
    "    count=count+1\n",
    "    if count==2:\n",
    "        continue #맞을 경우에 지속(2일 때 넘어감)\n",
    "    print(count)"
   ]
  },
  {
   "cell_type": "code",
   "execution_count": 3,
   "metadata": {},
   "outputs": [
    {
     "name": "stdout",
     "output_type": "stream",
     "text": [
      "1\n"
     ]
    }
   ],
   "source": [
    "count=0\n",
    "while count<3:\n",
    "    count=count+1\n",
    "    if count==2:\n",
    "        break #맞을 시 멈춤\n",
    "    print(count)"
   ]
  },
  {
   "cell_type": "code",
   "execution_count": null,
   "metadata": {},
   "outputs": [],
   "source": [
    "while True:\n",
    "    print('Ctrl+C를 누르세요.')"
   ]
  },
  {
   "cell_type": "code",
   "execution_count": null,
   "metadata": {},
   "outputs": [],
   "source": []
  }
 ],
 "metadata": {
  "kernelspec": {
   "display_name": "Python 3",
   "language": "python",
   "name": "python3"
  },
  "language_info": {
   "codemirror_mode": {
    "name": "ipython",
    "version": 3
   },
   "file_extension": ".py",
   "mimetype": "text/x-python",
   "name": "python",
   "nbconvert_exporter": "python",
   "pygments_lexer": "ipython3",
   "version": "3.7.3"
  }
 },
 "nbformat": 4,
 "nbformat_minor": 2
}
